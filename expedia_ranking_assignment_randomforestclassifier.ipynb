{
  "cells": [
    {
      "cell_type": "markdown",
      "metadata": {
        "id": "view-in-github",
        "colab_type": "text"
      },
      "source": [
        "<a href=\"https://colab.research.google.com/github/RedForOne/cs230-code-examples/blob/master/expedia_ranking_assignment_randomforestclassifier.ipynb\" target=\"_parent\"><img src=\"https://colab.research.google.com/assets/colab-badge.svg\" alt=\"Open In Colab\"/></a>"
      ]
    },
    {
      "cell_type": "code",
      "execution_count": 6,
      "id": "06d13ab1",
      "metadata": {
        "id": "06d13ab1"
      },
      "outputs": [],
      "source": [
        "import pandas as pd \n",
        "import numpy as np \n",
        "import matplotlib.pyplot as plt \n",
        "import seaborn as sns \n",
        "\n",
        "\n",
        "\n"
      ]
    },
    {
      "cell_type": "code",
      "execution_count": 9,
      "id": "908e65ec",
      "metadata": {
        "colab": {
          "base_uri": "https://localhost:8080/"
        },
        "id": "908e65ec",
        "outputId": "065d6a2d-804d-4c55-b902-731f3b0da2ed"
      },
      "outputs": [
        {
          "output_type": "stream",
          "name": "stdout",
          "text": [
            "   srch_id            date_time  site_id  visitor_location_country_id  \\\n",
            "0        1  2013-04-04 08:32:15       12                          187   \n",
            "1        1  2013-04-04 08:32:15       12                          187   \n",
            "2        1  2013-04-04 08:32:15       12                          187   \n",
            "3        1  2013-04-04 08:32:15       12                          187   \n",
            "4        1  2013-04-04 08:32:15       12                          187   \n",
            "\n",
            "   visitor_hist_starrating  visitor_hist_adr_usd  prop_country_id  prop_id  \\\n",
            "0                      NaN                   NaN              219      893   \n",
            "1                      NaN                   NaN              219    10404   \n",
            "2                      NaN                   NaN              219    21315   \n",
            "3                      NaN                   NaN              219    27348   \n",
            "4                      NaN                   NaN              219    29604   \n",
            "\n",
            "   prop_starrating  prop_review_score  ...  comp6_rate_percent_diff  \\\n",
            "0                3                3.5  ...                      NaN   \n",
            "1                4                4.0  ...                      NaN   \n",
            "2                3                4.5  ...                      NaN   \n",
            "3                2                4.0  ...                      NaN   \n",
            "4                4                3.5  ...                      NaN   \n",
            "\n",
            "   comp7_rate  comp7_inv  comp7_rate_percent_diff  comp8_rate  comp8_inv  \\\n",
            "0         NaN        NaN                      NaN         0.0        0.0   \n",
            "1         NaN        NaN                      NaN         0.0        0.0   \n",
            "2         NaN        NaN                      NaN         0.0        0.0   \n",
            "3         NaN        NaN                      NaN        -1.0        0.0   \n",
            "4         NaN        NaN                      NaN         0.0        0.0   \n",
            "\n",
            "   comp8_rate_percent_diff  click_bool  gross_bookings_usd  booking_bool  \n",
            "0                      NaN         0.0                 NaN           0.0  \n",
            "1                      NaN         0.0                 NaN           0.0  \n",
            "2                      NaN         0.0                 NaN           0.0  \n",
            "3                      5.0         0.0                 NaN           0.0  \n",
            "4                      NaN         0.0                 NaN           0.0  \n",
            "\n",
            "[5 rows x 54 columns]\n"
          ]
        }
      ],
      "source": [
        "train = pd.read_csv(\"training_set_VU_DM.csv\") \n",
        "\n",
        "\n",
        "print(train.head())\n",
        "# we can see that there are a lot of non existing numeric values  \n",
        "#these values are more of non existing or empty values \n",
        "# we convert it to a numerical value "
      ]
    },
    {
      "cell_type": "code",
      "execution_count": 10,
      "id": "a10c361d",
      "metadata": {
        "id": "a10c361d",
        "colab": {
          "base_uri": "https://localhost:8080/"
        },
        "outputId": "f870a8b2-4323-40a6-a623-629bd07ee8a1"
      },
      "outputs": [
        {
          "output_type": "execute_result",
          "data": {
            "text/plain": [
              "0        True\n",
              "1        True\n",
              "2        True\n",
              "3        True\n",
              "4        True\n",
              "         ... \n",
              "78489    True\n",
              "78490    True\n",
              "78491    True\n",
              "78492    True\n",
              "78493    True\n",
              "Length: 78494, dtype: bool"
            ]
          },
          "metadata": {},
          "execution_count": 10
        }
      ],
      "source": [
        "# checking for empty values\n",
        "\n",
        "train.isnull().any(axis=1) \n",
        "\n",
        "\n"
      ]
    },
    {
      "cell_type": "code",
      "source": [
        "from google.colab import drive\n",
        "drive.mount('/content/drive')"
      ],
      "metadata": {
        "id": "RqNp-hayFfxM",
        "colab": {
          "base_uri": "https://localhost:8080/",
          "height": 346
        },
        "outputId": "a4ae8858-c3e7-40ca-a2ee-f14b21032097"
      },
      "id": "RqNp-hayFfxM",
      "execution_count": 11,
      "outputs": [
        {
          "output_type": "error",
          "ename": "MessageError",
          "evalue": "ignored",
          "traceback": [
            "\u001b[0;31m---------------------------------------------------------------------------\u001b[0m",
            "\u001b[0;31mMessageError\u001b[0m                              Traceback (most recent call last)",
            "\u001b[0;32m<ipython-input-11-d5df0069828e>\u001b[0m in \u001b[0;36m<module>\u001b[0;34m()\u001b[0m\n\u001b[1;32m      1\u001b[0m \u001b[0;32mfrom\u001b[0m \u001b[0mgoogle\u001b[0m\u001b[0;34m.\u001b[0m\u001b[0mcolab\u001b[0m \u001b[0;32mimport\u001b[0m \u001b[0mdrive\u001b[0m\u001b[0;34m\u001b[0m\u001b[0;34m\u001b[0m\u001b[0m\n\u001b[0;32m----> 2\u001b[0;31m \u001b[0mdrive\u001b[0m\u001b[0;34m.\u001b[0m\u001b[0mmount\u001b[0m\u001b[0;34m(\u001b[0m\u001b[0;34m'/content/drive'\u001b[0m\u001b[0;34m)\u001b[0m\u001b[0;34m\u001b[0m\u001b[0;34m\u001b[0m\u001b[0m\n\u001b[0m",
            "\u001b[0;32m/usr/local/lib/python3.7/dist-packages/google/colab/drive.py\u001b[0m in \u001b[0;36mmount\u001b[0;34m(mountpoint, force_remount, timeout_ms)\u001b[0m\n\u001b[1;32m    107\u001b[0m       \u001b[0mforce_remount\u001b[0m\u001b[0;34m=\u001b[0m\u001b[0mforce_remount\u001b[0m\u001b[0;34m,\u001b[0m\u001b[0;34m\u001b[0m\u001b[0;34m\u001b[0m\u001b[0m\n\u001b[1;32m    108\u001b[0m       \u001b[0mtimeout_ms\u001b[0m\u001b[0;34m=\u001b[0m\u001b[0mtimeout_ms\u001b[0m\u001b[0;34m,\u001b[0m\u001b[0;34m\u001b[0m\u001b[0;34m\u001b[0m\u001b[0m\n\u001b[0;32m--> 109\u001b[0;31m       ephemeral=True)\n\u001b[0m\u001b[1;32m    110\u001b[0m \u001b[0;34m\u001b[0m\u001b[0m\n\u001b[1;32m    111\u001b[0m \u001b[0;34m\u001b[0m\u001b[0m\n",
            "\u001b[0;32m/usr/local/lib/python3.7/dist-packages/google/colab/drive.py\u001b[0m in \u001b[0;36m_mount\u001b[0;34m(mountpoint, force_remount, timeout_ms, ephemeral)\u001b[0m\n\u001b[1;32m    122\u001b[0m   \u001b[0;32mif\u001b[0m \u001b[0mephemeral\u001b[0m\u001b[0;34m:\u001b[0m\u001b[0;34m\u001b[0m\u001b[0;34m\u001b[0m\u001b[0m\n\u001b[1;32m    123\u001b[0m     _message.blocking_request(\n\u001b[0;32m--> 124\u001b[0;31m         'request_auth', request={'authType': 'dfs_ephemeral'}, timeout_sec=None)\n\u001b[0m\u001b[1;32m    125\u001b[0m \u001b[0;34m\u001b[0m\u001b[0m\n\u001b[1;32m    126\u001b[0m   \u001b[0mmountpoint\u001b[0m \u001b[0;34m=\u001b[0m \u001b[0m_os\u001b[0m\u001b[0;34m.\u001b[0m\u001b[0mpath\u001b[0m\u001b[0;34m.\u001b[0m\u001b[0mexpanduser\u001b[0m\u001b[0;34m(\u001b[0m\u001b[0mmountpoint\u001b[0m\u001b[0;34m)\u001b[0m\u001b[0;34m\u001b[0m\u001b[0;34m\u001b[0m\u001b[0m\n",
            "\u001b[0;32m/usr/local/lib/python3.7/dist-packages/google/colab/_message.py\u001b[0m in \u001b[0;36mblocking_request\u001b[0;34m(request_type, request, timeout_sec, parent)\u001b[0m\n\u001b[1;32m    173\u001b[0m   request_id = send_request(\n\u001b[1;32m    174\u001b[0m       request_type, request, parent=parent, expect_reply=True)\n\u001b[0;32m--> 175\u001b[0;31m   \u001b[0;32mreturn\u001b[0m \u001b[0mread_reply_from_input\u001b[0m\u001b[0;34m(\u001b[0m\u001b[0mrequest_id\u001b[0m\u001b[0;34m,\u001b[0m \u001b[0mtimeout_sec\u001b[0m\u001b[0;34m)\u001b[0m\u001b[0;34m\u001b[0m\u001b[0;34m\u001b[0m\u001b[0m\n\u001b[0m",
            "\u001b[0;32m/usr/local/lib/python3.7/dist-packages/google/colab/_message.py\u001b[0m in \u001b[0;36mread_reply_from_input\u001b[0;34m(message_id, timeout_sec)\u001b[0m\n\u001b[1;32m    104\u001b[0m         reply.get('colab_msg_id') == message_id):\n\u001b[1;32m    105\u001b[0m       \u001b[0;32mif\u001b[0m \u001b[0;34m'error'\u001b[0m \u001b[0;32min\u001b[0m \u001b[0mreply\u001b[0m\u001b[0;34m:\u001b[0m\u001b[0;34m\u001b[0m\u001b[0;34m\u001b[0m\u001b[0m\n\u001b[0;32m--> 106\u001b[0;31m         \u001b[0;32mraise\u001b[0m \u001b[0mMessageError\u001b[0m\u001b[0;34m(\u001b[0m\u001b[0mreply\u001b[0m\u001b[0;34m[\u001b[0m\u001b[0;34m'error'\u001b[0m\u001b[0;34m]\u001b[0m\u001b[0;34m)\u001b[0m\u001b[0;34m\u001b[0m\u001b[0;34m\u001b[0m\u001b[0m\n\u001b[0m\u001b[1;32m    107\u001b[0m       \u001b[0;32mreturn\u001b[0m \u001b[0mreply\u001b[0m\u001b[0;34m.\u001b[0m\u001b[0mget\u001b[0m\u001b[0;34m(\u001b[0m\u001b[0;34m'data'\u001b[0m\u001b[0;34m,\u001b[0m \u001b[0;32mNone\u001b[0m\u001b[0;34m)\u001b[0m\u001b[0;34m\u001b[0m\u001b[0;34m\u001b[0m\u001b[0m\n\u001b[1;32m    108\u001b[0m \u001b[0;34m\u001b[0m\u001b[0m\n",
            "\u001b[0;31mMessageError\u001b[0m: Error: credential propagation was unsuccessful"
          ]
        }
      ]
    },
    {
      "cell_type": "code",
      "execution_count": 12,
      "id": "caed16c4",
      "metadata": {
        "id": "caed16c4",
        "colab": {
          "base_uri": "https://localhost:8080/",
          "height": 488
        },
        "outputId": "c48a711d-2118-4161-a9a8-5bf37db764b8"
      },
      "outputs": [
        {
          "output_type": "execute_result",
          "data": {
            "text/plain": [
              "       srch_id  date_time  site_id  visitor_location_country_id  \\\n",
              "0        False      False    False                        False   \n",
              "1        False      False    False                        False   \n",
              "2        False      False    False                        False   \n",
              "3        False      False    False                        False   \n",
              "4        False      False    False                        False   \n",
              "...        ...        ...      ...                          ...   \n",
              "78489    False      False    False                        False   \n",
              "78490    False      False    False                        False   \n",
              "78491    False      False    False                        False   \n",
              "78492    False      False    False                        False   \n",
              "78493    False      False    False                        False   \n",
              "\n",
              "       visitor_hist_starrating  visitor_hist_adr_usd  prop_country_id  \\\n",
              "0                         True                  True            False   \n",
              "1                         True                  True            False   \n",
              "2                         True                  True            False   \n",
              "3                         True                  True            False   \n",
              "4                         True                  True            False   \n",
              "...                        ...                   ...              ...   \n",
              "78489                     True                  True            False   \n",
              "78490                     True                  True            False   \n",
              "78491                     True                  True            False   \n",
              "78492                     True                  True            False   \n",
              "78493                     True                  True            False   \n",
              "\n",
              "       prop_id  prop_starrating  prop_review_score  ...  \\\n",
              "0        False            False              False  ...   \n",
              "1        False            False              False  ...   \n",
              "2        False            False              False  ...   \n",
              "3        False            False              False  ...   \n",
              "4        False            False              False  ...   \n",
              "...        ...              ...                ...  ...   \n",
              "78489    False            False              False  ...   \n",
              "78490    False            False              False  ...   \n",
              "78491    False            False              False  ...   \n",
              "78492    False            False              False  ...   \n",
              "78493    False            False              False  ...   \n",
              "\n",
              "       comp6_rate_percent_diff  comp7_rate  comp7_inv  \\\n",
              "0                         True        True       True   \n",
              "1                         True        True       True   \n",
              "2                         True        True       True   \n",
              "3                         True        True       True   \n",
              "4                         True        True       True   \n",
              "...                        ...         ...        ...   \n",
              "78489                    False       False      False   \n",
              "78490                    False       False      False   \n",
              "78491                     True       False      False   \n",
              "78492                     True        True       True   \n",
              "78493                     True        True       True   \n",
              "\n",
              "       comp7_rate_percent_diff  comp8_rate  comp8_inv  \\\n",
              "0                         True       False      False   \n",
              "1                         True       False      False   \n",
              "2                         True       False      False   \n",
              "3                         True       False      False   \n",
              "4                         True       False      False   \n",
              "...                        ...         ...        ...   \n",
              "78489                    False        True       True   \n",
              "78490                    False        True       True   \n",
              "78491                     True        True       True   \n",
              "78492                     True        True       True   \n",
              "78493                     True        True       True   \n",
              "\n",
              "       comp8_rate_percent_diff  click_bool  gross_bookings_usd  booking_bool  \n",
              "0                         True       False                True         False  \n",
              "1                         True       False                True         False  \n",
              "2                         True       False                True         False  \n",
              "3                        False       False                True         False  \n",
              "4                         True       False                True         False  \n",
              "...                        ...         ...                 ...           ...  \n",
              "78489                     True       False                True         False  \n",
              "78490                     True       False                True         False  \n",
              "78491                     True       False                True         False  \n",
              "78492                     True       False                True         False  \n",
              "78493                     True        True                True          True  \n",
              "\n",
              "[78494 rows x 54 columns]"
            ],
            "text/html": [
              "\n",
              "  <div id=\"df-5b75864f-a5a7-4a42-9f6d-6f130f7be8d8\">\n",
              "    <div class=\"colab-df-container\">\n",
              "      <div>\n",
              "<style scoped>\n",
              "    .dataframe tbody tr th:only-of-type {\n",
              "        vertical-align: middle;\n",
              "    }\n",
              "\n",
              "    .dataframe tbody tr th {\n",
              "        vertical-align: top;\n",
              "    }\n",
              "\n",
              "    .dataframe thead th {\n",
              "        text-align: right;\n",
              "    }\n",
              "</style>\n",
              "<table border=\"1\" class=\"dataframe\">\n",
              "  <thead>\n",
              "    <tr style=\"text-align: right;\">\n",
              "      <th></th>\n",
              "      <th>srch_id</th>\n",
              "      <th>date_time</th>\n",
              "      <th>site_id</th>\n",
              "      <th>visitor_location_country_id</th>\n",
              "      <th>visitor_hist_starrating</th>\n",
              "      <th>visitor_hist_adr_usd</th>\n",
              "      <th>prop_country_id</th>\n",
              "      <th>prop_id</th>\n",
              "      <th>prop_starrating</th>\n",
              "      <th>prop_review_score</th>\n",
              "      <th>...</th>\n",
              "      <th>comp6_rate_percent_diff</th>\n",
              "      <th>comp7_rate</th>\n",
              "      <th>comp7_inv</th>\n",
              "      <th>comp7_rate_percent_diff</th>\n",
              "      <th>comp8_rate</th>\n",
              "      <th>comp8_inv</th>\n",
              "      <th>comp8_rate_percent_diff</th>\n",
              "      <th>click_bool</th>\n",
              "      <th>gross_bookings_usd</th>\n",
              "      <th>booking_bool</th>\n",
              "    </tr>\n",
              "  </thead>\n",
              "  <tbody>\n",
              "    <tr>\n",
              "      <th>0</th>\n",
              "      <td>False</td>\n",
              "      <td>False</td>\n",
              "      <td>False</td>\n",
              "      <td>False</td>\n",
              "      <td>True</td>\n",
              "      <td>True</td>\n",
              "      <td>False</td>\n",
              "      <td>False</td>\n",
              "      <td>False</td>\n",
              "      <td>False</td>\n",
              "      <td>...</td>\n",
              "      <td>True</td>\n",
              "      <td>True</td>\n",
              "      <td>True</td>\n",
              "      <td>True</td>\n",
              "      <td>False</td>\n",
              "      <td>False</td>\n",
              "      <td>True</td>\n",
              "      <td>False</td>\n",
              "      <td>True</td>\n",
              "      <td>False</td>\n",
              "    </tr>\n",
              "    <tr>\n",
              "      <th>1</th>\n",
              "      <td>False</td>\n",
              "      <td>False</td>\n",
              "      <td>False</td>\n",
              "      <td>False</td>\n",
              "      <td>True</td>\n",
              "      <td>True</td>\n",
              "      <td>False</td>\n",
              "      <td>False</td>\n",
              "      <td>False</td>\n",
              "      <td>False</td>\n",
              "      <td>...</td>\n",
              "      <td>True</td>\n",
              "      <td>True</td>\n",
              "      <td>True</td>\n",
              "      <td>True</td>\n",
              "      <td>False</td>\n",
              "      <td>False</td>\n",
              "      <td>True</td>\n",
              "      <td>False</td>\n",
              "      <td>True</td>\n",
              "      <td>False</td>\n",
              "    </tr>\n",
              "    <tr>\n",
              "      <th>2</th>\n",
              "      <td>False</td>\n",
              "      <td>False</td>\n",
              "      <td>False</td>\n",
              "      <td>False</td>\n",
              "      <td>True</td>\n",
              "      <td>True</td>\n",
              "      <td>False</td>\n",
              "      <td>False</td>\n",
              "      <td>False</td>\n",
              "      <td>False</td>\n",
              "      <td>...</td>\n",
              "      <td>True</td>\n",
              "      <td>True</td>\n",
              "      <td>True</td>\n",
              "      <td>True</td>\n",
              "      <td>False</td>\n",
              "      <td>False</td>\n",
              "      <td>True</td>\n",
              "      <td>False</td>\n",
              "      <td>True</td>\n",
              "      <td>False</td>\n",
              "    </tr>\n",
              "    <tr>\n",
              "      <th>3</th>\n",
              "      <td>False</td>\n",
              "      <td>False</td>\n",
              "      <td>False</td>\n",
              "      <td>False</td>\n",
              "      <td>True</td>\n",
              "      <td>True</td>\n",
              "      <td>False</td>\n",
              "      <td>False</td>\n",
              "      <td>False</td>\n",
              "      <td>False</td>\n",
              "      <td>...</td>\n",
              "      <td>True</td>\n",
              "      <td>True</td>\n",
              "      <td>True</td>\n",
              "      <td>True</td>\n",
              "      <td>False</td>\n",
              "      <td>False</td>\n",
              "      <td>False</td>\n",
              "      <td>False</td>\n",
              "      <td>True</td>\n",
              "      <td>False</td>\n",
              "    </tr>\n",
              "    <tr>\n",
              "      <th>4</th>\n",
              "      <td>False</td>\n",
              "      <td>False</td>\n",
              "      <td>False</td>\n",
              "      <td>False</td>\n",
              "      <td>True</td>\n",
              "      <td>True</td>\n",
              "      <td>False</td>\n",
              "      <td>False</td>\n",
              "      <td>False</td>\n",
              "      <td>False</td>\n",
              "      <td>...</td>\n",
              "      <td>True</td>\n",
              "      <td>True</td>\n",
              "      <td>True</td>\n",
              "      <td>True</td>\n",
              "      <td>False</td>\n",
              "      <td>False</td>\n",
              "      <td>True</td>\n",
              "      <td>False</td>\n",
              "      <td>True</td>\n",
              "      <td>False</td>\n",
              "    </tr>\n",
              "    <tr>\n",
              "      <th>...</th>\n",
              "      <td>...</td>\n",
              "      <td>...</td>\n",
              "      <td>...</td>\n",
              "      <td>...</td>\n",
              "      <td>...</td>\n",
              "      <td>...</td>\n",
              "      <td>...</td>\n",
              "      <td>...</td>\n",
              "      <td>...</td>\n",
              "      <td>...</td>\n",
              "      <td>...</td>\n",
              "      <td>...</td>\n",
              "      <td>...</td>\n",
              "      <td>...</td>\n",
              "      <td>...</td>\n",
              "      <td>...</td>\n",
              "      <td>...</td>\n",
              "      <td>...</td>\n",
              "      <td>...</td>\n",
              "      <td>...</td>\n",
              "      <td>...</td>\n",
              "    </tr>\n",
              "    <tr>\n",
              "      <th>78489</th>\n",
              "      <td>False</td>\n",
              "      <td>False</td>\n",
              "      <td>False</td>\n",
              "      <td>False</td>\n",
              "      <td>True</td>\n",
              "      <td>True</td>\n",
              "      <td>False</td>\n",
              "      <td>False</td>\n",
              "      <td>False</td>\n",
              "      <td>False</td>\n",
              "      <td>...</td>\n",
              "      <td>False</td>\n",
              "      <td>False</td>\n",
              "      <td>False</td>\n",
              "      <td>False</td>\n",
              "      <td>True</td>\n",
              "      <td>True</td>\n",
              "      <td>True</td>\n",
              "      <td>False</td>\n",
              "      <td>True</td>\n",
              "      <td>False</td>\n",
              "    </tr>\n",
              "    <tr>\n",
              "      <th>78490</th>\n",
              "      <td>False</td>\n",
              "      <td>False</td>\n",
              "      <td>False</td>\n",
              "      <td>False</td>\n",
              "      <td>True</td>\n",
              "      <td>True</td>\n",
              "      <td>False</td>\n",
              "      <td>False</td>\n",
              "      <td>False</td>\n",
              "      <td>False</td>\n",
              "      <td>...</td>\n",
              "      <td>False</td>\n",
              "      <td>False</td>\n",
              "      <td>False</td>\n",
              "      <td>False</td>\n",
              "      <td>True</td>\n",
              "      <td>True</td>\n",
              "      <td>True</td>\n",
              "      <td>False</td>\n",
              "      <td>True</td>\n",
              "      <td>False</td>\n",
              "    </tr>\n",
              "    <tr>\n",
              "      <th>78491</th>\n",
              "      <td>False</td>\n",
              "      <td>False</td>\n",
              "      <td>False</td>\n",
              "      <td>False</td>\n",
              "      <td>True</td>\n",
              "      <td>True</td>\n",
              "      <td>False</td>\n",
              "      <td>False</td>\n",
              "      <td>False</td>\n",
              "      <td>False</td>\n",
              "      <td>...</td>\n",
              "      <td>True</td>\n",
              "      <td>False</td>\n",
              "      <td>False</td>\n",
              "      <td>True</td>\n",
              "      <td>True</td>\n",
              "      <td>True</td>\n",
              "      <td>True</td>\n",
              "      <td>False</td>\n",
              "      <td>True</td>\n",
              "      <td>False</td>\n",
              "    </tr>\n",
              "    <tr>\n",
              "      <th>78492</th>\n",
              "      <td>False</td>\n",
              "      <td>False</td>\n",
              "      <td>False</td>\n",
              "      <td>False</td>\n",
              "      <td>True</td>\n",
              "      <td>True</td>\n",
              "      <td>False</td>\n",
              "      <td>False</td>\n",
              "      <td>False</td>\n",
              "      <td>False</td>\n",
              "      <td>...</td>\n",
              "      <td>True</td>\n",
              "      <td>True</td>\n",
              "      <td>True</td>\n",
              "      <td>True</td>\n",
              "      <td>True</td>\n",
              "      <td>True</td>\n",
              "      <td>True</td>\n",
              "      <td>False</td>\n",
              "      <td>True</td>\n",
              "      <td>False</td>\n",
              "    </tr>\n",
              "    <tr>\n",
              "      <th>78493</th>\n",
              "      <td>False</td>\n",
              "      <td>False</td>\n",
              "      <td>False</td>\n",
              "      <td>False</td>\n",
              "      <td>True</td>\n",
              "      <td>True</td>\n",
              "      <td>False</td>\n",
              "      <td>False</td>\n",
              "      <td>False</td>\n",
              "      <td>False</td>\n",
              "      <td>...</td>\n",
              "      <td>True</td>\n",
              "      <td>True</td>\n",
              "      <td>True</td>\n",
              "      <td>True</td>\n",
              "      <td>True</td>\n",
              "      <td>True</td>\n",
              "      <td>True</td>\n",
              "      <td>True</td>\n",
              "      <td>True</td>\n",
              "      <td>True</td>\n",
              "    </tr>\n",
              "  </tbody>\n",
              "</table>\n",
              "<p>78494 rows × 54 columns</p>\n",
              "</div>\n",
              "      <button class=\"colab-df-convert\" onclick=\"convertToInteractive('df-5b75864f-a5a7-4a42-9f6d-6f130f7be8d8')\"\n",
              "              title=\"Convert this dataframe to an interactive table.\"\n",
              "              style=\"display:none;\">\n",
              "        \n",
              "  <svg xmlns=\"http://www.w3.org/2000/svg\" height=\"24px\"viewBox=\"0 0 24 24\"\n",
              "       width=\"24px\">\n",
              "    <path d=\"M0 0h24v24H0V0z\" fill=\"none\"/>\n",
              "    <path d=\"M18.56 5.44l.94 2.06.94-2.06 2.06-.94-2.06-.94-.94-2.06-.94 2.06-2.06.94zm-11 1L8.5 8.5l.94-2.06 2.06-.94-2.06-.94L8.5 2.5l-.94 2.06-2.06.94zm10 10l.94 2.06.94-2.06 2.06-.94-2.06-.94-.94-2.06-.94 2.06-2.06.94z\"/><path d=\"M17.41 7.96l-1.37-1.37c-.4-.4-.92-.59-1.43-.59-.52 0-1.04.2-1.43.59L10.3 9.45l-7.72 7.72c-.78.78-.78 2.05 0 2.83L4 21.41c.39.39.9.59 1.41.59.51 0 1.02-.2 1.41-.59l7.78-7.78 2.81-2.81c.8-.78.8-2.07 0-2.86zM5.41 20L4 18.59l7.72-7.72 1.47 1.35L5.41 20z\"/>\n",
              "  </svg>\n",
              "      </button>\n",
              "      \n",
              "  <style>\n",
              "    .colab-df-container {\n",
              "      display:flex;\n",
              "      flex-wrap:wrap;\n",
              "      gap: 12px;\n",
              "    }\n",
              "\n",
              "    .colab-df-convert {\n",
              "      background-color: #E8F0FE;\n",
              "      border: none;\n",
              "      border-radius: 50%;\n",
              "      cursor: pointer;\n",
              "      display: none;\n",
              "      fill: #1967D2;\n",
              "      height: 32px;\n",
              "      padding: 0 0 0 0;\n",
              "      width: 32px;\n",
              "    }\n",
              "\n",
              "    .colab-df-convert:hover {\n",
              "      background-color: #E2EBFA;\n",
              "      box-shadow: 0px 1px 2px rgba(60, 64, 67, 0.3), 0px 1px 3px 1px rgba(60, 64, 67, 0.15);\n",
              "      fill: #174EA6;\n",
              "    }\n",
              "\n",
              "    [theme=dark] .colab-df-convert {\n",
              "      background-color: #3B4455;\n",
              "      fill: #D2E3FC;\n",
              "    }\n",
              "\n",
              "    [theme=dark] .colab-df-convert:hover {\n",
              "      background-color: #434B5C;\n",
              "      box-shadow: 0px 1px 3px 1px rgba(0, 0, 0, 0.15);\n",
              "      filter: drop-shadow(0px 1px 2px rgba(0, 0, 0, 0.3));\n",
              "      fill: #FFFFFF;\n",
              "    }\n",
              "  </style>\n",
              "\n",
              "      <script>\n",
              "        const buttonEl =\n",
              "          document.querySelector('#df-5b75864f-a5a7-4a42-9f6d-6f130f7be8d8 button.colab-df-convert');\n",
              "        buttonEl.style.display =\n",
              "          google.colab.kernel.accessAllowed ? 'block' : 'none';\n",
              "\n",
              "        async function convertToInteractive(key) {\n",
              "          const element = document.querySelector('#df-5b75864f-a5a7-4a42-9f6d-6f130f7be8d8');\n",
              "          const dataTable =\n",
              "            await google.colab.kernel.invokeFunction('convertToInteractive',\n",
              "                                                     [key], {});\n",
              "          if (!dataTable) return;\n",
              "\n",
              "          const docLinkHtml = 'Like what you see? Visit the ' +\n",
              "            '<a target=\"_blank\" href=https://colab.research.google.com/notebooks/data_table.ipynb>data table notebook</a>'\n",
              "            + ' to learn more about interactive tables.';\n",
              "          element.innerHTML = '';\n",
              "          dataTable['output_type'] = 'display_data';\n",
              "          await google.colab.output.renderOutput(dataTable, element);\n",
              "          const docLink = document.createElement('div');\n",
              "          docLink.innerHTML = docLinkHtml;\n",
              "          element.appendChild(docLink);\n",
              "        }\n",
              "      </script>\n",
              "    </div>\n",
              "  </div>\n",
              "  "
            ]
          },
          "metadata": {},
          "execution_count": 12
        }
      ],
      "source": [
        "train.isnull()"
      ]
    },
    {
      "cell_type": "code",
      "execution_count": 13,
      "id": "259c3f9a",
      "metadata": {
        "id": "259c3f9a",
        "colab": {
          "base_uri": "https://localhost:8080/"
        },
        "outputId": "635fdc77-5c16-4ab0-e983-eb7514e93e9a"
      },
      "outputs": [
        {
          "output_type": "stream",
          "name": "stdout",
          "text": [
            "visitor_hist_starrating      74114\n",
            "visitor_hist_adr_usd         74114\n",
            "prop_review_score              115\n",
            "prop_location_score1             1\n",
            "prop_location_score2         17248\n",
            "prop_log_historical_price        1\n",
            "position                         1\n",
            "price_usd                        1\n",
            "promotion_flag                   1\n",
            "srch_destination_id              1\n",
            "srch_length_of_stay              1\n",
            "srch_booking_window              1\n",
            "srch_adults_count                1\n",
            "srch_children_count              1\n",
            "srch_room_count                  1\n",
            "srch_saturday_night_bool         1\n",
            "srch_query_affinity_score    73473\n",
            "orig_destination_distance    24962\n",
            "random_bool                      1\n",
            "comp1_rate                   76653\n",
            "comp1_inv                    76512\n",
            "comp1_rate_percent_diff      77008\n",
            "comp2_rate                   46598\n",
            "comp2_inv                    45045\n",
            "comp2_rate_percent_diff      69687\n",
            "comp3_rate                   54268\n",
            "comp3_inv                    52382\n",
            "comp3_rate_percent_diff      71080\n",
            "comp4_rate                   73779\n",
            "comp4_inv                    73216\n",
            "comp4_rate_percent_diff      76561\n",
            "comp5_rate                   42846\n",
            "comp5_inv                    40802\n",
            "comp5_rate_percent_diff      65269\n",
            "comp6_rate                   74402\n",
            "comp6_inv                    74033\n",
            "comp6_rate_percent_diff      76918\n",
            "comp7_rate                   73202\n",
            "comp7_inv                    72541\n",
            "comp7_rate_percent_diff      76148\n",
            "comp8_rate                   48053\n",
            "comp8_inv                    46909\n",
            "comp8_rate_percent_diff      68748\n",
            "click_bool                       1\n",
            "gross_bookings_usd           76320\n",
            "booking_bool                     1\n",
            "dtype: int64\n"
          ]
        }
      ],
      "source": [
        "\n",
        "missing_values = train.isnull().sum()  \n",
        "print(missing_values[missing_values > 0])\n",
        "      "
      ]
    },
    {
      "cell_type": "code",
      "execution_count": 14,
      "id": "388525bf",
      "metadata": {
        "id": "388525bf",
        "colab": {
          "base_uri": "https://localhost:8080/",
          "height": 505
        },
        "outputId": "05993b3c-1518-4770-8c33-e24537de9b2c"
      },
      "outputs": [
        {
          "output_type": "execute_result",
          "data": {
            "text/plain": [
              "             srch_id            date_time       site_id  \\\n",
              "count   78494.000000                78494  78494.000000   \n",
              "unique           NaN                 3170           NaN   \n",
              "top              NaN  2013-03-03 19:26:40           NaN   \n",
              "freq             NaN                   63           NaN   \n",
              "mean     2626.396170                  NaN      9.851657   \n",
              "std      1500.052959                  NaN      7.603376   \n",
              "min         1.000000                  NaN      1.000000   \n",
              "25%      1326.000000                  NaN      5.000000   \n",
              "50%      2607.000000                  NaN      5.000000   \n",
              "75%      3921.000000                  NaN     14.000000   \n",
              "max      5251.000000                  NaN     34.000000   \n",
              "\n",
              "        visitor_location_country_id  visitor_hist_starrating  \\\n",
              "count                  78494.000000              4380.000000   \n",
              "unique                          NaN                      NaN   \n",
              "top                             NaN                      NaN   \n",
              "freq                            NaN                      NaN   \n",
              "mean                     175.260173                 3.422648   \n",
              "std                       66.508916                 0.671788   \n",
              "min                        2.000000                 1.670000   \n",
              "25%                      100.000000                 3.000000   \n",
              "50%                      219.000000                 3.500000   \n",
              "75%                      219.000000                 4.000000   \n",
              "max                      229.000000                 5.000000   \n",
              "\n",
              "        visitor_hist_adr_usd  prop_country_id        prop_id  prop_starrating  \\\n",
              "count            4380.000000     78494.000000   78494.000000     78494.000000   \n",
              "unique                   NaN              NaN            NaN              NaN   \n",
              "top                      NaN              NaN            NaN              NaN   \n",
              "freq                     NaN              NaN            NaN              NaN   \n",
              "mean              190.927377       173.300329   70308.903687         3.210118   \n",
              "std               103.178210        68.900133   40613.709721         1.047771   \n",
              "min                36.910000         2.000000       1.000000         0.000000   \n",
              "25%               123.120000       100.000000   35204.000000         3.000000   \n",
              "50%               170.860000       219.000000   70078.000000         3.000000   \n",
              "75%               236.390000       219.000000  105403.000000         4.000000   \n",
              "max               781.280000       230.000000  140816.000000         5.000000   \n",
              "\n",
              "        prop_review_score  ...  comp6_rate_percent_diff   comp7_rate  \\\n",
              "count        78379.000000  ...              1576.000000  5292.000000   \n",
              "unique                NaN  ...                      NaN          NaN   \n",
              "top                   NaN  ...                      NaN          NaN   \n",
              "freq                  NaN  ...                      NaN          NaN   \n",
              "mean             3.806504  ...                17.774112     0.143991   \n",
              "std              1.017993  ...                42.323078     0.582664   \n",
              "min              0.000000  ...                 2.000000    -1.000000   \n",
              "25%              3.500000  ...                 6.000000     0.000000   \n",
              "50%              4.000000  ...                11.000000     0.000000   \n",
              "75%              4.500000  ...                19.000000     1.000000   \n",
              "max              5.000000  ...              1058.000000     1.000000   \n",
              "\n",
              "          comp7_inv  comp7_rate_percent_diff    comp8_rate     comp8_inv  \\\n",
              "count   5953.000000              2346.000000  30441.000000  31585.000000   \n",
              "unique          NaN                      NaN           NaN           NaN   \n",
              "top             NaN                      NaN           NaN           NaN   \n",
              "freq            NaN                      NaN           NaN           NaN   \n",
              "mean       0.080128                20.904945     -0.059492      0.008137   \n",
              "std        0.312373                61.130619      0.471642      0.203262   \n",
              "min       -1.000000                 2.000000     -1.000000     -1.000000   \n",
              "25%        0.000000                 7.000000      0.000000      0.000000   \n",
              "50%        0.000000                11.000000      0.000000      0.000000   \n",
              "75%        0.000000                20.000000      0.000000      0.000000   \n",
              "max        1.000000              1461.000000      1.000000      1.000000   \n",
              "\n",
              "        comp8_rate_percent_diff    click_bool  gross_bookings_usd  \\\n",
              "count               9746.000000  78493.000000         2174.000000   \n",
              "unique                      NaN           NaN                 NaN   \n",
              "top                         NaN           NaN                 NaN   \n",
              "freq                        NaN           NaN                 NaN   \n",
              "mean                  20.607942      0.044756          388.632130   \n",
              "std                  562.185678      0.206768          547.313151   \n",
              "min                    2.000000      0.000000            5.450000   \n",
              "25%                    7.000000      0.000000          123.110000   \n",
              "50%                   11.000000      0.000000          221.640000   \n",
              "75%                   17.000000      0.000000          422.942500   \n",
              "max                55400.000000      1.000000         7854.030000   \n",
              "\n",
              "        booking_bool  \n",
              "count   78493.000000  \n",
              "unique           NaN  \n",
              "top              NaN  \n",
              "freq             NaN  \n",
              "mean        0.027697  \n",
              "std         0.164104  \n",
              "min         0.000000  \n",
              "25%         0.000000  \n",
              "50%         0.000000  \n",
              "75%         0.000000  \n",
              "max         1.000000  \n",
              "\n",
              "[11 rows x 54 columns]"
            ],
            "text/html": [
              "\n",
              "  <div id=\"df-8b7e5c94-875d-4810-b49d-fee7d3043810\">\n",
              "    <div class=\"colab-df-container\">\n",
              "      <div>\n",
              "<style scoped>\n",
              "    .dataframe tbody tr th:only-of-type {\n",
              "        vertical-align: middle;\n",
              "    }\n",
              "\n",
              "    .dataframe tbody tr th {\n",
              "        vertical-align: top;\n",
              "    }\n",
              "\n",
              "    .dataframe thead th {\n",
              "        text-align: right;\n",
              "    }\n",
              "</style>\n",
              "<table border=\"1\" class=\"dataframe\">\n",
              "  <thead>\n",
              "    <tr style=\"text-align: right;\">\n",
              "      <th></th>\n",
              "      <th>srch_id</th>\n",
              "      <th>date_time</th>\n",
              "      <th>site_id</th>\n",
              "      <th>visitor_location_country_id</th>\n",
              "      <th>visitor_hist_starrating</th>\n",
              "      <th>visitor_hist_adr_usd</th>\n",
              "      <th>prop_country_id</th>\n",
              "      <th>prop_id</th>\n",
              "      <th>prop_starrating</th>\n",
              "      <th>prop_review_score</th>\n",
              "      <th>...</th>\n",
              "      <th>comp6_rate_percent_diff</th>\n",
              "      <th>comp7_rate</th>\n",
              "      <th>comp7_inv</th>\n",
              "      <th>comp7_rate_percent_diff</th>\n",
              "      <th>comp8_rate</th>\n",
              "      <th>comp8_inv</th>\n",
              "      <th>comp8_rate_percent_diff</th>\n",
              "      <th>click_bool</th>\n",
              "      <th>gross_bookings_usd</th>\n",
              "      <th>booking_bool</th>\n",
              "    </tr>\n",
              "  </thead>\n",
              "  <tbody>\n",
              "    <tr>\n",
              "      <th>count</th>\n",
              "      <td>78494.000000</td>\n",
              "      <td>78494</td>\n",
              "      <td>78494.000000</td>\n",
              "      <td>78494.000000</td>\n",
              "      <td>4380.000000</td>\n",
              "      <td>4380.000000</td>\n",
              "      <td>78494.000000</td>\n",
              "      <td>78494.000000</td>\n",
              "      <td>78494.000000</td>\n",
              "      <td>78379.000000</td>\n",
              "      <td>...</td>\n",
              "      <td>1576.000000</td>\n",
              "      <td>5292.000000</td>\n",
              "      <td>5953.000000</td>\n",
              "      <td>2346.000000</td>\n",
              "      <td>30441.000000</td>\n",
              "      <td>31585.000000</td>\n",
              "      <td>9746.000000</td>\n",
              "      <td>78493.000000</td>\n",
              "      <td>2174.000000</td>\n",
              "      <td>78493.000000</td>\n",
              "    </tr>\n",
              "    <tr>\n",
              "      <th>unique</th>\n",
              "      <td>NaN</td>\n",
              "      <td>3170</td>\n",
              "      <td>NaN</td>\n",
              "      <td>NaN</td>\n",
              "      <td>NaN</td>\n",
              "      <td>NaN</td>\n",
              "      <td>NaN</td>\n",
              "      <td>NaN</td>\n",
              "      <td>NaN</td>\n",
              "      <td>NaN</td>\n",
              "      <td>...</td>\n",
              "      <td>NaN</td>\n",
              "      <td>NaN</td>\n",
              "      <td>NaN</td>\n",
              "      <td>NaN</td>\n",
              "      <td>NaN</td>\n",
              "      <td>NaN</td>\n",
              "      <td>NaN</td>\n",
              "      <td>NaN</td>\n",
              "      <td>NaN</td>\n",
              "      <td>NaN</td>\n",
              "    </tr>\n",
              "    <tr>\n",
              "      <th>top</th>\n",
              "      <td>NaN</td>\n",
              "      <td>2013-03-03 19:26:40</td>\n",
              "      <td>NaN</td>\n",
              "      <td>NaN</td>\n",
              "      <td>NaN</td>\n",
              "      <td>NaN</td>\n",
              "      <td>NaN</td>\n",
              "      <td>NaN</td>\n",
              "      <td>NaN</td>\n",
              "      <td>NaN</td>\n",
              "      <td>...</td>\n",
              "      <td>NaN</td>\n",
              "      <td>NaN</td>\n",
              "      <td>NaN</td>\n",
              "      <td>NaN</td>\n",
              "      <td>NaN</td>\n",
              "      <td>NaN</td>\n",
              "      <td>NaN</td>\n",
              "      <td>NaN</td>\n",
              "      <td>NaN</td>\n",
              "      <td>NaN</td>\n",
              "    </tr>\n",
              "    <tr>\n",
              "      <th>freq</th>\n",
              "      <td>NaN</td>\n",
              "      <td>63</td>\n",
              "      <td>NaN</td>\n",
              "      <td>NaN</td>\n",
              "      <td>NaN</td>\n",
              "      <td>NaN</td>\n",
              "      <td>NaN</td>\n",
              "      <td>NaN</td>\n",
              "      <td>NaN</td>\n",
              "      <td>NaN</td>\n",
              "      <td>...</td>\n",
              "      <td>NaN</td>\n",
              "      <td>NaN</td>\n",
              "      <td>NaN</td>\n",
              "      <td>NaN</td>\n",
              "      <td>NaN</td>\n",
              "      <td>NaN</td>\n",
              "      <td>NaN</td>\n",
              "      <td>NaN</td>\n",
              "      <td>NaN</td>\n",
              "      <td>NaN</td>\n",
              "    </tr>\n",
              "    <tr>\n",
              "      <th>mean</th>\n",
              "      <td>2626.396170</td>\n",
              "      <td>NaN</td>\n",
              "      <td>9.851657</td>\n",
              "      <td>175.260173</td>\n",
              "      <td>3.422648</td>\n",
              "      <td>190.927377</td>\n",
              "      <td>173.300329</td>\n",
              "      <td>70308.903687</td>\n",
              "      <td>3.210118</td>\n",
              "      <td>3.806504</td>\n",
              "      <td>...</td>\n",
              "      <td>17.774112</td>\n",
              "      <td>0.143991</td>\n",
              "      <td>0.080128</td>\n",
              "      <td>20.904945</td>\n",
              "      <td>-0.059492</td>\n",
              "      <td>0.008137</td>\n",
              "      <td>20.607942</td>\n",
              "      <td>0.044756</td>\n",
              "      <td>388.632130</td>\n",
              "      <td>0.027697</td>\n",
              "    </tr>\n",
              "    <tr>\n",
              "      <th>std</th>\n",
              "      <td>1500.052959</td>\n",
              "      <td>NaN</td>\n",
              "      <td>7.603376</td>\n",
              "      <td>66.508916</td>\n",
              "      <td>0.671788</td>\n",
              "      <td>103.178210</td>\n",
              "      <td>68.900133</td>\n",
              "      <td>40613.709721</td>\n",
              "      <td>1.047771</td>\n",
              "      <td>1.017993</td>\n",
              "      <td>...</td>\n",
              "      <td>42.323078</td>\n",
              "      <td>0.582664</td>\n",
              "      <td>0.312373</td>\n",
              "      <td>61.130619</td>\n",
              "      <td>0.471642</td>\n",
              "      <td>0.203262</td>\n",
              "      <td>562.185678</td>\n",
              "      <td>0.206768</td>\n",
              "      <td>547.313151</td>\n",
              "      <td>0.164104</td>\n",
              "    </tr>\n",
              "    <tr>\n",
              "      <th>min</th>\n",
              "      <td>1.000000</td>\n",
              "      <td>NaN</td>\n",
              "      <td>1.000000</td>\n",
              "      <td>2.000000</td>\n",
              "      <td>1.670000</td>\n",
              "      <td>36.910000</td>\n",
              "      <td>2.000000</td>\n",
              "      <td>1.000000</td>\n",
              "      <td>0.000000</td>\n",
              "      <td>0.000000</td>\n",
              "      <td>...</td>\n",
              "      <td>2.000000</td>\n",
              "      <td>-1.000000</td>\n",
              "      <td>-1.000000</td>\n",
              "      <td>2.000000</td>\n",
              "      <td>-1.000000</td>\n",
              "      <td>-1.000000</td>\n",
              "      <td>2.000000</td>\n",
              "      <td>0.000000</td>\n",
              "      <td>5.450000</td>\n",
              "      <td>0.000000</td>\n",
              "    </tr>\n",
              "    <tr>\n",
              "      <th>25%</th>\n",
              "      <td>1326.000000</td>\n",
              "      <td>NaN</td>\n",
              "      <td>5.000000</td>\n",
              "      <td>100.000000</td>\n",
              "      <td>3.000000</td>\n",
              "      <td>123.120000</td>\n",
              "      <td>100.000000</td>\n",
              "      <td>35204.000000</td>\n",
              "      <td>3.000000</td>\n",
              "      <td>3.500000</td>\n",
              "      <td>...</td>\n",
              "      <td>6.000000</td>\n",
              "      <td>0.000000</td>\n",
              "      <td>0.000000</td>\n",
              "      <td>7.000000</td>\n",
              "      <td>0.000000</td>\n",
              "      <td>0.000000</td>\n",
              "      <td>7.000000</td>\n",
              "      <td>0.000000</td>\n",
              "      <td>123.110000</td>\n",
              "      <td>0.000000</td>\n",
              "    </tr>\n",
              "    <tr>\n",
              "      <th>50%</th>\n",
              "      <td>2607.000000</td>\n",
              "      <td>NaN</td>\n",
              "      <td>5.000000</td>\n",
              "      <td>219.000000</td>\n",
              "      <td>3.500000</td>\n",
              "      <td>170.860000</td>\n",
              "      <td>219.000000</td>\n",
              "      <td>70078.000000</td>\n",
              "      <td>3.000000</td>\n",
              "      <td>4.000000</td>\n",
              "      <td>...</td>\n",
              "      <td>11.000000</td>\n",
              "      <td>0.000000</td>\n",
              "      <td>0.000000</td>\n",
              "      <td>11.000000</td>\n",
              "      <td>0.000000</td>\n",
              "      <td>0.000000</td>\n",
              "      <td>11.000000</td>\n",
              "      <td>0.000000</td>\n",
              "      <td>221.640000</td>\n",
              "      <td>0.000000</td>\n",
              "    </tr>\n",
              "    <tr>\n",
              "      <th>75%</th>\n",
              "      <td>3921.000000</td>\n",
              "      <td>NaN</td>\n",
              "      <td>14.000000</td>\n",
              "      <td>219.000000</td>\n",
              "      <td>4.000000</td>\n",
              "      <td>236.390000</td>\n",
              "      <td>219.000000</td>\n",
              "      <td>105403.000000</td>\n",
              "      <td>4.000000</td>\n",
              "      <td>4.500000</td>\n",
              "      <td>...</td>\n",
              "      <td>19.000000</td>\n",
              "      <td>1.000000</td>\n",
              "      <td>0.000000</td>\n",
              "      <td>20.000000</td>\n",
              "      <td>0.000000</td>\n",
              "      <td>0.000000</td>\n",
              "      <td>17.000000</td>\n",
              "      <td>0.000000</td>\n",
              "      <td>422.942500</td>\n",
              "      <td>0.000000</td>\n",
              "    </tr>\n",
              "    <tr>\n",
              "      <th>max</th>\n",
              "      <td>5251.000000</td>\n",
              "      <td>NaN</td>\n",
              "      <td>34.000000</td>\n",
              "      <td>229.000000</td>\n",
              "      <td>5.000000</td>\n",
              "      <td>781.280000</td>\n",
              "      <td>230.000000</td>\n",
              "      <td>140816.000000</td>\n",
              "      <td>5.000000</td>\n",
              "      <td>5.000000</td>\n",
              "      <td>...</td>\n",
              "      <td>1058.000000</td>\n",
              "      <td>1.000000</td>\n",
              "      <td>1.000000</td>\n",
              "      <td>1461.000000</td>\n",
              "      <td>1.000000</td>\n",
              "      <td>1.000000</td>\n",
              "      <td>55400.000000</td>\n",
              "      <td>1.000000</td>\n",
              "      <td>7854.030000</td>\n",
              "      <td>1.000000</td>\n",
              "    </tr>\n",
              "  </tbody>\n",
              "</table>\n",
              "<p>11 rows × 54 columns</p>\n",
              "</div>\n",
              "      <button class=\"colab-df-convert\" onclick=\"convertToInteractive('df-8b7e5c94-875d-4810-b49d-fee7d3043810')\"\n",
              "              title=\"Convert this dataframe to an interactive table.\"\n",
              "              style=\"display:none;\">\n",
              "        \n",
              "  <svg xmlns=\"http://www.w3.org/2000/svg\" height=\"24px\"viewBox=\"0 0 24 24\"\n",
              "       width=\"24px\">\n",
              "    <path d=\"M0 0h24v24H0V0z\" fill=\"none\"/>\n",
              "    <path d=\"M18.56 5.44l.94 2.06.94-2.06 2.06-.94-2.06-.94-.94-2.06-.94 2.06-2.06.94zm-11 1L8.5 8.5l.94-2.06 2.06-.94-2.06-.94L8.5 2.5l-.94 2.06-2.06.94zm10 10l.94 2.06.94-2.06 2.06-.94-2.06-.94-.94-2.06-.94 2.06-2.06.94z\"/><path d=\"M17.41 7.96l-1.37-1.37c-.4-.4-.92-.59-1.43-.59-.52 0-1.04.2-1.43.59L10.3 9.45l-7.72 7.72c-.78.78-.78 2.05 0 2.83L4 21.41c.39.39.9.59 1.41.59.51 0 1.02-.2 1.41-.59l7.78-7.78 2.81-2.81c.8-.78.8-2.07 0-2.86zM5.41 20L4 18.59l7.72-7.72 1.47 1.35L5.41 20z\"/>\n",
              "  </svg>\n",
              "      </button>\n",
              "      \n",
              "  <style>\n",
              "    .colab-df-container {\n",
              "      display:flex;\n",
              "      flex-wrap:wrap;\n",
              "      gap: 12px;\n",
              "    }\n",
              "\n",
              "    .colab-df-convert {\n",
              "      background-color: #E8F0FE;\n",
              "      border: none;\n",
              "      border-radius: 50%;\n",
              "      cursor: pointer;\n",
              "      display: none;\n",
              "      fill: #1967D2;\n",
              "      height: 32px;\n",
              "      padding: 0 0 0 0;\n",
              "      width: 32px;\n",
              "    }\n",
              "\n",
              "    .colab-df-convert:hover {\n",
              "      background-color: #E2EBFA;\n",
              "      box-shadow: 0px 1px 2px rgba(60, 64, 67, 0.3), 0px 1px 3px 1px rgba(60, 64, 67, 0.15);\n",
              "      fill: #174EA6;\n",
              "    }\n",
              "\n",
              "    [theme=dark] .colab-df-convert {\n",
              "      background-color: #3B4455;\n",
              "      fill: #D2E3FC;\n",
              "    }\n",
              "\n",
              "    [theme=dark] .colab-df-convert:hover {\n",
              "      background-color: #434B5C;\n",
              "      box-shadow: 0px 1px 3px 1px rgba(0, 0, 0, 0.15);\n",
              "      filter: drop-shadow(0px 1px 2px rgba(0, 0, 0, 0.3));\n",
              "      fill: #FFFFFF;\n",
              "    }\n",
              "  </style>\n",
              "\n",
              "      <script>\n",
              "        const buttonEl =\n",
              "          document.querySelector('#df-8b7e5c94-875d-4810-b49d-fee7d3043810 button.colab-df-convert');\n",
              "        buttonEl.style.display =\n",
              "          google.colab.kernel.accessAllowed ? 'block' : 'none';\n",
              "\n",
              "        async function convertToInteractive(key) {\n",
              "          const element = document.querySelector('#df-8b7e5c94-875d-4810-b49d-fee7d3043810');\n",
              "          const dataTable =\n",
              "            await google.colab.kernel.invokeFunction('convertToInteractive',\n",
              "                                                     [key], {});\n",
              "          if (!dataTable) return;\n",
              "\n",
              "          const docLinkHtml = 'Like what you see? Visit the ' +\n",
              "            '<a target=\"_blank\" href=https://colab.research.google.com/notebooks/data_table.ipynb>data table notebook</a>'\n",
              "            + ' to learn more about interactive tables.';\n",
              "          element.innerHTML = '';\n",
              "          dataTable['output_type'] = 'display_data';\n",
              "          await google.colab.output.renderOutput(dataTable, element);\n",
              "          const docLink = document.createElement('div');\n",
              "          docLink.innerHTML = docLinkHtml;\n",
              "          element.appendChild(docLink);\n",
              "        }\n",
              "      </script>\n",
              "    </div>\n",
              "  </div>\n",
              "  "
            ]
          },
          "metadata": {},
          "execution_count": 14
        }
      ],
      "source": [
        "train.describe(include = 'all')\n"
      ]
    },
    {
      "cell_type": "code",
      "execution_count": 15,
      "id": "bdf951a1",
      "metadata": {
        "colab": {
          "base_uri": "https://localhost:8080/"
        },
        "id": "bdf951a1",
        "outputId": "8e0004e9-20fb-4469-b9d1-31da88f00f5b"
      },
      "outputs": [
        {
          "output_type": "stream",
          "name": "stdout",
          "text": [
            "<class 'pandas.core.frame.DataFrame'>\n",
            "RangeIndex: 78494 entries, 0 to 78493\n",
            "Data columns (total 54 columns):\n",
            " #   Column                       Non-Null Count  Dtype  \n",
            "---  ------                       --------------  -----  \n",
            " 0   srch_id                      78494 non-null  int64  \n",
            " 1   date_time                    78494 non-null  object \n",
            " 2   site_id                      78494 non-null  int64  \n",
            " 3   visitor_location_country_id  78494 non-null  int64  \n",
            " 4   visitor_hist_starrating      4380 non-null   float64\n",
            " 5   visitor_hist_adr_usd         4380 non-null   float64\n",
            " 6   prop_country_id              78494 non-null  int64  \n",
            " 7   prop_id                      78494 non-null  int64  \n",
            " 8   prop_starrating              78494 non-null  int64  \n",
            " 9   prop_review_score            78379 non-null  float64\n",
            " 10  prop_brand_bool              78494 non-null  int64  \n",
            " 11  prop_location_score1         78493 non-null  float64\n",
            " 12  prop_location_score2         61246 non-null  float64\n",
            " 13  prop_log_historical_price    78493 non-null  float64\n",
            " 14  position                     78493 non-null  float64\n",
            " 15  price_usd                    78493 non-null  float64\n",
            " 16  promotion_flag               78493 non-null  float64\n",
            " 17  srch_destination_id          78493 non-null  float64\n",
            " 18  srch_length_of_stay          78493 non-null  float64\n",
            " 19  srch_booking_window          78493 non-null  float64\n",
            " 20  srch_adults_count            78493 non-null  float64\n",
            " 21  srch_children_count          78493 non-null  float64\n",
            " 22  srch_room_count              78493 non-null  float64\n",
            " 23  srch_saturday_night_bool     78493 non-null  float64\n",
            " 24  srch_query_affinity_score    5021 non-null   float64\n",
            " 25  orig_destination_distance    53532 non-null  float64\n",
            " 26  random_bool                  78493 non-null  float64\n",
            " 27  comp1_rate                   1841 non-null   float64\n",
            " 28  comp1_inv                    1982 non-null   float64\n",
            " 29  comp1_rate_percent_diff      1486 non-null   float64\n",
            " 30  comp2_rate                   31896 non-null  float64\n",
            " 31  comp2_inv                    33449 non-null  float64\n",
            " 32  comp2_rate_percent_diff      8807 non-null   float64\n",
            " 33  comp3_rate                   24226 non-null  float64\n",
            " 34  comp3_inv                    26112 non-null  float64\n",
            " 35  comp3_rate_percent_diff      7414 non-null   float64\n",
            " 36  comp4_rate                   4715 non-null   float64\n",
            " 37  comp4_inv                    5278 non-null   float64\n",
            " 38  comp4_rate_percent_diff      1933 non-null   float64\n",
            " 39  comp5_rate                   35648 non-null  float64\n",
            " 40  comp5_inv                    37692 non-null  float64\n",
            " 41  comp5_rate_percent_diff      13225 non-null  float64\n",
            " 42  comp6_rate                   4092 non-null   float64\n",
            " 43  comp6_inv                    4461 non-null   float64\n",
            " 44  comp6_rate_percent_diff      1576 non-null   float64\n",
            " 45  comp7_rate                   5292 non-null   float64\n",
            " 46  comp7_inv                    5953 non-null   float64\n",
            " 47  comp7_rate_percent_diff      2346 non-null   float64\n",
            " 48  comp8_rate                   30441 non-null  float64\n",
            " 49  comp8_inv                    31585 non-null  float64\n",
            " 50  comp8_rate_percent_diff      9746 non-null   float64\n",
            " 51  click_bool                   78493 non-null  float64\n",
            " 52  gross_bookings_usd           2174 non-null   float64\n",
            " 53  booking_bool                 78493 non-null  float64\n",
            "dtypes: float64(46), int64(7), object(1)\n",
            "memory usage: 32.3+ MB\n",
            "None\n"
          ]
        }
      ],
      "source": [
        "print(train.info())"
      ]
    },
    {
      "cell_type": "code",
      "execution_count": 16,
      "id": "5e6f9814",
      "metadata": {
        "id": "5e6f9814"
      },
      "outputs": [],
      "source": [
        "def missing_values_plot(train:pd.DataFrame, title:str, xlabel:str, ylabel:str): \n",
        "    \n",
        "    total = train.size \n",
        "    missingCount = train.isnull().sum() \n",
        "    missing_total = missingCount.sum() \n",
        "    #calculate percentage missing values \n",
        "    print(\"Dataset contains\", round(((missing_total/total)*100),2), \"% of missing values \") \n",
        "    \n",
        "    missing = missingCount[missingCount > 0] \n",
        "    print(missing) \n",
        "    \n",
        "    missing.sort_values(inplace=True) \n",
        "    missing.plot.bar()\n",
        "    plt.title(title, size=15, loc='left')\n",
        "    plt.xticks(fontsize=11, rotation=45) \n",
        "    plt.yticks(fontsize=11) \n",
        "    plt.xlabel(xlabel, fontsize=13)\n",
        "    plt.ylabel(ylabel, fontsize=13)\n",
        "    plt.show()\n",
        "    \n",
        "    \n",
        "\n",
        "  "
      ]
    },
    {
      "cell_type": "code",
      "execution_count": 17,
      "id": "12fe333a",
      "metadata": {
        "id": "12fe333a",
        "outputId": "983c9db3-d5f0-49ad-8f5f-8556275215a8",
        "colab": {
          "base_uri": "https://localhost:8080/",
          "height": 1000
        }
      },
      "outputs": [
        {
          "output_type": "stream",
          "name": "stdout",
          "text": [
            "Dataset contains 44.66 % of missing values \n",
            "visitor_hist_starrating      74114\n",
            "visitor_hist_adr_usd         74114\n",
            "prop_review_score              115\n",
            "prop_location_score1             1\n",
            "prop_location_score2         17248\n",
            "prop_log_historical_price        1\n",
            "position                         1\n",
            "price_usd                        1\n",
            "promotion_flag                   1\n",
            "srch_destination_id              1\n",
            "srch_length_of_stay              1\n",
            "srch_booking_window              1\n",
            "srch_adults_count                1\n",
            "srch_children_count              1\n",
            "srch_room_count                  1\n",
            "srch_saturday_night_bool         1\n",
            "srch_query_affinity_score    73473\n",
            "orig_destination_distance    24962\n",
            "random_bool                      1\n",
            "comp1_rate                   76653\n",
            "comp1_inv                    76512\n",
            "comp1_rate_percent_diff      77008\n",
            "comp2_rate                   46598\n",
            "comp2_inv                    45045\n",
            "comp2_rate_percent_diff      69687\n",
            "comp3_rate                   54268\n",
            "comp3_inv                    52382\n",
            "comp3_rate_percent_diff      71080\n",
            "comp4_rate                   73779\n",
            "comp4_inv                    73216\n",
            "comp4_rate_percent_diff      76561\n",
            "comp5_rate                   42846\n",
            "comp5_inv                    40802\n",
            "comp5_rate_percent_diff      65269\n",
            "comp6_rate                   74402\n",
            "comp6_inv                    74033\n",
            "comp6_rate_percent_diff      76918\n",
            "comp7_rate                   73202\n",
            "comp7_inv                    72541\n",
            "comp7_rate_percent_diff      76148\n",
            "comp8_rate                   48053\n",
            "comp8_inv                    46909\n",
            "comp8_rate_percent_diff      68748\n",
            "click_bool                       1\n",
            "gross_bookings_usd           76320\n",
            "booking_bool                     1\n",
            "dtype: int64\n"
          ]
        },
        {
          "output_type": "display_data",
          "data": {
            "text/plain": [
              "<Figure size 432x288 with 1 Axes>"
            ],
            "image/png": "[encoded data removed]"
          },
          "metadata": {
            "needs_background": "light"
          }
        }
      ],
      "source": [
        "missing_values_plot(train, 'Dataset of missing values','Column Name','No. Missing values') "
      ]
    },
    {
      "cell_type": "code",
      "execution_count": 18,
      "id": "1a8c87f2",
      "metadata": {
        "id": "1a8c87f2",
        "outputId": "7848bcef-37ef-4c8f-e497-d9e3a551c6ea",
        "colab": {
          "base_uri": "https://localhost:8080/"
        }
      },
      "outputs": [
        {
          "output_type": "execute_result",
          "data": {
            "text/plain": [
              "array([ nan, 4.31, 2.5 , 3.74, 3.35, 3.89, 3.38, 3.5 , 5.  , 2.57, 2.3 ,\n",
              "       3.24, 3.26, 3.22, 3.72, 2.9 , 3.69, 3.  , 3.17, 3.75, 3.67, 2.94,\n",
              "       4.94, 4.  , 4.33, 3.94, 3.92, 2.33, 4.2 , 3.99, 2.6 , 3.37, 3.51,\n",
              "       2.75, 2.7 , 4.17, 2.63, 3.71, 3.95, 3.52, 2.21, 4.25, 3.59, 3.9 ,\n",
              "       2.81, 2.67, 3.56, 4.07, 3.8 , 3.05, 2.  , 4.4 , 3.91, 2.72, 2.88,\n",
              "       2.83, 2.69, 3.43, 3.06, 4.6 , 3.96, 3.49, 2.18, 2.45, 2.62, 4.06,\n",
              "       4.5 , 3.2 , 2.43, 2.95, 3.1 , 3.28, 2.8 , 3.15, 3.16, 3.09, 3.65,\n",
              "       2.87, 3.62, 4.11, 3.12, 3.76, 4.63, 3.08, 3.34, 2.31, 4.14, 4.02,\n",
              "       3.44, 2.68, 3.82, 4.46, 4.3 , 1.67, 4.67, 3.61])"
            ]
          },
          "metadata": {},
          "execution_count": 18
        }
      ],
      "source": [
        "# checking missing values per column \n",
        "train.visitor_hist_starrating.unique()\n"
      ]
    },
    {
      "cell_type": "code",
      "execution_count": 19,
      "id": "2dd75394",
      "metadata": {
        "id": "2dd75394",
        "outputId": "87ca8c31-8238-446e-868b-660d4312ed06",
        "colab": {
          "base_uri": "https://localhost:8080/"
        }
      },
      "outputs": [
        {
          "output_type": "execute_result",
          "data": {
            "text/plain": [
              "array([   nan, 180.75, 270.08, 122.34, 210.6 , 229.18, 137.25, 206.02,\n",
              "       334.43, 185.91, 122.51,  74.79, 127.82, 240.26, 203.77, 203.93,\n",
              "       136.75, 100.54, 165.39, 146.56, 234.78, 117.91, 390.57, 322.81,\n",
              "       120.46,  51.77, 150.93, 134.93, 372.84,  70.06, 246.15, 205.51,\n",
              "       287.22, 100.08, 277.6 , 166.07,  93.  , 174.73, 412.23, 205.46,\n",
              "        90.11, 137.58, 156.84, 143.83, 250.61, 435.92, 225.01,  84.89,\n",
              "       136.18,  99.71, 243.66, 119.02, 179.54, 253.87, 151.68, 154.27,\n",
              "       518.3 , 200.36, 184.42, 223.92, 189.89,  79.53, 416.01, 277.87,\n",
              "        49.02, 281.29, 139.33, 226.55, 285.47, 197.86, 182.14, 284.91,\n",
              "       124.69, 110.63, 129.37, 151.38, 220.86, 122.6 ,  95.19, 213.01,\n",
              "       126.87, 140.59,  78.87, 288.29, 117.74, 326.92, 163.86, 252.18,\n",
              "        78.83, 169.33,  85.31, 253.27, 111.2 , 222.91,  78.12, 691.75,\n",
              "       236.3 , 119.34, 174.8 , 257.7 , 244.03, 151.25, 189.46, 136.27,\n",
              "       215.83, 201.71, 126.81, 223.9 ,  97.55,  76.2 ,  36.91,  87.46,\n",
              "       209.13, 138.19, 107.14, 238.87, 148.99, 323.15, 435.17, 217.12,\n",
              "       170.86,  57.18, 112.77, 157.5 , 131.88, 169.6 , 167.74,  78.51,\n",
              "       138.33, 196.29, 223.38, 127.92, 252.45, 139.01, 159.46, 109.07,\n",
              "       176.64,  88.53, 268.78, 214.34, 302.39, 162.51, 118.68, 252.1 ,\n",
              "        84.63, 153.02, 188.36, 205.02, 270.12, 165.84, 160.33, 190.94,\n",
              "        37.57,  78.65, 364.  ,  84.86, 198.01, 227.81,  55.33, 123.12,\n",
              "       145.51, 142.49, 112.52, 105.36, 133.09, 196.88, 232.78, 132.64,\n",
              "        87.5 , 224.97, 309.58, 192.17, 196.01, 143.52, 131.71,  52.01,\n",
              "       118.8 , 190.3 , 238.1 , 129.89, 135.03, 283.04, 781.28, 291.63,\n",
              "       236.39, 156.88])"
            ]
          },
          "metadata": {},
          "execution_count": 19
        }
      ],
      "source": [
        "train.visitor_hist_adr_usd.unique()"
      ]
    },
    {
      "cell_type": "code",
      "execution_count": 20,
      "id": "e838798e",
      "metadata": {
        "id": "e838798e",
        "outputId": "ec8f8b2c-47e8-4666-9fe3-df1ca21a5f73",
        "colab": {
          "base_uri": "https://localhost:8080/"
        }
      },
      "outputs": [
        {
          "output_type": "execute_result",
          "data": {
            "text/plain": [
              "Int64Index([219, 100,  55,  31,  99, 129, 215, 220,  59,  98, 216, 158,  92,\n",
              "            132, 205,  39, 117,  81,  15,  32, 103,  80, 138,  14, 109,  50,\n",
              "              4,  73,  60,  35,  18, 181,  70,  56,  53,  26,  41, 221,   9,\n",
              "            127, 137,  48,  23, 202, 178, 157, 211, 164, 225,  16, 154, 156,\n",
              "            134,  13, 194, 212, 206,  61, 113,  33,  10,   2, 102, 195, 213,\n",
              "            230,  30,  37, 182,  97,  71,  68,  88, 151, 159, 223, 189, 153,\n",
              "            145,  77, 173, 131,  40, 185, 187, 119, 123, 106, 203,  86,  63,\n",
              "            197,  83, 184,  91, 125, 152],\n",
              "           dtype='int64')"
            ]
          },
          "metadata": {},
          "execution_count": 20
        }
      ],
      "source": [
        "# id of all countries involved in the data collection on hotel properties clicked or not by users \n",
        "# 219 id seems to be of interest since it counts the highest data values \n",
        "train.prop_country_id.value_counts().index"
      ]
    },
    {
      "cell_type": "code",
      "execution_count": 21,
      "id": "af333213",
      "metadata": {
        "id": "af333213"
      },
      "outputs": [],
      "source": [
        "# replacing all the NaN values containing columns with zeros \n",
        "train['visitor_hist_starrating'] = train['visitor_hist_starrating'].replace(np.NaN, 0)\n"
      ]
    },
    {
      "cell_type": "code",
      "execution_count": 22,
      "id": "184bb533",
      "metadata": {
        "id": "184bb533",
        "outputId": "23b4fcb4-64fa-4d83-de16-6b3d854fb35b",
        "colab": {
          "base_uri": "https://localhost:8080/"
        }
      },
      "outputs": [
        {
          "output_type": "execute_result",
          "data": {
            "text/plain": [
              "array([0.  , 4.31, 2.5 , 3.74, 3.35, 3.89, 3.38, 3.5 , 5.  , 2.57, 2.3 ,\n",
              "       3.24, 3.26, 3.22, 3.72, 2.9 , 3.69, 3.  , 3.17, 3.75, 3.67, 2.94,\n",
              "       4.94, 4.  , 4.33, 3.94, 3.92, 2.33, 4.2 , 3.99, 2.6 , 3.37, 3.51,\n",
              "       2.75, 2.7 , 4.17, 2.63, 3.71, 3.95, 3.52, 2.21, 4.25, 3.59, 3.9 ,\n",
              "       2.81, 2.67, 3.56, 4.07, 3.8 , 3.05, 2.  , 4.4 , 3.91, 2.72, 2.88,\n",
              "       2.83, 2.69, 3.43, 3.06, 4.6 , 3.96, 3.49, 2.18, 2.45, 2.62, 4.06,\n",
              "       4.5 , 3.2 , 2.43, 2.95, 3.1 , 3.28, 2.8 , 3.15, 3.16, 3.09, 3.65,\n",
              "       2.87, 3.62, 4.11, 3.12, 3.76, 4.63, 3.08, 3.34, 2.31, 4.14, 4.02,\n",
              "       3.44, 2.68, 3.82, 4.46, 4.3 , 1.67, 4.67, 3.61])"
            ]
          },
          "metadata": {},
          "execution_count": 22
        }
      ],
      "source": [
        "# we can see that we replaced the NaN values with zero's \n",
        "\n",
        "train.visitor_hist_starrating.unique()"
      ]
    },
    {
      "cell_type": "code",
      "execution_count": 23,
      "id": "04002bc9",
      "metadata": {
        "id": "04002bc9"
      },
      "outputs": [],
      "source": [
        "# SO now all the columns with NaN will be replaced with zeros \n",
        "\n",
        "train['visitor_hist_adr_usd'] = train['visitor_hist_adr_usd'].replace(np.NaN, 0)       \n",
        "train['prop_review_score'] = train['prop_review_score'].replace(np.NaN, 0)                \n",
        "train['prop_location_score2'] = train['prop_location_score2'].replace(np.NaN, 0)           \n",
        "train['srch_query_affinity_score']   = train['srch_query_affinity_score'].replace(np.NaN, 0)\n",
        "train['orig_destination_distance'] = train['orig_destination_distance'].replace(np.NaN, 0)    \n",
        "train['comp1_rate'] = train['comp1_rate'].replace(np.NaN, 0)                   \n",
        "train['comp1_inv'] = train['comp1_inv'].replace(np.NaN, 0)                    \n",
        "train['comp1_rate_percent_diff'] = train['comp1_rate_percent_diff'].replace(np.NaN, 0)      \n",
        "train['comp2_rate'] = train['comp2_rate'].replace(np.NaN, 0)                   \n",
        "train['comp2_inv'] = train['comp2_inv']                    \n",
        "train['comp2_rate_percent_diff'] = train['comp2_rate_percent_diff'].replace(np.NaN, 0)\n",
        "train['comp3_rate'] = train['comp3_rate'].replace(np.NaN, 0)\n",
        "train['comp3_inv'] = train['comp3_inv'].replace(np.NaN, 0)              \n",
        "train['comp3_rate_percent_diff'] = train['comp3_rate_percent_diff'].replace(np.NaN, 0) \n",
        "train['comp4_rate'] = train['comp4_rate'].replace(np.NaN, 0)        \n",
        "train['comp4_inv'] = train['comp4_inv'].replace(np.NaN, 0)        \n",
        "train['comp4_rate_percent_diff'] = train['comp4_rate_percent_diff'].replace(np.NaN, 0)      \n",
        "train['comp5_rate'] = train['comp5_rate'].replace(np.NaN, 0)               \n",
        "train['comp5_inv'] = train['comp5_inv'].replace(np.NaN, 0)                    \n",
        "train['comp5_rate_percent_diff'] = train['comp5_rate_percent_diff'].replace(np.NaN, 0)  \n",
        "train['comp6_rate'] = train['comp6_rate'].replace(np.NaN, 0)\n",
        "train['comp6_inv'] = train['comp6_inv'].replace(np.NaN, 0)\n",
        "train['comp6_rate_percent_diff'] = train['comp6_rate_percent_diff'].replace(np.NaN, 0)\n",
        "train['comp7_rate'] = train['comp7_rate'].replace(np.NaN, 0)                   \n",
        "train['comp7_inv'] = train['comp7_inv'].replace(np.NaN, 0)                    \n",
        "train['comp7_rate_percent_diff'] = train['comp7_rate_percent_diff'].replace(np.NaN, 0)      \n",
        "train['comp8_rate'] = train['comp8_rate'].replace(np.NaN, 0)                   \n",
        "train['comp8_inv'] = train['comp8_inv'].replace(np.NaN, 0)                   \n",
        "train['comp8_rate_percent_diff'] = train['comp8_rate_percent_diff'].replace(np.NaN, 0)      \n",
        "train['gross_bookings_usd'] = train['gross_bookings_usd'].replace(np.NaN, 0)"
      ]
    },
    {
      "cell_type": "code",
      "execution_count": 24,
      "id": "de47e6fb",
      "metadata": {
        "id": "de47e6fb",
        "outputId": "71f9cb62-7f37-4387-8dca-d98f3d3b6f73",
        "colab": {
          "base_uri": "https://localhost:8080/"
        }
      },
      "outputs": [
        {
          "output_type": "execute_result",
          "data": {
            "text/plain": [
              "array([  0.  , 114.29, 162.38, ..., 489.31, 374.29, 659.61])"
            ]
          },
          "metadata": {},
          "execution_count": 24
        }
      ],
      "source": [
        "# an extra check on one of the columns containing NaN values to see if the c\\olumn is replaced with zero \n",
        "\n",
        "train.gross_bookings_usd.unique()  \n"
      ]
    },
    {
      "cell_type": "code",
      "execution_count": 25,
      "id": "e70dd495",
      "metadata": {
        "id": "e70dd495",
        "outputId": "dd55809a-5b36-4b12-809d-1ba66bb1d2fa",
        "colab": {
          "base_uri": "https://localhost:8080/"
        }
      },
      "outputs": [
        {
          "output_type": "execute_result",
          "data": {
            "text/plain": [
              "Index(['srch_id', 'date_time', 'site_id', 'visitor_location_country_id',\n",
              "       'visitor_hist_starrating', 'visitor_hist_adr_usd', 'prop_country_id',\n",
              "       'prop_id', 'prop_starrating', 'prop_review_score', 'prop_brand_bool',\n",
              "       'prop_location_score1', 'prop_location_score2',\n",
              "       'prop_log_historical_price', 'position', 'price_usd', 'promotion_flag',\n",
              "       'srch_destination_id', 'srch_length_of_stay', 'srch_booking_window',\n",
              "       'srch_adults_count', 'srch_children_count', 'srch_room_count',\n",
              "       'srch_saturday_night_bool', 'srch_query_affinity_score',\n",
              "       'orig_destination_distance', 'random_bool', 'comp1_rate', 'comp1_inv',\n",
              "       'comp1_rate_percent_diff', 'comp2_rate', 'comp2_inv',\n",
              "       'comp2_rate_percent_diff', 'comp3_rate', 'comp3_inv',\n",
              "       'comp3_rate_percent_diff', 'comp4_rate', 'comp4_inv',\n",
              "       'comp4_rate_percent_diff', 'comp5_rate', 'comp5_inv',\n",
              "       'comp5_rate_percent_diff', 'comp6_rate', 'comp6_inv',\n",
              "       'comp6_rate_percent_diff', 'comp7_rate', 'comp7_inv',\n",
              "       'comp7_rate_percent_diff', 'comp8_rate', 'comp8_inv',\n",
              "       'comp8_rate_percent_diff', 'click_bool', 'gross_bookings_usd',\n",
              "       'booking_bool'],\n",
              "      dtype='object')"
            ]
          },
          "metadata": {},
          "execution_count": 25
        }
      ],
      "source": [
        "# see which features are present and may be of importance \n",
        "\n",
        "train.columns "
      ]
    },
    {
      "cell_type": "code",
      "execution_count": 26,
      "id": "eda6b744",
      "metadata": {
        "id": "eda6b744",
        "colab": {
          "base_uri": "https://localhost:8080/",
          "height": 661
        },
        "outputId": "489f558f-aa46-46ff-f3bc-05636ef99959"
      },
      "outputs": [
        {
          "output_type": "execute_result",
          "data": {
            "text/plain": [
              "       srch_id            date_time  site_id  visitor_location_country_id  \\\n",
              "0            1  2013-04-04 08:32:15       12                          187   \n",
              "1            1  2013-04-04 08:32:15       12                          187   \n",
              "2            1  2013-04-04 08:32:15       12                          187   \n",
              "3            1  2013-04-04 08:32:15       12                          187   \n",
              "4            1  2013-04-04 08:32:15       12                          187   \n",
              "...        ...                  ...      ...                          ...   \n",
              "78489     5251  2013-06-10 14:57:26       15                           55   \n",
              "78490     5251  2013-06-10 14:57:26       15                           55   \n",
              "78491     5251  2013-06-10 14:57:26       15                           55   \n",
              "78492     5251  2013-06-10 14:57:26       15                           55   \n",
              "78493     5251  2013-06-10 14:57:26       15                           55   \n",
              "\n",
              "       visitor_hist_starrating  visitor_hist_adr_usd  prop_country_id  \\\n",
              "0                          0.0                   0.0              219   \n",
              "1                          0.0                   0.0              219   \n",
              "2                          0.0                   0.0              219   \n",
              "3                          0.0                   0.0              219   \n",
              "4                          0.0                   0.0              219   \n",
              "...                        ...                   ...              ...   \n",
              "78489                      0.0                   0.0               55   \n",
              "78490                      0.0                   0.0               55   \n",
              "78491                      0.0                   0.0               55   \n",
              "78492                      0.0                   0.0               55   \n",
              "78493                      0.0                   0.0               55   \n",
              "\n",
              "       prop_id  prop_starrating  prop_review_score  ...  \\\n",
              "0          893                3                3.5  ...   \n",
              "1        10404                4                4.0  ...   \n",
              "2        21315                3                4.5  ...   \n",
              "3        27348                2                4.0  ...   \n",
              "4        29604                4                3.5  ...   \n",
              "...        ...              ...                ...  ...   \n",
              "78489    28662                3                3.5  ...   \n",
              "78490    48394                3                3.5  ...   \n",
              "78491    55272                4                3.5  ...   \n",
              "78492    69549                4                3.5  ...   \n",
              "78493    69745                3                3.0  ...   \n",
              "\n",
              "       comp6_rate_percent_diff  comp7_rate  comp7_inv  \\\n",
              "0                          0.0         0.0        0.0   \n",
              "1                          0.0         0.0        0.0   \n",
              "2                          0.0         0.0        0.0   \n",
              "3                          0.0         0.0        0.0   \n",
              "4                          0.0         0.0        0.0   \n",
              "...                        ...         ...        ...   \n",
              "78489                      5.0         0.0        0.0   \n",
              "78490                     25.0         1.0        0.0   \n",
              "78491                      0.0         0.0        0.0   \n",
              "78492                      0.0         0.0        0.0   \n",
              "78493                      0.0         0.0        0.0   \n",
              "\n",
              "       comp7_rate_percent_diff  comp8_rate  comp8_inv  \\\n",
              "0                          0.0         0.0        0.0   \n",
              "1                          0.0         0.0        0.0   \n",
              "2                          0.0         0.0        0.0   \n",
              "3                          0.0        -1.0        0.0   \n",
              "4                          0.0         0.0        0.0   \n",
              "...                        ...         ...        ...   \n",
              "78489                      5.0         0.0        0.0   \n",
              "78490                     18.0         0.0        0.0   \n",
              "78491                      0.0         0.0        0.0   \n",
              "78492                      0.0         0.0        0.0   \n",
              "78493                      0.0         0.0        0.0   \n",
              "\n",
              "       comp8_rate_percent_diff  click_bool  gross_bookings_usd  booking_bool  \n",
              "0                          0.0         0.0                 0.0           0.0  \n",
              "1                          0.0         0.0                 0.0           0.0  \n",
              "2                          0.0         0.0                 0.0           0.0  \n",
              "3                          5.0         0.0                 0.0           0.0  \n",
              "4                          0.0         0.0                 0.0           0.0  \n",
              "...                        ...         ...                 ...           ...  \n",
              "78489                      0.0         0.0                 0.0           0.0  \n",
              "78490                      0.0         0.0                 0.0           0.0  \n",
              "78491                      0.0         0.0                 0.0           0.0  \n",
              "78492                      0.0         0.0                 0.0           0.0  \n",
              "78493                      0.0         NaN                 0.0           NaN  \n",
              "\n",
              "[78494 rows x 54 columns]"
            ],
            "text/html": [
              "\n",
              "  <div id=\"df-bb5e5fdf-9f61-4881-844d-11f56ad66d84\">\n",
              "    <div class=\"colab-df-container\">\n",
              "      <div>\n",
              "<style scoped>\n",
              "    .dataframe tbody tr th:only-of-type {\n",
              "        vertical-align: middle;\n",
              "    }\n",
              "\n",
              "    .dataframe tbody tr th {\n",
              "        vertical-align: top;\n",
              "    }\n",
              "\n",
              "    .dataframe thead th {\n",
              "        text-align: right;\n",
              "    }\n",
              "</style>\n",
              "<table border=\"1\" class=\"dataframe\">\n",
              "  <thead>\n",
              "    <tr style=\"text-align: right;\">\n",
              "      <th></th>\n",
              "      <th>srch_id</th>\n",
              "      <th>date_time</th>\n",
              "      <th>site_id</th>\n",
              "      <th>visitor_location_country_id</th>\n",
              "      <th>visitor_hist_starrating</th>\n",
              "      <th>visitor_hist_adr_usd</th>\n",
              "      <th>prop_country_id</th>\n",
              "      <th>prop_id</th>\n",
              "      <th>prop_starrating</th>\n",
              "      <th>prop_review_score</th>\n",
              "      <th>...</th>\n",
              "      <th>comp6_rate_percent_diff</th>\n",
              "      <th>comp7_rate</th>\n",
              "      <th>comp7_inv</th>\n",
              "      <th>comp7_rate_percent_diff</th>\n",
              "      <th>comp8_rate</th>\n",
              "      <th>comp8_inv</th>\n",
              "      <th>comp8_rate_percent_diff</th>\n",
              "      <th>click_bool</th>\n",
              "      <th>gross_bookings_usd</th>\n",
              "      <th>booking_bool</th>\n",
              "    </tr>\n",
              "  </thead>\n",
              "  <tbody>\n",
              "    <tr>\n",
              "      <th>0</th>\n",
              "      <td>1</td>\n",
              "      <td>2013-04-04 08:32:15</td>\n",
              "      <td>12</td>\n",
              "      <td>187</td>\n",
              "      <td>0.0</td>\n",
              "      <td>0.0</td>\n",
              "      <td>219</td>\n",
              "      <td>893</td>\n",
              "      <td>3</td>\n",
              "      <td>3.5</td>\n",
              "      <td>...</td>\n",
              "      <td>0.0</td>\n",
              "      <td>0.0</td>\n",
              "      <td>0.0</td>\n",
              "      <td>0.0</td>\n",
              "      <td>0.0</td>\n",
              "      <td>0.0</td>\n",
              "      <td>0.0</td>\n",
              "      <td>0.0</td>\n",
              "      <td>0.0</td>\n",
              "      <td>0.0</td>\n",
              "    </tr>\n",
              "    <tr>\n",
              "      <th>1</th>\n",
              "      <td>1</td>\n",
              "      <td>2013-04-04 08:32:15</td>\n",
              "      <td>12</td>\n",
              "      <td>187</td>\n",
              "      <td>0.0</td>\n",
              "      <td>0.0</td>\n",
              "      <td>219</td>\n",
              "      <td>10404</td>\n",
              "      <td>4</td>\n",
              "      <td>4.0</td>\n",
              "      <td>...</td>\n",
              "      <td>0.0</td>\n",
              "      <td>0.0</td>\n",
              "      <td>0.0</td>\n",
              "      <td>0.0</td>\n",
              "      <td>0.0</td>\n",
              "      <td>0.0</td>\n",
              "      <td>0.0</td>\n",
              "      <td>0.0</td>\n",
              "      <td>0.0</td>\n",
              "      <td>0.0</td>\n",
              "    </tr>\n",
              "    <tr>\n",
              "      <th>2</th>\n",
              "      <td>1</td>\n",
              "      <td>2013-04-04 08:32:15</td>\n",
              "      <td>12</td>\n",
              "      <td>187</td>\n",
              "      <td>0.0</td>\n",
              "      <td>0.0</td>\n",
              "      <td>219</td>\n",
              "      <td>21315</td>\n",
              "      <td>3</td>\n",
              "      <td>4.5</td>\n",
              "      <td>...</td>\n",
              "      <td>0.0</td>\n",
              "      <td>0.0</td>\n",
              "      <td>0.0</td>\n",
              "      <td>0.0</td>\n",
              "      <td>0.0</td>\n",
              "      <td>0.0</td>\n",
              "      <td>0.0</td>\n",
              "      <td>0.0</td>\n",
              "      <td>0.0</td>\n",
              "      <td>0.0</td>\n",
              "    </tr>\n",
              "    <tr>\n",
              "      <th>3</th>\n",
              "      <td>1</td>\n",
              "      <td>2013-04-04 08:32:15</td>\n",
              "      <td>12</td>\n",
              "      <td>187</td>\n",
              "      <td>0.0</td>\n",
              "      <td>0.0</td>\n",
              "      <td>219</td>\n",
              "      <td>27348</td>\n",
              "      <td>2</td>\n",
              "      <td>4.0</td>\n",
              "      <td>...</td>\n",
              "      <td>0.0</td>\n",
              "      <td>0.0</td>\n",
              "      <td>0.0</td>\n",
              "      <td>0.0</td>\n",
              "      <td>-1.0</td>\n",
              "      <td>0.0</td>\n",
              "      <td>5.0</td>\n",
              "      <td>0.0</td>\n",
              "      <td>0.0</td>\n",
              "      <td>0.0</td>\n",
              "    </tr>\n",
              "    <tr>\n",
              "      <th>4</th>\n",
              "      <td>1</td>\n",
              "      <td>2013-04-04 08:32:15</td>\n",
              "      <td>12</td>\n",
              "      <td>187</td>\n",
              "      <td>0.0</td>\n",
              "      <td>0.0</td>\n",
              "      <td>219</td>\n",
              "      <td>29604</td>\n",
              "      <td>4</td>\n",
              "      <td>3.5</td>\n",
              "      <td>...</td>\n",
              "      <td>0.0</td>\n",
              "      <td>0.0</td>\n",
              "      <td>0.0</td>\n",
              "      <td>0.0</td>\n",
              "      <td>0.0</td>\n",
              "      <td>0.0</td>\n",
              "      <td>0.0</td>\n",
              "      <td>0.0</td>\n",
              "      <td>0.0</td>\n",
              "      <td>0.0</td>\n",
              "    </tr>\n",
              "    <tr>\n",
              "      <th>...</th>\n",
              "      <td>...</td>\n",
              "      <td>...</td>\n",
              "      <td>...</td>\n",
              "      <td>...</td>\n",
              "      <td>...</td>\n",
              "      <td>...</td>\n",
              "      <td>...</td>\n",
              "      <td>...</td>\n",
              "      <td>...</td>\n",
              "      <td>...</td>\n",
              "      <td>...</td>\n",
              "      <td>...</td>\n",
              "      <td>...</td>\n",
              "      <td>...</td>\n",
              "      <td>...</td>\n",
              "      <td>...</td>\n",
              "      <td>...</td>\n",
              "      <td>...</td>\n",
              "      <td>...</td>\n",
              "      <td>...</td>\n",
              "      <td>...</td>\n",
              "    </tr>\n",
              "    <tr>\n",
              "      <th>78489</th>\n",
              "      <td>5251</td>\n",
              "      <td>2013-06-10 14:57:26</td>\n",
              "      <td>15</td>\n",
              "      <td>55</td>\n",
              "      <td>0.0</td>\n",
              "      <td>0.0</td>\n",
              "      <td>55</td>\n",
              "      <td>28662</td>\n",
              "      <td>3</td>\n",
              "      <td>3.5</td>\n",
              "      <td>...</td>\n",
              "      <td>5.0</td>\n",
              "      <td>0.0</td>\n",
              "      <td>0.0</td>\n",
              "      <td>5.0</td>\n",
              "      <td>0.0</td>\n",
              "      <td>0.0</td>\n",
              "      <td>0.0</td>\n",
              "      <td>0.0</td>\n",
              "      <td>0.0</td>\n",
              "      <td>0.0</td>\n",
              "    </tr>\n",
              "    <tr>\n",
              "      <th>78490</th>\n",
              "      <td>5251</td>\n",
              "      <td>2013-06-10 14:57:26</td>\n",
              "      <td>15</td>\n",
              "      <td>55</td>\n",
              "      <td>0.0</td>\n",
              "      <td>0.0</td>\n",
              "      <td>55</td>\n",
              "      <td>48394</td>\n",
              "      <td>3</td>\n",
              "      <td>3.5</td>\n",
              "      <td>...</td>\n",
              "      <td>25.0</td>\n",
              "      <td>1.0</td>\n",
              "      <td>0.0</td>\n",
              "      <td>18.0</td>\n",
              "      <td>0.0</td>\n",
              "      <td>0.0</td>\n",
              "      <td>0.0</td>\n",
              "      <td>0.0</td>\n",
              "      <td>0.0</td>\n",
              "      <td>0.0</td>\n",
              "    </tr>\n",
              "    <tr>\n",
              "      <th>78491</th>\n",
              "      <td>5251</td>\n",
              "      <td>2013-06-10 14:57:26</td>\n",
              "      <td>15</td>\n",
              "      <td>55</td>\n",
              "      <td>0.0</td>\n",
              "      <td>0.0</td>\n",
              "      <td>55</td>\n",
              "      <td>55272</td>\n",
              "      <td>4</td>\n",
              "      <td>3.5</td>\n",
              "      <td>...</td>\n",
              "      <td>0.0</td>\n",
              "      <td>0.0</td>\n",
              "      <td>0.0</td>\n",
              "      <td>0.0</td>\n",
              "      <td>0.0</td>\n",
              "      <td>0.0</td>\n",
              "      <td>0.0</td>\n",
              "      <td>0.0</td>\n",
              "      <td>0.0</td>\n",
              "      <td>0.0</td>\n",
              "    </tr>\n",
              "    <tr>\n",
              "      <th>78492</th>\n",
              "      <td>5251</td>\n",
              "      <td>2013-06-10 14:57:26</td>\n",
              "      <td>15</td>\n",
              "      <td>55</td>\n",
              "      <td>0.0</td>\n",
              "      <td>0.0</td>\n",
              "      <td>55</td>\n",
              "      <td>69549</td>\n",
              "      <td>4</td>\n",
              "      <td>3.5</td>\n",
              "      <td>...</td>\n",
              "      <td>0.0</td>\n",
              "      <td>0.0</td>\n",
              "      <td>0.0</td>\n",
              "      <td>0.0</td>\n",
              "      <td>0.0</td>\n",
              "      <td>0.0</td>\n",
              "      <td>0.0</td>\n",
              "      <td>0.0</td>\n",
              "      <td>0.0</td>\n",
              "      <td>0.0</td>\n",
              "    </tr>\n",
              "    <tr>\n",
              "      <th>78493</th>\n",
              "      <td>5251</td>\n",
              "      <td>2013-06-10 14:57:26</td>\n",
              "      <td>15</td>\n",
              "      <td>55</td>\n",
              "      <td>0.0</td>\n",
              "      <td>0.0</td>\n",
              "      <td>55</td>\n",
              "      <td>69745</td>\n",
              "      <td>3</td>\n",
              "      <td>3.0</td>\n",
              "      <td>...</td>\n",
              "      <td>0.0</td>\n",
              "      <td>0.0</td>\n",
              "      <td>0.0</td>\n",
              "      <td>0.0</td>\n",
              "      <td>0.0</td>\n",
              "      <td>0.0</td>\n",
              "      <td>0.0</td>\n",
              "      <td>NaN</td>\n",
              "      <td>0.0</td>\n",
              "      <td>NaN</td>\n",
              "    </tr>\n",
              "  </tbody>\n",
              "</table>\n",
              "<p>78494 rows × 54 columns</p>\n",
              "</div>\n",
              "      <button class=\"colab-df-convert\" onclick=\"convertToInteractive('df-bb5e5fdf-9f61-4881-844d-11f56ad66d84')\"\n",
              "              title=\"Convert this dataframe to an interactive table.\"\n",
              "              style=\"display:none;\">\n",
              "        \n",
              "  <svg xmlns=\"http://www.w3.org/2000/svg\" height=\"24px\"viewBox=\"0 0 24 24\"\n",
              "       width=\"24px\">\n",
              "    <path d=\"M0 0h24v24H0V0z\" fill=\"none\"/>\n",
              "    <path d=\"M18.56 5.44l.94 2.06.94-2.06 2.06-.94-2.06-.94-.94-2.06-.94 2.06-2.06.94zm-11 1L8.5 8.5l.94-2.06 2.06-.94-2.06-.94L8.5 2.5l-.94 2.06-2.06.94zm10 10l.94 2.06.94-2.06 2.06-.94-2.06-.94-.94-2.06-.94 2.06-2.06.94z\"/><path d=\"M17.41 7.96l-1.37-1.37c-.4-.4-.92-.59-1.43-.59-.52 0-1.04.2-1.43.59L10.3 9.45l-7.72 7.72c-.78.78-.78 2.05 0 2.83L4 21.41c.39.39.9.59 1.41.59.51 0 1.02-.2 1.41-.59l7.78-7.78 2.81-2.81c.8-.78.8-2.07 0-2.86zM5.41 20L4 18.59l7.72-7.72 1.47 1.35L5.41 20z\"/>\n",
              "  </svg>\n",
              "      </button>\n",
              "      \n",
              "  <style>\n",
              "    .colab-df-container {\n",
              "      display:flex;\n",
              "      flex-wrap:wrap;\n",
              "      gap: 12px;\n",
              "    }\n",
              "\n",
              "    .colab-df-convert {\n",
              "      background-color: #E8F0FE;\n",
              "      border: none;\n",
              "      border-radius: 50%;\n",
              "      cursor: pointer;\n",
              "      display: none;\n",
              "      fill: #1967D2;\n",
              "      height: 32px;\n",
              "      padding: 0 0 0 0;\n",
              "      width: 32px;\n",
              "    }\n",
              "\n",
              "    .colab-df-convert:hover {\n",
              "      background-color: #E2EBFA;\n",
              "      box-shadow: 0px 1px 2px rgba(60, 64, 67, 0.3), 0px 1px 3px 1px rgba(60, 64, 67, 0.15);\n",
              "      fill: #174EA6;\n",
              "    }\n",
              "\n",
              "    [theme=dark] .colab-df-convert {\n",
              "      background-color: #3B4455;\n",
              "      fill: #D2E3FC;\n",
              "    }\n",
              "\n",
              "    [theme=dark] .colab-df-convert:hover {\n",
              "      background-color: #434B5C;\n",
              "      box-shadow: 0px 1px 3px 1px rgba(0, 0, 0, 0.15);\n",
              "      filter: drop-shadow(0px 1px 2px rgba(0, 0, 0, 0.3));\n",
              "      fill: #FFFFFF;\n",
              "    }\n",
              "  </style>\n",
              "\n",
              "      <script>\n",
              "        const buttonEl =\n",
              "          document.querySelector('#df-bb5e5fdf-9f61-4881-844d-11f56ad66d84 button.colab-df-convert');\n",
              "        buttonEl.style.display =\n",
              "          google.colab.kernel.accessAllowed ? 'block' : 'none';\n",
              "\n",
              "        async function convertToInteractive(key) {\n",
              "          const element = document.querySelector('#df-bb5e5fdf-9f61-4881-844d-11f56ad66d84');\n",
              "          const dataTable =\n",
              "            await google.colab.kernel.invokeFunction('convertToInteractive',\n",
              "                                                     [key], {});\n",
              "          if (!dataTable) return;\n",
              "\n",
              "          const docLinkHtml = 'Like what you see? Visit the ' +\n",
              "            '<a target=\"_blank\" href=https://colab.research.google.com/notebooks/data_table.ipynb>data table notebook</a>'\n",
              "            + ' to learn more about interactive tables.';\n",
              "          element.innerHTML = '';\n",
              "          dataTable['output_type'] = 'display_data';\n",
              "          await google.colab.output.renderOutput(dataTable, element);\n",
              "          const docLink = document.createElement('div');\n",
              "          docLink.innerHTML = docLinkHtml;\n",
              "          element.appendChild(docLink);\n",
              "        }\n",
              "      </script>\n",
              "    </div>\n",
              "  </div>\n",
              "  "
            ]
          },
          "metadata": {},
          "execution_count": 26
        }
      ],
      "source": [
        "train"
      ]
    },
    {
      "cell_type": "code",
      "execution_count": 27,
      "id": "7ab3dfe3",
      "metadata": {
        "id": "7ab3dfe3",
        "outputId": "d176e2cf-8b06-432f-e1ab-06b44dd71ee7",
        "colab": {
          "base_uri": "https://localhost:8080/"
        }
      },
      "outputs": [
        {
          "output_type": "execute_result",
          "data": {
            "text/plain": [
              "8192.0     1169\n",
              "4562.0      904\n",
              "9402.0      708\n",
              "10979.0     616\n",
              "18774.0     563\n",
              "           ... \n",
              "21489.0       5\n",
              "22455.0       5\n",
              "19143.0       5\n",
              "23491.0       5\n",
              "23180.0       5\n",
              "Name: srch_destination_id, Length: 1770, dtype: int64"
            ]
          },
          "metadata": {},
          "execution_count": 27
        }
      ],
      "source": [
        "train.srch_destination_id.value_counts()"
      ]
    },
    {
      "cell_type": "code",
      "execution_count": 28,
      "id": "810f2169",
      "metadata": {
        "id": "810f2169",
        "outputId": "1737778f-dbca-4d33-8cf9-01aead16de0d",
        "colab": {
          "base_uri": "https://localhost:8080/"
        }
      },
      "outputs": [
        {
          "output_type": "execute_result",
          "data": {
            "text/plain": [
              "visitor_location_country_id\n",
              "219    45880\n",
              "100     7894\n",
              "55      4741\n",
              "216     3561\n",
              "220     2865\n",
              "dtype: int64"
            ]
          },
          "metadata": {},
          "execution_count": 28
        }
      ],
      "source": [
        "\n",
        "train.groupby('visitor_location_country_id').size().nlargest(5)\n",
        "#we can see that label 219 is largest country of visitors. As ease to computational power we can select the country which \n",
        "# is mostly visited and not running all the countries "
      ]
    },
    {
      "cell_type": "code",
      "execution_count": 29,
      "id": "b00deae1",
      "metadata": {
        "id": "b00deae1"
      },
      "outputs": [],
      "source": [
        "# we select us as country to test our prediction on since it has the most visitors \n",
        "\n",
        "us = train.loc[train['visitor_location_country_id'] == 219]  \n",
        "us = us.sample(frac=0.6, random_state=99) \n"
      ]
    },
    {
      "cell_type": "code",
      "execution_count": 30,
      "id": "0a8abb4b",
      "metadata": {
        "id": "0a8abb4b",
        "outputId": "c9d4234d-f7c6-47b1-8fa6-b604329524e2",
        "colab": {
          "base_uri": "https://localhost:8080/"
        }
      },
      "outputs": [
        {
          "output_type": "execute_result",
          "data": {
            "text/plain": [
              "(27528, 54)"
            ]
          },
          "metadata": {},
          "execution_count": 30
        }
      ],
      "source": [
        "us.shape\n"
      ]
    },
    {
      "cell_type": "code",
      "execution_count": 31,
      "id": "2aa37bc2",
      "metadata": {
        "id": "2aa37bc2",
        "outputId": "42c472c8-24dd-4c98-affa-849a536f94a6",
        "colab": {
          "base_uri": "https://localhost:8080/"
        }
      },
      "outputs": [
        {
          "output_type": "execute_result",
          "data": {
            "text/plain": [
              "srch_id                            0\n",
              "date_time                          0\n",
              "site_id                            0\n",
              "visitor_location_country_id        0\n",
              "visitor_hist_starrating            0\n",
              "visitor_hist_adr_usd               0\n",
              "prop_country_id                    0\n",
              "prop_id                            0\n",
              "prop_starrating                    0\n",
              "prop_review_score                  0\n",
              "prop_brand_bool                    0\n",
              "prop_location_score1               0\n",
              "prop_location_score2               0\n",
              "prop_log_historical_price          0\n",
              "position                           0\n",
              "price_usd                          0\n",
              "promotion_flag                     0\n",
              "srch_destination_id                0\n",
              "srch_length_of_stay                0\n",
              "srch_booking_window                0\n",
              "srch_adults_count                  0\n",
              "srch_children_count                0\n",
              "srch_room_count                    0\n",
              "srch_saturday_night_bool           0\n",
              "srch_query_affinity_score          0\n",
              "orig_destination_distance          0\n",
              "random_bool                        0\n",
              "comp1_rate                         0\n",
              "comp1_inv                          0\n",
              "comp1_rate_percent_diff            0\n",
              "comp2_rate                         0\n",
              "comp2_inv                      13460\n",
              "comp2_rate_percent_diff            0\n",
              "comp3_rate                         0\n",
              "comp3_inv                          0\n",
              "comp3_rate_percent_diff            0\n",
              "comp4_rate                         0\n",
              "comp4_inv                          0\n",
              "comp4_rate_percent_diff            0\n",
              "comp5_rate                         0\n",
              "comp5_inv                          0\n",
              "comp5_rate_percent_diff            0\n",
              "comp6_rate                         0\n",
              "comp6_inv                          0\n",
              "comp6_rate_percent_diff            0\n",
              "comp7_rate                         0\n",
              "comp7_inv                          0\n",
              "comp7_rate_percent_diff            0\n",
              "comp8_rate                         0\n",
              "comp8_inv                          0\n",
              "comp8_rate_percent_diff            0\n",
              "click_bool                         0\n",
              "gross_bookings_usd                 0\n",
              "booking_bool                       0\n",
              "dtype: int64"
            ]
          },
          "metadata": {},
          "execution_count": 31
        }
      ],
      "source": [
        "# taking the sum of countries containing zero values \n",
        "\n",
        "us.isnull().sum()\n"
      ]
    },
    {
      "cell_type": "code",
      "execution_count": 32,
      "id": "2290498e",
      "metadata": {
        "id": "2290498e"
      },
      "outputs": [],
      "source": [
        "# the NaN containing features were changed to null, but since not all features really make sense for using it \n",
        "# changing every null containing feature to zero does not make sense \n",
        "# so therefore using a drop function to eliminate the features that are not of essential contribution to the likelihood \n",
        "# prediction will be removed \n",
        "# we'll remove some of the features we think is not that of importance \n",
        "\n",
        "dropping_cols = ['date_time', 'visitor_hist_starrating', 'visitor_hist_adr_usd', 'srch_query_affinity_score', 'comp1_rate', 'comp1_inv', 'comp1_rate_percent_diff', 'comp2_rate_percent_diff', 'comp3_rate_percent_diff', 'comp4_rate_percent_diff', 'comp5_rate_percent_diff', 'comp6_rate_percent_diff', 'comp7_rate_percent_diff', 'comp8_rate_percent_diff', 'comp2_rate', 'comp3_rate', 'comp4_rate', 'comp5_rate', 'comp6_rate', 'comp7_rate', 'comp8_rate', 'comp2_inv', 'comp3_inv', 'comp4_inv', 'comp5_inv', 'comp6_inv', 'comp7_inv', 'comp8_inv', 'gross_bookings_usd', 'srch_id', 'prop_id']\n",
        "us.drop(dropping_cols, axis=1, inplace=True)\n"
      ]
    },
    {
      "cell_type": "code",
      "execution_count": 33,
      "id": "dc0eb22c",
      "metadata": {
        "id": "dc0eb22c",
        "outputId": "cd1c66ab-f5c2-436b-8b7f-d7d31774b9df",
        "colab": {
          "base_uri": "https://localhost:8080/"
        }
      },
      "outputs": [
        {
          "output_type": "execute_result",
          "data": {
            "text/plain": [
              "site_id                        0\n",
              "visitor_location_country_id    0\n",
              "prop_country_id                0\n",
              "prop_starrating                0\n",
              "prop_review_score              0\n",
              "prop_brand_bool                0\n",
              "prop_location_score1           0\n",
              "prop_location_score2           0\n",
              "prop_log_historical_price      0\n",
              "position                       0\n",
              "price_usd                      0\n",
              "promotion_flag                 0\n",
              "srch_destination_id            0\n",
              "srch_length_of_stay            0\n",
              "srch_booking_window            0\n",
              "srch_adults_count              0\n",
              "srch_children_count            0\n",
              "srch_room_count                0\n",
              "srch_saturday_night_bool       0\n",
              "orig_destination_distance      0\n",
              "random_bool                    0\n",
              "click_bool                     0\n",
              "booking_bool                   0\n",
              "dtype: int64"
            ]
          },
          "metadata": {},
          "execution_count": 33
        }
      ],
      "source": [
        "# now we have selected the important features for research and also converted all the NaN values to zeros \n",
        "us.isnull().sum()"
      ]
    },
    {
      "cell_type": "code",
      "execution_count": 34,
      "id": "3a481e65",
      "metadata": {
        "id": "3a481e65",
        "outputId": "00dcaa8e-0320-4063-9d4c-05a05c825e4d",
        "colab": {
          "base_uri": "https://localhost:8080/"
        }
      },
      "outputs": [
        {
          "output_type": "execute_result",
          "data": {
            "text/plain": [
              "(27528, 23)"
            ]
          },
          "metadata": {},
          "execution_count": 34
        }
      ],
      "source": [
        "# we see that we have a huge amount of data in rows and 23 columns \n",
        "# this should be sufficient to classifier and run prediction on its ranking \n",
        "us.shape"
      ]
    },
    {
      "cell_type": "code",
      "execution_count": 35,
      "id": "e118753a",
      "metadata": {
        "id": "e118753a",
        "outputId": "86386c01-ad14-44fe-d278-da0bf045c983",
        "colab": {
          "base_uri": "https://localhost:8080/",
          "height": 280
        }
      },
      "outputs": [
        {
          "output_type": "display_data",
          "data": {
            "text/plain": [
              "<Figure size 432x288 with 1 Axes>"
            ],
            "image/png": "[encoded data removed]"
          },
          "metadata": {
            "needs_background": "light"
          }
        }
      ],
      "source": [
        "import matplotlib.pyplot as plt\n",
        "import seaborn as sns\n",
        "sns.countplot(x='booking_bool',data=us, palette='hls')\n",
        "plt.show();\n",
        "\n",
        "# when we look at the booking boolean we see that there is a expontential difference in booking and not booking; with \n",
        "# not clicking into exponential favor \n",
        "\n"
      ]
    },
    {
      "cell_type": "code",
      "execution_count": 36,
      "id": "e9c3541d",
      "metadata": {
        "id": "e9c3541d",
        "outputId": "0e49ff76-8382-4c7c-9d2d-7065f37603f2",
        "colab": {
          "base_uri": "https://localhost:8080/",
          "height": 280
        }
      },
      "outputs": [
        {
          "output_type": "display_data",
          "data": {
            "text/plain": [
              "<Figure size 432x288 with 1 Axes>"
            ],
            "image/png": "[encoded data removed]"
          },
          "metadata": {
            "needs_background": "light"
          }
        }
      ],
      "source": [
        "\n",
        "sns.countplot(x='click_bool',data=us, palette='hls')\n",
        "plt.show(); \n",
        "\n",
        "# we can also see that the click boolean shows a significant value of 0 which means there is a significant choice appearing \n",
        "# in not clicking on a hotel "
      ]
    },
    {
      "cell_type": "code",
      "execution_count": 37,
      "id": "f8c606fc",
      "metadata": {
        "id": "f8c606fc",
        "outputId": "be1e90e7-f8f6-4c1d-b280-552c655ad9d1",
        "colab": {
          "base_uri": "https://localhost:8080/",
          "height": 1000
        }
      },
      "outputs": [
        {
          "output_type": "execute_result",
          "data": {
            "text/plain": [
              "([<matplotlib.patches.Wedge at 0x7fe48f363410>,\n",
              "  <matplotlib.patches.Wedge at 0x7fe48f3637d0>,\n",
              "  <matplotlib.patches.Wedge at 0x7fe48f363f10>,\n",
              "  <matplotlib.patches.Wedge at 0x7fe48f36c590>,\n",
              "  <matplotlib.patches.Wedge at 0x7fe48f36ced0>,\n",
              "  <matplotlib.patches.Wedge at 0x7fe48f3775d0>,\n",
              "  <matplotlib.patches.Wedge at 0x7fe48f3779d0>,\n",
              "  <matplotlib.patches.Wedge at 0x7fe48f383050>,\n",
              "  <matplotlib.patches.Wedge at 0x7fe48f36cbd0>,\n",
              "  <matplotlib.patches.Wedge at 0x7fe48f377310>,\n",
              "  <matplotlib.patches.Wedge at 0x7fe48f3633d0>,\n",
              "  <matplotlib.patches.Wedge at 0x7fe48f38e810>,\n",
              "  <matplotlib.patches.Wedge at 0x7fe48f38ee50>,\n",
              "  <matplotlib.patches.Wedge at 0x7fe48f3984d0>,\n",
              "  <matplotlib.patches.Wedge at 0x7fe48f398b10>,\n",
              "  <matplotlib.patches.Wedge at 0x7fe48f323190>,\n",
              "  <matplotlib.patches.Wedge at 0x7fe48f3237d0>,\n",
              "  <matplotlib.patches.Wedge at 0x7fe48f323e10>,\n",
              "  <matplotlib.patches.Wedge at 0x7fe48f32d490>,\n",
              "  <matplotlib.patches.Wedge at 0x7fe48f32dad0>,\n",
              "  <matplotlib.patches.Wedge at 0x7fe48f339150>,\n",
              "  <matplotlib.patches.Wedge at 0x7fe48f339790>,\n",
              "  <matplotlib.patches.Wedge at 0x7fe48f339dd0>,\n",
              "  <matplotlib.patches.Wedge at 0x7fe48f344450>,\n",
              "  <matplotlib.patches.Wedge at 0x7fe48f344a90>,\n",
              "  <matplotlib.patches.Wedge at 0x7fe48f34e110>,\n",
              "  <matplotlib.patches.Wedge at 0x7fe48f34e750>,\n",
              "  <matplotlib.patches.Wedge at 0x7fe48f34ed90>,\n",
              "  <matplotlib.patches.Wedge at 0x7fe48f357410>,\n",
              "  <matplotlib.patches.Wedge at 0x7fe48f357a50>,\n",
              "  <matplotlib.patches.Wedge at 0x7fe48f2e30d0>,\n",
              "  <matplotlib.patches.Wedge at 0x7fe48f2e3710>,\n",
              "  <matplotlib.patches.Wedge at 0x7fe48f2e3d50>,\n",
              "  <matplotlib.patches.Wedge at 0x7fe48f2ef3d0>,\n",
              "  <matplotlib.patches.Wedge at 0x7fe48f2efa10>,\n",
              "  <matplotlib.patches.Wedge at 0x7fe48f2f8090>,\n",
              "  <matplotlib.patches.Wedge at 0x7fe48f2f86d0>,\n",
              "  <matplotlib.patches.Wedge at 0x7fe48f2f8d10>,\n",
              "  <matplotlib.patches.Wedge at 0x7fe48f304390>,\n",
              "  <matplotlib.patches.Wedge at 0x7fe48f3049d0>,\n",
              "  <matplotlib.patches.Wedge at 0x7fe48f30f050>,\n",
              "  <matplotlib.patches.Wedge at 0x7fe48f30f690>,\n",
              "  <matplotlib.patches.Wedge at 0x7fe48f30fcd0>,\n",
              "  <matplotlib.patches.Wedge at 0x7fe48f318350>,\n",
              "  <matplotlib.patches.Wedge at 0x7fe48f318990>,\n",
              "  <matplotlib.patches.Wedge at 0x7fe48f318fd0>,\n",
              "  <matplotlib.patches.Wedge at 0x7fe48f2a5650>,\n",
              "  <matplotlib.patches.Wedge at 0x7fe48f2a5c90>,\n",
              "  <matplotlib.patches.Wedge at 0x7fe48f2af310>,\n",
              "  <matplotlib.patches.Wedge at 0x7fe48f2af950>,\n",
              "  <matplotlib.patches.Wedge at 0x7fe48f2aff90>,\n",
              "  <matplotlib.patches.Wedge at 0x7fe48f2b8610>,\n",
              "  <matplotlib.patches.Wedge at 0x7fe48f2b8c50>,\n",
              "  <matplotlib.patches.Wedge at 0x7fe48f2c32d0>,\n",
              "  <matplotlib.patches.Wedge at 0x7fe48f2c3910>,\n",
              "  <matplotlib.patches.Wedge at 0x7fe48f2c3f50>,\n",
              "  <matplotlib.patches.Wedge at 0x7fe48f2cf5d0>,\n",
              "  <matplotlib.patches.Wedge at 0x7fe48f2cfc10>,\n",
              "  <matplotlib.patches.Wedge at 0x7fe48f2d8290>,\n",
              "  <matplotlib.patches.Wedge at 0x7fe48f2d88d0>,\n",
              "  <matplotlib.patches.Wedge at 0x7fe48f2d8f10>,\n",
              "  <matplotlib.patches.Wedge at 0x7fe48f263590>,\n",
              "  <matplotlib.patches.Wedge at 0x7fe48f263bd0>,\n",
              "  <matplotlib.patches.Wedge at 0x7fe48f26e250>,\n",
              "  <matplotlib.patches.Wedge at 0x7fe48f26e890>,\n",
              "  <matplotlib.patches.Wedge at 0x7fe48f26eed0>,\n",
              "  <matplotlib.patches.Wedge at 0x7fe48f279550>,\n",
              "  <matplotlib.patches.Wedge at 0x7fe48f279b90>,\n",
              "  <matplotlib.patches.Wedge at 0x7fe48f283210>,\n",
              "  <matplotlib.patches.Wedge at 0x7fe48f283850>,\n",
              "  <matplotlib.patches.Wedge at 0x7fe48f283e90>,\n",
              "  <matplotlib.patches.Wedge at 0x7fe48f28e510>,\n",
              "  <matplotlib.patches.Wedge at 0x7fe48f28eb50>,\n",
              "  <matplotlib.patches.Wedge at 0x7fe48f2191d0>,\n",
              "  <matplotlib.patches.Wedge at 0x7fe48f219810>,\n",
              "  <matplotlib.patches.Wedge at 0x7fe48f219e50>,\n",
              "  <matplotlib.patches.Wedge at 0x7fe48f2244d0>,\n",
              "  <matplotlib.patches.Wedge at 0x7fe48f224b10>,\n",
              "  <matplotlib.patches.Wedge at 0x7fe48f22f190>,\n",
              "  <matplotlib.patches.Wedge at 0x7fe48f22f7d0>,\n",
              "  <matplotlib.patches.Wedge at 0x7fe48f22fe10>,\n",
              "  <matplotlib.patches.Wedge at 0x7fe48f239490>,\n",
              "  <matplotlib.patches.Wedge at 0x7fe48f239ad0>,\n",
              "  <matplotlib.patches.Wedge at 0x7fe48f242150>,\n",
              "  <matplotlib.patches.Wedge at 0x7fe48f242790>,\n",
              "  <matplotlib.patches.Wedge at 0x7fe48f242dd0>],\n",
              " [Text(-0.28860434325260853, 1.0614648053778, '219'),\n",
              "  Text(-0.7285446470967902, -0.8241496812998315, '100'),\n",
              "  Text(-0.23812761383455436, -1.0739158437836094, '55'),\n",
              "  Text(0.12520142279381208, -1.0928515927290425, '216'),\n",
              "  Text(0.3990654874022891, -1.0250593820673872, '220'),\n",
              "  Text(0.5855788500538465, -0.931180653992347, '129'),\n",
              "  Text(0.7147226542635796, -0.8361647729260208, '31'),\n",
              "  Text(0.7975294488806725, -0.7575927521881997, '59'),\n",
              "  Text(0.8459257107773197, -0.7031427250892146, '99'),\n",
              "  Text(0.885441542539399, -0.6526816028857025, '158'),\n",
              "  Text(0.9173620812497315, -0.6069981975963036, '103'),\n",
              "  Text(0.9452208532957139, -0.562634462590875, '92'),\n",
              "  Text(0.9664302186506953, -0.5253690440811768, '50'),\n",
              "  Text(0.981444844903958, -0.49675548956347326, '39'),\n",
              "  Text(0.9930708828544389, -0.47308585016538524, '205'),\n",
              "  Text(1.0033878003984686, -0.45079143959432405, '132'),\n",
              "  Text(1.0131357082172303, -0.428434401904389, '215'),\n",
              "  Text(1.021685527428026, -0.40762566534029293, '181'),\n",
              "  Text(1.0290633149973765, -0.3886241033783294, '15'),\n",
              "  Text(1.0357916459337297, -0.37031833091800276, '117'),\n",
              "  Text(1.0419405853079193, -0.35264687250589716, '98'),\n",
              "  Text(1.047653948143673, -0.3352927153085407, '23'),\n",
              "  Text(1.0525936630783022, -0.31944730464882926, '41'),\n",
              "  Text(1.0568797170603348, -0.30496764363857787, '137'),\n",
              "  Text(1.06069879505724, -0.2914070454949904, '73'),\n",
              "  Text(1.0640988695712614, -0.2787357095478865, '81'),\n",
              "  Text(1.067326277587085, -0.26611015984380787, '32'),\n",
              "  Text(1.0703429951195007, -0.2537043018922156, '14'),\n",
              "  Text(1.073147885189933, -0.2415649322902123, '90'),\n",
              "  Text(1.075732400411194, -0.22978207655422334, '85'),\n",
              "  Text(1.0780477429944393, -0.21866198532116982, '13'),\n",
              "  Text(1.0801066928058534, -0.20825352855594545, '4'),\n",
              "  Text(1.0818746296022344, -0.1988649939607982, '154'),\n",
              "  Text(1.0834165726874003, -0.19028539099543942, '56'),\n",
              "  Text(1.0847812025294645, -0.18234511959119962, '77'),\n",
              "  Text(1.0859687303114145, -0.17513399665917054, '35'),\n",
              "  Text(1.0870746980591828, -0.16813268819458285, '187'),\n",
              "  Text(1.088103262930623, -0.16134214948280387, '214'),\n",
              "  Text(1.0890274688857526, -0.1549811988993866, '138'),\n",
              "  Text(1.0898787698152919, -0.1488766842252552, '2'),\n",
              "  Text(1.0906615366601995, -0.14302941113635417, '123'),\n",
              "  Text(1.091374457620186, -0.13748379269661118, '33'),\n",
              "  Text(1.0920274670366406, -0.13219686546033893, '26'),\n",
              "  Text(1.0926243582933846, -0.12716922451587778, '9'),\n",
              "  Text(1.0931883223480505, -0.12222639601107058, '127'),\n",
              "  Text(1.0937111361515242, -0.11745616483668493, '211'),\n",
              "  Text(1.094190562890592, -0.11290266640416459, '206'),\n",
              "  Text(1.0946423555802882, -0.1084348346687443, '125'),\n",
              "  Text(1.0950759051621808, -0.10396519577834917, '212'),\n",
              "  Text(1.0954832367517027, -0.09958151432878239, '130'),\n",
              "  Text(1.0958501281234785, -0.0954593981321705, '79'),\n",
              "  Text(1.096179543696106, -0.09159917020473979, '18'),\n",
              "  Text(1.0964883346884928, -0.08782557652561196, '10'),\n",
              "  Text(1.096780770268677, -0.08409483913325344, '69'),\n",
              "  Text(1.097054075954537, -0.08045094425509867, '106'),\n",
              "  Text(1.097309123769195, -0.07689399776888786, '162'),\n",
              "  Text(1.0975467651918716, -0.07342409833875224, '72'),\n",
              "  Text(1.0977706335057766, -0.06999740146838143, '68'),\n",
              "  Text(1.097981137977817, -0.06661396734122495, '5'),\n",
              "  Text(1.0981786828559008, -0.06327385337466884, '160'),\n",
              "  Text(1.0983612659941704, -0.06002107432963494, '178'),\n",
              "  Text(1.0985296669094051, -0.05685570261558264, '53'),\n",
              "  Text(1.098682491079839, -0.05382177806984595, '126'),\n",
              "  Text(1.0988208301847315, -0.05091937894492998, '88'),\n",
              "  Text(1.098949579344263, -0.048060608184538695, '194'),\n",
              "  Text(1.0990690809386143, -0.04524550060226505, '223'),\n",
              "  Text(1.0991813712670206, -0.0424300961529943, '70'),\n",
              "  Text(1.0992864495927166, -0.039614413309296166, '38'),\n",
              "  Text(1.0993828415481839, -0.03684247154359844, '145'),\n",
              "  Text(1.099470879346711, -0.034114300059803516, '229'),\n",
              "  Text(1.0995521470667047, -0.031385918514520134, '65'),\n",
              "  Text(1.0996254963645373, -0.028701354411336717, '60'),\n",
              "  Text(1.099691249137821, -0.02606063256521436, '6'),\n",
              "  Text(1.099750660295862, -0.023419760434631787, '224'),\n",
              "  Text(1.0998028969801663, -0.020822771045990323, '42'),\n",
              "  Text(1.099848270719286, -0.018269685158651326, '45'),\n",
              "  Text(1.0998864561474986, -0.01580454312205266, '16'),\n",
              "  Text(1.0999175067606755, -0.013471388992224494, '78'),\n",
              "  Text(1.0999418108895445, -0.011314267852124195, '202'),\n",
              "  Text(1.099960404462011, -0.009333199653361192, '184'),\n",
              "  Text(1.0999745393061666, -0.007484175184117782, '91'),\n",
              "  Text(1.0999851113600387, -0.005723179731878873, '155'),\n",
              "  Text(1.0999925434813553, -0.004050220416042362, '149'),\n",
              "  Text(1.099996933458968, -0.0025973796154710217, '80'),\n",
              "  Text(1.0999992072352494, -0.001320636900582377, '97'),\n",
              "  Text(1.0999999436568968, -0.0003520721860663077, '146')])"
            ]
          },
          "metadata": {},
          "execution_count": 37
        },
        {
          "output_type": "display_data",
          "data": {
            "text/plain": [
              "<Figure size 432x288 with 1 Axes>"
            ],
            "image/png": "[encoded data removed]"
          },
          "metadata": {}
        }
      ],
      "source": [
        "# exploring some other features to see how they look \n",
        "# well look into relationships  \n",
        "country_names = train.visitor_location_country_id.value_counts().index\n",
        "country_val = train.visitor_location_country_id.value_counts().values \n",
        "plt.pie(country_val, labels= country_names) "
      ]
    },
    {
      "cell_type": "code",
      "execution_count": 38,
      "id": "f390e2ff",
      "metadata": {
        "id": "f390e2ff",
        "outputId": "3eb35816-66ed-4715-f4a9-036755659588",
        "colab": {
          "base_uri": "https://localhost:8080/",
          "height": 352
        }
      },
      "outputs": [
        {
          "output_type": "execute_result",
          "data": {
            "text/plain": [
              "([<matplotlib.patches.Wedge at 0x7fe48f1bd950>,\n",
              "  <matplotlib.patches.Wedge at 0x7fe48f1bdd10>,\n",
              "  <matplotlib.patches.Wedge at 0x7fe48f1c6490>],\n",
              " [Text(-0.856465683103975, 0.6902655530049588, '219'),\n",
              "  Text(0.6550624122731653, -0.8836816372579335, '100'),\n",
              "  Text(1.0645576939036296, -0.2769781874996409, '55')])"
            ]
          },
          "metadata": {},
          "execution_count": 38
        },
        {
          "output_type": "display_data",
          "data": {
            "text/plain": [
              "<Figure size 432x288 with 1 Axes>"
            ],
            "image/png": "[encoded data removed]"
          },
          "metadata": {}
        }
      ],
      "source": [
        "# data is overhelmed so i wil reduce it to 3 most important countries involved  \n",
        "# we see that country id 219 is most apparing country \n",
        "# we will continue with country id 219 \n",
        "\n",
        "plt.pie(country_val[:3], labels= country_names[:3]) "
      ]
    },
    {
      "cell_type": "code",
      "execution_count": 39,
      "id": "bcfe05d1",
      "metadata": {
        "id": "bcfe05d1",
        "outputId": "1fc552e0-157f-4c66-e738-f08cc98477d7",
        "colab": {
          "base_uri": "https://localhost:8080/",
          "height": 404
        }
      },
      "outputs": [
        {
          "output_type": "execute_result",
          "data": {
            "text/plain": [
              "([<matplotlib.patches.Wedge at 0x7fe48f187690>,\n",
              "  <matplotlib.patches.Wedge at 0x7fe48f187e10>,\n",
              "  <matplotlib.patches.Wedge at 0x7fe48f193750>],\n",
              " [Text(-0.856465683103975, 0.6902655530049588, '219'),\n",
              "  Text(0.6550624122731653, -0.8836816372579335, '100'),\n",
              "  Text(1.0645576939036296, -0.2769781874996409, '55')],\n",
              " [Text(-0.4671630998748954, 0.37650848345725024, '78.41%'),\n",
              "  Text(0.35730677033081737, -0.4820081657770546, '13.49%'),\n",
              "  Text(0.5806678330383434, -0.15107901136344049, '8.10%')])"
            ]
          },
          "metadata": {},
          "execution_count": 39
        },
        {
          "output_type": "display_data",
          "data": {
            "text/plain": [
              "<Figure size 432x288 with 1 Axes>"
            ],
            "image/png": "[encoded data removed]"
          },
          "metadata": {}
        }
      ],
      "source": [
        "# we'll execute percentage of the pie  \n",
        "                    \n",
        "                    \n",
        "plt.pie(country_val[:3], labels= country_names[:3], autopct='%.2f%%')  \n",
        "\n",
        "# so we see a 78.63% of the visitor location country id 219 \n",
        "# so this mean that 78.63 % of the online visitors have chosen to look at id country 219 which is US \n",
        "# this makes it more interesting to select US id 219 to further EDA exploration "
      ]
    },
    {
      "cell_type": "markdown",
      "id": "68e109c3",
      "metadata": {
        "id": "68e109c3"
      },
      "source": [
        "Observation: The highest record of visiting country is visitor location country id 219 "
      ]
    },
    {
      "cell_type": "code",
      "execution_count": 40,
      "id": "d732f155",
      "metadata": {
        "id": "d732f155",
        "outputId": "758fa4c9-c051-4e95-a38a-2f69fa6f2d18",
        "colab": {
          "base_uri": "https://localhost:8080/"
        }
      },
      "outputs": [
        {
          "output_type": "execute_result",
          "data": {
            "text/plain": [
              "Index(['site_id', 'visitor_location_country_id', 'prop_country_id',\n",
              "       'prop_starrating', 'prop_review_score', 'prop_brand_bool',\n",
              "       'prop_location_score1', 'prop_location_score2',\n",
              "       'prop_log_historical_price', 'position', 'price_usd', 'promotion_flag',\n",
              "       'srch_destination_id', 'srch_length_of_stay', 'srch_booking_window',\n",
              "       'srch_adults_count', 'srch_children_count', 'srch_room_count',\n",
              "       'srch_saturday_night_bool', 'orig_destination_distance', 'random_bool',\n",
              "       'click_bool', 'booking_bool'],\n",
              "      dtype='object')"
            ]
          },
          "metadata": {},
          "execution_count": 40
        }
      ],
      "source": [
        "us.columns"
      ]
    },
    {
      "cell_type": "code",
      "execution_count": 41,
      "id": "fa620068",
      "metadata": {
        "id": "fa620068",
        "outputId": "43d1df48-2aa8-4457-bf02-71d076fb5a9b",
        "colab": {
          "base_uri": "https://localhost:8080/",
          "height": 295
        }
      },
      "outputs": [
        {
          "output_type": "display_data",
          "data": {
            "text/plain": [
              "<Figure size 432x288 with 1 Axes>"
            ],
            "image/png": "[encoded data removed]"
          },
          "metadata": {
            "needs_background": "light"
          }
        }
      ],
      "source": [
        " \n",
        "\n",
        "\n",
        "# the histogram of property star rating \n",
        "n, bins, patches = plt.hist(us.prop_starrating, 50, density=1, facecolor='g', alpha=0.75) \n",
        "plt.xlabel('property star rating ') \n",
        "plt.title('Histogram of property star rating') \n",
        "plt.show()"
      ]
    },
    {
      "cell_type": "markdown",
      "id": "80cbc1e1",
      "metadata": {
        "id": "80cbc1e1"
      },
      "source": [
        "Most given star rate is 3 "
      ]
    },
    {
      "cell_type": "code",
      "execution_count": 42,
      "id": "46ba80b3",
      "metadata": {
        "id": "46ba80b3",
        "outputId": "91e4e40f-0983-4980-dcdc-172b24ead35b",
        "colab": {
          "base_uri": "https://localhost:8080/",
          "height": 295
        }
      },
      "outputs": [
        {
          "output_type": "display_data",
          "data": {
            "text/plain": [
              "<Figure size 432x288 with 1 Axes>"
            ],
            "image/png": "[encoded data removed]"
          },
          "metadata": {
            "needs_background": "light"
          }
        }
      ],
      "source": [
        "# take a look into the review score in us  \n",
        "\n",
        "# the histogram of property review score  \n",
        "n, bins, patches = plt.hist(us.prop_review_score, 50, density=1, facecolor='g', alpha=0.75) \n",
        "plt.xlabel('property review score ') \n",
        "plt.title('Histogram of property review score') \n",
        "plt.show()"
      ]
    },
    {
      "cell_type": "markdown",
      "id": "3c54847b",
      "metadata": {
        "id": "3c54847b"
      },
      "source": [
        "The highest review score is 4.5"
      ]
    },
    {
      "cell_type": "code",
      "execution_count": 43,
      "id": "9e2cb525",
      "metadata": {
        "id": "9e2cb525",
        "outputId": "7db3d3f9-c207-4b8a-8c8a-8a90d3d577e5",
        "colab": {
          "base_uri": "https://localhost:8080/"
        }
      },
      "outputs": [
        {
          "output_type": "execute_result",
          "data": {
            "text/plain": [
              "srch_length_of_stay\n",
              "1.0    12917\n",
              "2.0     6959\n",
              "3.0     3881\n",
              "4.0     1577\n",
              "5.0     1034\n",
              "dtype: int64"
            ]
          },
          "metadata": {},
          "execution_count": 43
        }
      ],
      "source": [
        "us.groupby(['srch_length_of_stay']).size().nlargest(5)"
      ]
    },
    {
      "cell_type": "markdown",
      "id": "dc09a4fb",
      "metadata": {
        "id": "dc09a4fb"
      },
      "source": [
        "No outliers to be seen here "
      ]
    },
    {
      "cell_type": "code",
      "execution_count": 44,
      "id": "8c7a0e88",
      "metadata": {
        "id": "8c7a0e88",
        "outputId": "80585ea4-753d-44e0-e2f9-acb2ac93e53e",
        "colab": {
          "base_uri": "https://localhost:8080/"
        }
      },
      "outputs": [
        {
          "output_type": "execute_result",
          "data": {
            "text/plain": [
              "srch_length_of_stay\n",
              "1.0    12917\n",
              "2.0     6959\n",
              "3.0     3881\n",
              "4.0     1577\n",
              "5.0     1034\n",
              "Name: price_usd, dtype: int64"
            ]
          },
          "metadata": {},
          "execution_count": 44
        }
      ],
      "source": [
        "us.groupby('srch_length_of_stay')['price_usd'].size().nlargest(5)\n"
      ]
    },
    {
      "cell_type": "markdown",
      "id": "44f486ee",
      "metadata": {
        "id": "44f486ee"
      },
      "source": [
        "we can see that the length of stay decreases as the price increases "
      ]
    },
    {
      "cell_type": "code",
      "execution_count": 45,
      "id": "dd351257",
      "metadata": {
        "id": "dd351257",
        "outputId": "b74a0f7c-74a7-4e7e-ea98-219bed5edf84",
        "colab": {
          "base_uri": "https://localhost:8080/",
          "height": 289
        }
      },
      "outputs": [
        {
          "output_type": "display_data",
          "data": {
            "text/plain": [
              "<Figure size 432x288 with 1 Axes>"
            ],
            "image/png": "[encoded data removed]"
          },
          "metadata": {}
        }
      ],
      "source": [
        "sns.set(style=\"ticks\", palette=\"pastel\")\n",
        "\n",
        "ax = sns.boxplot(x=\"click_bool\", y=\"price_usd\", hue=\"click_bool\", data=us)\n",
        "ax.set_ylim([0, 250]);"
      ]
    },
    {
      "cell_type": "code",
      "execution_count": 46,
      "id": "fe81fda8",
      "metadata": {
        "id": "fe81fda8",
        "outputId": "16f5365f-d094-480c-bf56-e69eff39accf",
        "colab": {
          "base_uri": "https://localhost:8080/",
          "height": 143
        }
      },
      "outputs": [
        {
          "output_type": "execute_result",
          "data": {
            "text/plain": [
              "              count        mean          std   min   25%    50%       75%  \\\n",
              "click_bool                                                                  \n",
              "0.0         26304.0  229.102638  3513.728645  10.0  84.0  119.0  181.0575   \n",
              "1.0          1224.0  269.737974  4442.569670  15.0  85.0  118.0  169.0000   \n",
              "\n",
              "                 max  \n",
              "click_bool            \n",
              "0.0         250892.0  \n",
              "1.0         155531.0  "
            ],
            "text/html": [
              "\n",
              "  <div id=\"df-75c91ae3-e7fd-46ca-a159-91c8dc16ff70\">\n",
              "    <div class=\"colab-df-container\">\n",
              "      <div>\n",
              "<style scoped>\n",
              "    .dataframe tbody tr th:only-of-type {\n",
              "        vertical-align: middle;\n",
              "    }\n",
              "\n",
              "    .dataframe tbody tr th {\n",
              "        vertical-align: top;\n",
              "    }\n",
              "\n",
              "    .dataframe thead th {\n",
              "        text-align: right;\n",
              "    }\n",
              "</style>\n",
              "<table border=\"1\" class=\"dataframe\">\n",
              "  <thead>\n",
              "    <tr style=\"text-align: right;\">\n",
              "      <th></th>\n",
              "      <th>count</th>\n",
              "      <th>mean</th>\n",
              "      <th>std</th>\n",
              "      <th>min</th>\n",
              "      <th>25%</th>\n",
              "      <th>50%</th>\n",
              "      <th>75%</th>\n",
              "      <th>max</th>\n",
              "    </tr>\n",
              "    <tr>\n",
              "      <th>click_bool</th>\n",
              "      <th></th>\n",
              "      <th></th>\n",
              "      <th></th>\n",
              "      <th></th>\n",
              "      <th></th>\n",
              "      <th></th>\n",
              "      <th></th>\n",
              "      <th></th>\n",
              "    </tr>\n",
              "  </thead>\n",
              "  <tbody>\n",
              "    <tr>\n",
              "      <th>0.0</th>\n",
              "      <td>26304.0</td>\n",
              "      <td>229.102638</td>\n",
              "      <td>3513.728645</td>\n",
              "      <td>10.0</td>\n",
              "      <td>84.0</td>\n",
              "      <td>119.0</td>\n",
              "      <td>181.0575</td>\n",
              "      <td>250892.0</td>\n",
              "    </tr>\n",
              "    <tr>\n",
              "      <th>1.0</th>\n",
              "      <td>1224.0</td>\n",
              "      <td>269.737974</td>\n",
              "      <td>4442.569670</td>\n",
              "      <td>15.0</td>\n",
              "      <td>85.0</td>\n",
              "      <td>118.0</td>\n",
              "      <td>169.0000</td>\n",
              "      <td>155531.0</td>\n",
              "    </tr>\n",
              "  </tbody>\n",
              "</table>\n",
              "</div>\n",
              "      <button class=\"colab-df-convert\" onclick=\"convertToInteractive('df-75c91ae3-e7fd-46ca-a159-91c8dc16ff70')\"\n",
              "              title=\"Convert this dataframe to an interactive table.\"\n",
              "              style=\"display:none;\">\n",
              "        \n",
              "  <svg xmlns=\"http://www.w3.org/2000/svg\" height=\"24px\"viewBox=\"0 0 24 24\"\n",
              "       width=\"24px\">\n",
              "    <path d=\"M0 0h24v24H0V0z\" fill=\"none\"/>\n",
              "    <path d=\"M18.56 5.44l.94 2.06.94-2.06 2.06-.94-2.06-.94-.94-2.06-.94 2.06-2.06.94zm-11 1L8.5 8.5l.94-2.06 2.06-.94-2.06-.94L8.5 2.5l-.94 2.06-2.06.94zm10 10l.94 2.06.94-2.06 2.06-.94-2.06-.94-.94-2.06-.94 2.06-2.06.94z\"/><path d=\"M17.41 7.96l-1.37-1.37c-.4-.4-.92-.59-1.43-.59-.52 0-1.04.2-1.43.59L10.3 9.45l-7.72 7.72c-.78.78-.78 2.05 0 2.83L4 21.41c.39.39.9.59 1.41.59.51 0 1.02-.2 1.41-.59l7.78-7.78 2.81-2.81c.8-.78.8-2.07 0-2.86zM5.41 20L4 18.59l7.72-7.72 1.47 1.35L5.41 20z\"/>\n",
              "  </svg>\n",
              "      </button>\n",
              "      \n",
              "  <style>\n",
              "    .colab-df-container {\n",
              "      display:flex;\n",
              "      flex-wrap:wrap;\n",
              "      gap: 12px;\n",
              "    }\n",
              "\n",
              "    .colab-df-convert {\n",
              "      background-color: #E8F0FE;\n",
              "      border: none;\n",
              "      border-radius: 50%;\n",
              "      cursor: pointer;\n",
              "      display: none;\n",
              "      fill: #1967D2;\n",
              "      height: 32px;\n",
              "      padding: 0 0 0 0;\n",
              "      width: 32px;\n",
              "    }\n",
              "\n",
              "    .colab-df-convert:hover {\n",
              "      background-color: #E2EBFA;\n",
              "      box-shadow: 0px 1px 2px rgba(60, 64, 67, 0.3), 0px 1px 3px 1px rgba(60, 64, 67, 0.15);\n",
              "      fill: #174EA6;\n",
              "    }\n",
              "\n",
              "    [theme=dark] .colab-df-convert {\n",
              "      background-color: #3B4455;\n",
              "      fill: #D2E3FC;\n",
              "    }\n",
              "\n",
              "    [theme=dark] .colab-df-convert:hover {\n",
              "      background-color: #434B5C;\n",
              "      box-shadow: 0px 1px 3px 1px rgba(0, 0, 0, 0.15);\n",
              "      filter: drop-shadow(0px 1px 2px rgba(0, 0, 0, 0.3));\n",
              "      fill: #FFFFFF;\n",
              "    }\n",
              "  </style>\n",
              "\n",
              "      <script>\n",
              "        const buttonEl =\n",
              "          document.querySelector('#df-75c91ae3-e7fd-46ca-a159-91c8dc16ff70 button.colab-df-convert');\n",
              "        buttonEl.style.display =\n",
              "          google.colab.kernel.accessAllowed ? 'block' : 'none';\n",
              "\n",
              "        async function convertToInteractive(key) {\n",
              "          const element = document.querySelector('#df-75c91ae3-e7fd-46ca-a159-91c8dc16ff70');\n",
              "          const dataTable =\n",
              "            await google.colab.kernel.invokeFunction('convertToInteractive',\n",
              "                                                     [key], {});\n",
              "          if (!dataTable) return;\n",
              "\n",
              "          const docLinkHtml = 'Like what you see? Visit the ' +\n",
              "            '<a target=\"_blank\" href=https://colab.research.google.com/notebooks/data_table.ipynb>data table notebook</a>'\n",
              "            + ' to learn more about interactive tables.';\n",
              "          element.innerHTML = '';\n",
              "          dataTable['output_type'] = 'display_data';\n",
              "          await google.colab.output.renderOutput(dataTable, element);\n",
              "          const docLink = document.createElement('div');\n",
              "          docLink.innerHTML = docLinkHtml;\n",
              "          element.appendChild(docLink);\n",
              "        }\n",
              "      </script>\n",
              "    </div>\n",
              "  </div>\n",
              "  "
            ]
          },
          "metadata": {},
          "execution_count": 46
        }
      ],
      "source": [
        "us.groupby('click_bool')['price_usd'].describe() "
      ]
    },
    {
      "cell_type": "code",
      "execution_count": 47,
      "id": "59250b6f",
      "metadata": {
        "id": "59250b6f",
        "outputId": "d69d10c7-ca71-48c4-fa3d-31163dfae03e",
        "colab": {
          "base_uri": "https://localhost:8080/",
          "height": 289
        }
      },
      "outputs": [
        {
          "output_type": "display_data",
          "data": {
            "text/plain": [
              "<Figure size 432x288 with 1 Axes>"
            ],
            "image/png": "[encoded data removed]"
          },
          "metadata": {}
        }
      ],
      "source": [
        "sns.set(style=\"ticks\", palette=\"pastel\")\n",
        "\n",
        "ax = sns.boxplot(x=\"booking_bool\", y=\"price_usd\", hue=\"booking_bool\", data=us)\n",
        "ax.set_ylim([0, 200]);"
      ]
    },
    {
      "cell_type": "code",
      "execution_count": 48,
      "id": "85a13900",
      "metadata": {
        "id": "85a13900",
        "outputId": "e3720c1d-7954-4cb4-ce82-4d0db4aded79",
        "colab": {
          "base_uri": "https://localhost:8080/"
        }
      },
      "outputs": [
        {
          "output_type": "stream",
          "name": "stdout",
          "text": [
            "<class 'pandas.core.frame.DataFrame'>\n",
            "Int64Index: 27528 entries, 54690 to 12443\n",
            "Data columns (total 23 columns):\n",
            " #   Column                       Non-Null Count  Dtype  \n",
            "---  ------                       --------------  -----  \n",
            " 0   site_id                      27528 non-null  int64  \n",
            " 1   visitor_location_country_id  27528 non-null  int64  \n",
            " 2   prop_country_id              27528 non-null  int64  \n",
            " 3   prop_starrating              27528 non-null  int64  \n",
            " 4   prop_review_score            27528 non-null  float64\n",
            " 5   prop_brand_bool              27528 non-null  int64  \n",
            " 6   prop_location_score1         27528 non-null  float64\n",
            " 7   prop_location_score2         27528 non-null  float64\n",
            " 8   prop_log_historical_price    27528 non-null  float64\n",
            " 9   position                     27528 non-null  float64\n",
            " 10  price_usd                    27528 non-null  float64\n",
            " 11  promotion_flag               27528 non-null  float64\n",
            " 12  srch_destination_id          27528 non-null  float64\n",
            " 13  srch_length_of_stay          27528 non-null  float64\n",
            " 14  srch_booking_window          27528 non-null  float64\n",
            " 15  srch_adults_count            27528 non-null  float64\n",
            " 16  srch_children_count          27528 non-null  float64\n",
            " 17  srch_room_count              27528 non-null  float64\n",
            " 18  srch_saturday_night_bool     27528 non-null  float64\n",
            " 19  orig_destination_distance    27528 non-null  float64\n",
            " 20  random_bool                  27528 non-null  float64\n",
            " 21  click_bool                   27528 non-null  float64\n",
            " 22  booking_bool                 27528 non-null  float64\n",
            "dtypes: float64(18), int64(5)\n",
            "memory usage: 6.0 MB\n"
          ]
        }
      ],
      "source": [
        "# no strings to be observed in us country features \n",
        "us.info()"
      ]
    },
    {
      "cell_type": "code",
      "execution_count": 49,
      "id": "045e2cc1",
      "metadata": {
        "id": "045e2cc1",
        "outputId": "6973484b-dbb8-4327-ccef-47d4e21ed456",
        "colab": {
          "base_uri": "https://localhost:8080/",
          "height": 143
        }
      },
      "outputs": [
        {
          "output_type": "execute_result",
          "data": {
            "text/plain": [
              "                count        mean          std   min   25%    50%    75%  \\\n",
              "booking_bool                                                               \n",
              "0.0           26745.0  228.175926  3484.685508  10.0  84.0  119.0  182.0   \n",
              "1.0             783.0  324.278301  5554.164356  30.0  80.0  109.0  152.0   \n",
              "\n",
              "                   max  \n",
              "booking_bool            \n",
              "0.0           250892.0  \n",
              "1.0           155531.0  "
            ],
            "text/html": [
              "\n",
              "  <div id=\"df-a2492cc4-03c9-45c8-b29c-09e0e7a42e1e\">\n",
              "    <div class=\"colab-df-container\">\n",
              "      <div>\n",
              "<style scoped>\n",
              "    .dataframe tbody tr th:only-of-type {\n",
              "        vertical-align: middle;\n",
              "    }\n",
              "\n",
              "    .dataframe tbody tr th {\n",
              "        vertical-align: top;\n",
              "    }\n",
              "\n",
              "    .dataframe thead th {\n",
              "        text-align: right;\n",
              "    }\n",
              "</style>\n",
              "<table border=\"1\" class=\"dataframe\">\n",
              "  <thead>\n",
              "    <tr style=\"text-align: right;\">\n",
              "      <th></th>\n",
              "      <th>count</th>\n",
              "      <th>mean</th>\n",
              "      <th>std</th>\n",
              "      <th>min</th>\n",
              "      <th>25%</th>\n",
              "      <th>50%</th>\n",
              "      <th>75%</th>\n",
              "      <th>max</th>\n",
              "    </tr>\n",
              "    <tr>\n",
              "      <th>booking_bool</th>\n",
              "      <th></th>\n",
              "      <th></th>\n",
              "      <th></th>\n",
              "      <th></th>\n",
              "      <th></th>\n",
              "      <th></th>\n",
              "      <th></th>\n",
              "      <th></th>\n",
              "    </tr>\n",
              "  </thead>\n",
              "  <tbody>\n",
              "    <tr>\n",
              "      <th>0.0</th>\n",
              "      <td>26745.0</td>\n",
              "      <td>228.175926</td>\n",
              "      <td>3484.685508</td>\n",
              "      <td>10.0</td>\n",
              "      <td>84.0</td>\n",
              "      <td>119.0</td>\n",
              "      <td>182.0</td>\n",
              "      <td>250892.0</td>\n",
              "    </tr>\n",
              "    <tr>\n",
              "      <th>1.0</th>\n",
              "      <td>783.0</td>\n",
              "      <td>324.278301</td>\n",
              "      <td>5554.164356</td>\n",
              "      <td>30.0</td>\n",
              "      <td>80.0</td>\n",
              "      <td>109.0</td>\n",
              "      <td>152.0</td>\n",
              "      <td>155531.0</td>\n",
              "    </tr>\n",
              "  </tbody>\n",
              "</table>\n",
              "</div>\n",
              "      <button class=\"colab-df-convert\" onclick=\"convertToInteractive('df-a2492cc4-03c9-45c8-b29c-09e0e7a42e1e')\"\n",
              "              title=\"Convert this dataframe to an interactive table.\"\n",
              "              style=\"display:none;\">\n",
              "        \n",
              "  <svg xmlns=\"http://www.w3.org/2000/svg\" height=\"24px\"viewBox=\"0 0 24 24\"\n",
              "       width=\"24px\">\n",
              "    <path d=\"M0 0h24v24H0V0z\" fill=\"none\"/>\n",
              "    <path d=\"M18.56 5.44l.94 2.06.94-2.06 2.06-.94-2.06-.94-.94-2.06-.94 2.06-2.06.94zm-11 1L8.5 8.5l.94-2.06 2.06-.94-2.06-.94L8.5 2.5l-.94 2.06-2.06.94zm10 10l.94 2.06.94-2.06 2.06-.94-2.06-.94-.94-2.06-.94 2.06-2.06.94z\"/><path d=\"M17.41 7.96l-1.37-1.37c-.4-.4-.92-.59-1.43-.59-.52 0-1.04.2-1.43.59L10.3 9.45l-7.72 7.72c-.78.78-.78 2.05 0 2.83L4 21.41c.39.39.9.59 1.41.59.51 0 1.02-.2 1.41-.59l7.78-7.78 2.81-2.81c.8-.78.8-2.07 0-2.86zM5.41 20L4 18.59l7.72-7.72 1.47 1.35L5.41 20z\"/>\n",
              "  </svg>\n",
              "      </button>\n",
              "      \n",
              "  <style>\n",
              "    .colab-df-container {\n",
              "      display:flex;\n",
              "      flex-wrap:wrap;\n",
              "      gap: 12px;\n",
              "    }\n",
              "\n",
              "    .colab-df-convert {\n",
              "      background-color: #E8F0FE;\n",
              "      border: none;\n",
              "      border-radius: 50%;\n",
              "      cursor: pointer;\n",
              "      display: none;\n",
              "      fill: #1967D2;\n",
              "      height: 32px;\n",
              "      padding: 0 0 0 0;\n",
              "      width: 32px;\n",
              "    }\n",
              "\n",
              "    .colab-df-convert:hover {\n",
              "      background-color: #E2EBFA;\n",
              "      box-shadow: 0px 1px 2px rgba(60, 64, 67, 0.3), 0px 1px 3px 1px rgba(60, 64, 67, 0.15);\n",
              "      fill: #174EA6;\n",
              "    }\n",
              "\n",
              "    [theme=dark] .colab-df-convert {\n",
              "      background-color: #3B4455;\n",
              "      fill: #D2E3FC;\n",
              "    }\n",
              "\n",
              "    [theme=dark] .colab-df-convert:hover {\n",
              "      background-color: #434B5C;\n",
              "      box-shadow: 0px 1px 3px 1px rgba(0, 0, 0, 0.15);\n",
              "      filter: drop-shadow(0px 1px 2px rgba(0, 0, 0, 0.3));\n",
              "      fill: #FFFFFF;\n",
              "    }\n",
              "  </style>\n",
              "\n",
              "      <script>\n",
              "        const buttonEl =\n",
              "          document.querySelector('#df-a2492cc4-03c9-45c8-b29c-09e0e7a42e1e button.colab-df-convert');\n",
              "        buttonEl.style.display =\n",
              "          google.colab.kernel.accessAllowed ? 'block' : 'none';\n",
              "\n",
              "        async function convertToInteractive(key) {\n",
              "          const element = document.querySelector('#df-a2492cc4-03c9-45c8-b29c-09e0e7a42e1e');\n",
              "          const dataTable =\n",
              "            await google.colab.kernel.invokeFunction('convertToInteractive',\n",
              "                                                     [key], {});\n",
              "          if (!dataTable) return;\n",
              "\n",
              "          const docLinkHtml = 'Like what you see? Visit the ' +\n",
              "            '<a target=\"_blank\" href=https://colab.research.google.com/notebooks/data_table.ipynb>data table notebook</a>'\n",
              "            + ' to learn more about interactive tables.';\n",
              "          element.innerHTML = '';\n",
              "          dataTable['output_type'] = 'display_data';\n",
              "          await google.colab.output.renderOutput(dataTable, element);\n",
              "          const docLink = document.createElement('div');\n",
              "          docLink.innerHTML = docLinkHtml;\n",
              "          element.appendChild(docLink);\n",
              "        }\n",
              "      </script>\n",
              "    </div>\n",
              "  </div>\n",
              "  "
            ]
          },
          "metadata": {},
          "execution_count": 49
        }
      ],
      "source": [
        "us.groupby('booking_bool')['price_usd'].describe() "
      ]
    },
    {
      "cell_type": "markdown",
      "id": "d1923753",
      "metadata": {
        "id": "d1923753"
      },
      "source": [
        "Looking at the mean  of booking_bool and clicking_bool , they both show that the average for booking or clicking is lower \n",
        "than not booking or clicking on a hotel property when compared against prices. \n"
      ]
    },
    {
      "cell_type": "markdown",
      "id": "490d5078",
      "metadata": {
        "id": "490d5078"
      },
      "source": [
        "# correlation by heatmap"
      ]
    },
    {
      "cell_type": "code",
      "execution_count": 50,
      "id": "88b8910d",
      "metadata": {
        "id": "88b8910d",
        "outputId": "b9cbfb99-09af-41e5-8f98-37d08609f1b1",
        "colab": {
          "base_uri": "https://localhost:8080/",
          "height": 795
        }
      },
      "outputs": [
        {
          "output_type": "display_data",
          "data": {
            "text/plain": [
              "<Figure size 1296x1296 with 2 Axes>"
            ],
            "image/png": "[encoded data removed]"
          },
          "metadata": {}
        }
      ],
      "source": [
        "correlation = us.corr()\n",
        "plt.figure(figsize=(18, 18))\n",
        "sns.heatmap(correlation, vmax=1, square=True,annot=True,cmap='viridis')\n",
        "plt.title('Correlation between different fearures');  \n",
        "\n"
      ]
    },
    {
      "cell_type": "markdown",
      "id": "54317ed9",
      "metadata": {
        "id": "54317ed9"
      },
      "source": [
        "observation: there are no features that are correlated to each other in positive or negative correlative way "
      ]
    },
    {
      "cell_type": "code",
      "execution_count": 51,
      "id": "7b655ea0",
      "metadata": {
        "scrolled": true,
        "id": "7b655ea0"
      },
      "outputs": [],
      "source": [
        "\n",
        "#import xgboost as xgb\n",
        "\n",
        "#from sklearn.metrics import mean_squared_error \n",
        "\n",
        "# separating target variable of the rest variables using .iloc to subset data \n",
        "# the target column is the last column which is the booking boolean, therefore we will separate the booking_bool as target \n",
        "# from the rest of the dataframe columns by using -1 in the iloc as variable y as predictor \n",
        "# we want to predict the boolean of booking \n",
        "\n",
        "#X, y = us.iloc[:, :-1], us.iloc[:, -1]"
      ]
    },
    {
      "cell_type": "code",
      "execution_count": 52,
      "id": "34ba0285",
      "metadata": {
        "id": "34ba0285"
      },
      "outputs": [],
      "source": [
        "from sklearn.model_selection import train_test_split  \n",
        "\n",
        "X, y = us.iloc[:, :-1], us.iloc[:, -1]\n",
        "X_train, X_test, y_train, y_test = train_test_split(X, y, test_size=0.2)"
      ]
    },
    {
      "cell_type": "code",
      "execution_count": 53,
      "id": "0bef5a54",
      "metadata": {
        "id": "0bef5a54",
        "outputId": "f06e9899-ed0b-4b94-a22e-449545480039",
        "colab": {
          "base_uri": "https://localhost:8080/"
        }
      },
      "outputs": [
        {
          "output_type": "execute_result",
          "data": {
            "text/plain": [
              "54690    0.0\n",
              "59349    0.0\n",
              "61146    0.0\n",
              "35003    0.0\n",
              "66794    0.0\n",
              "Name: booking_bool, dtype: float64"
            ]
          },
          "metadata": {},
          "execution_count": 53
        }
      ],
      "source": [
        "y.head()"
      ]
    },
    {
      "cell_type": "code",
      "execution_count": 54,
      "id": "05e46692",
      "metadata": {
        "id": "05e46692",
        "outputId": "203eda8d-c236-4df6-b5a9-d4a780720686",
        "colab": {
          "base_uri": "https://localhost:8080/",
          "height": 488
        }
      },
      "outputs": [
        {
          "output_type": "execute_result",
          "data": {
            "text/plain": [
              "       site_id  visitor_location_country_id  prop_country_id  prop_starrating  \\\n",
              "24344        5                          219              219                3   \n",
              "40416        5                          219              219                2   \n",
              "37944        5                          219              219                3   \n",
              "58879        5                          219              219                3   \n",
              "78200        5                          219              219                2   \n",
              "...        ...                          ...              ...              ...   \n",
              "26144        5                          219              219                3   \n",
              "12319        5                          219              219                4   \n",
              "17806        5                          219              219                4   \n",
              "14925        5                          219              219                3   \n",
              "51868        5                          219              219                4   \n",
              "\n",
              "       prop_review_score  prop_brand_bool  prop_location_score1  \\\n",
              "24344                4.0                1                  2.08   \n",
              "40416                3.5                1                  2.30   \n",
              "37944                3.0                1                  0.69   \n",
              "58879                4.5                0                  4.13   \n",
              "78200                4.0                1                  2.20   \n",
              "...                  ...              ...                   ...   \n",
              "26144                4.5                1                  3.04   \n",
              "12319                4.5                1                  2.89   \n",
              "17806                4.0                1                  3.87   \n",
              "14925                3.5                1                  0.69   \n",
              "51868                5.0                1                  2.71   \n",
              "\n",
              "       prop_location_score2  prop_log_historical_price  position  ...  \\\n",
              "24344                0.0075                       5.39      26.0  ...   \n",
              "40416                0.0375                       0.00       7.0  ...   \n",
              "37944                0.0505                       5.05       7.0  ...   \n",
              "58879                0.0430                       5.39      25.0  ...   \n",
              "78200                0.0299                       4.25      28.0  ...   \n",
              "...                     ...                        ...       ...  ...   \n",
              "26144                0.2406                       4.61      22.0  ...   \n",
              "12319                0.1044                       4.86       4.0  ...   \n",
              "17806                0.1922                       5.13       4.0  ...   \n",
              "14925                0.0043                       4.65      35.0  ...   \n",
              "51868                0.0000                       0.00       3.0  ...   \n",
              "\n",
              "       srch_destination_id  srch_length_of_stay  srch_booking_window  \\\n",
              "24344              23345.0                  1.0                  8.0   \n",
              "40416              23435.0                  1.0                  3.0   \n",
              "37944              23100.0                  8.0                 30.0   \n",
              "58879              13216.0                  3.0                 36.0   \n",
              "78200              22434.0                  1.0                  1.0   \n",
              "...                    ...                  ...                  ...   \n",
              "26144               2323.0                  1.0                 15.0   \n",
              "12319               6296.0                  1.0                  2.0   \n",
              "17806               4600.0                  4.0                 74.0   \n",
              "14925              26065.0                  1.0                 25.0   \n",
              "51868              19197.0                  1.0                 30.0   \n",
              "\n",
              "       srch_adults_count  srch_children_count  srch_room_count  \\\n",
              "24344                1.0                  0.0              1.0   \n",
              "40416                1.0                  0.0              1.0   \n",
              "37944                1.0                  0.0              1.0   \n",
              "58879                2.0                  2.0              1.0   \n",
              "78200                2.0                  0.0              1.0   \n",
              "...                  ...                  ...              ...   \n",
              "26144                2.0                  0.0              1.0   \n",
              "12319                1.0                  0.0              1.0   \n",
              "17806                4.0                  0.0              4.0   \n",
              "14925                2.0                  0.0              1.0   \n",
              "51868                4.0                  0.0              1.0   \n",
              "\n",
              "       srch_saturday_night_bool  orig_destination_distance  random_bool  \\\n",
              "24344                       1.0                     165.99          0.0   \n",
              "40416                       0.0                     156.53          0.0   \n",
              "37944                       0.0                     557.49          0.0   \n",
              "58879                       1.0                     420.66          0.0   \n",
              "78200                       1.0                      36.81          0.0   \n",
              "...                         ...                        ...          ...   \n",
              "26144                       0.0                     115.63          0.0   \n",
              "12319                       0.0                     162.71          0.0   \n",
              "17806                       0.0                     969.64          0.0   \n",
              "14925                       1.0                      60.78          0.0   \n",
              "51868                       0.0                    1808.09          0.0   \n",
              "\n",
              "       click_bool  \n",
              "24344         0.0  \n",
              "40416         0.0  \n",
              "37944         0.0  \n",
              "58879         0.0  \n",
              "78200         0.0  \n",
              "...           ...  \n",
              "26144         0.0  \n",
              "12319         0.0  \n",
              "17806         1.0  \n",
              "14925         0.0  \n",
              "51868         0.0  \n",
              "\n",
              "[22022 rows x 22 columns]"
            ],
            "text/html": [
              "\n",
              "  <div id=\"df-7982c764-8492-4370-9b60-f4e4815d5d91\">\n",
              "    <div class=\"colab-df-container\">\n",
              "      <div>\n",
              "<style scoped>\n",
              "    .dataframe tbody tr th:only-of-type {\n",
              "        vertical-align: middle;\n",
              "    }\n",
              "\n",
              "    .dataframe tbody tr th {\n",
              "        vertical-align: top;\n",
              "    }\n",
              "\n",
              "    .dataframe thead th {\n",
              "        text-align: right;\n",
              "    }\n",
              "</style>\n",
              "<table border=\"1\" class=\"dataframe\">\n",
              "  <thead>\n",
              "    <tr style=\"text-align: right;\">\n",
              "      <th></th>\n",
              "      <th>site_id</th>\n",
              "      <th>visitor_location_country_id</th>\n",
              "      <th>prop_country_id</th>\n",
              "      <th>prop_starrating</th>\n",
              "      <th>prop_review_score</th>\n",
              "      <th>prop_brand_bool</th>\n",
              "      <th>prop_location_score1</th>\n",
              "      <th>prop_location_score2</th>\n",
              "      <th>prop_log_historical_price</th>\n",
              "      <th>position</th>\n",
              "      <th>...</th>\n",
              "      <th>srch_destination_id</th>\n",
              "      <th>srch_length_of_stay</th>\n",
              "      <th>srch_booking_window</th>\n",
              "      <th>srch_adults_count</th>\n",
              "      <th>srch_children_count</th>\n",
              "      <th>srch_room_count</th>\n",
              "      <th>srch_saturday_night_bool</th>\n",
              "      <th>orig_destination_distance</th>\n",
              "      <th>random_bool</th>\n",
              "      <th>click_bool</th>\n",
              "    </tr>\n",
              "  </thead>\n",
              "  <tbody>\n",
              "    <tr>\n",
              "      <th>24344</th>\n",
              "      <td>5</td>\n",
              "      <td>219</td>\n",
              "      <td>219</td>\n",
              "      <td>3</td>\n",
              "      <td>4.0</td>\n",
              "      <td>1</td>\n",
              "      <td>2.08</td>\n",
              "      <td>0.0075</td>\n",
              "      <td>5.39</td>\n",
              "      <td>26.0</td>\n",
              "      <td>...</td>\n",
              "      <td>23345.0</td>\n",
              "      <td>1.0</td>\n",
              "      <td>8.0</td>\n",
              "      <td>1.0</td>\n",
              "      <td>0.0</td>\n",
              "      <td>1.0</td>\n",
              "      <td>1.0</td>\n",
              "      <td>165.99</td>\n",
              "      <td>0.0</td>\n",
              "      <td>0.0</td>\n",
              "    </tr>\n",
              "    <tr>\n",
              "      <th>40416</th>\n",
              "      <td>5</td>\n",
              "      <td>219</td>\n",
              "      <td>219</td>\n",
              "      <td>2</td>\n",
              "      <td>3.5</td>\n",
              "      <td>1</td>\n",
              "      <td>2.30</td>\n",
              "      <td>0.0375</td>\n",
              "      <td>0.00</td>\n",
              "      <td>7.0</td>\n",
              "      <td>...</td>\n",
              "      <td>23435.0</td>\n",
              "      <td>1.0</td>\n",
              "      <td>3.0</td>\n",
              "      <td>1.0</td>\n",
              "      <td>0.0</td>\n",
              "      <td>1.0</td>\n",
              "      <td>0.0</td>\n",
              "      <td>156.53</td>\n",
              "      <td>0.0</td>\n",
              "      <td>0.0</td>\n",
              "    </tr>\n",
              "    <tr>\n",
              "      <th>37944</th>\n",
              "      <td>5</td>\n",
              "      <td>219</td>\n",
              "      <td>219</td>\n",
              "      <td>3</td>\n",
              "      <td>3.0</td>\n",
              "      <td>1</td>\n",
              "      <td>0.69</td>\n",
              "      <td>0.0505</td>\n",
              "      <td>5.05</td>\n",
              "      <td>7.0</td>\n",
              "      <td>...</td>\n",
              "      <td>23100.0</td>\n",
              "      <td>8.0</td>\n",
              "      <td>30.0</td>\n",
              "      <td>1.0</td>\n",
              "      <td>0.0</td>\n",
              "      <td>1.0</td>\n",
              "      <td>0.0</td>\n",
              "      <td>557.49</td>\n",
              "      <td>0.0</td>\n",
              "      <td>0.0</td>\n",
              "    </tr>\n",
              "    <tr>\n",
              "      <th>58879</th>\n",
              "      <td>5</td>\n",
              "      <td>219</td>\n",
              "      <td>219</td>\n",
              "      <td>3</td>\n",
              "      <td>4.5</td>\n",
              "      <td>0</td>\n",
              "      <td>4.13</td>\n",
              "      <td>0.0430</td>\n",
              "      <td>5.39</td>\n",
              "      <td>25.0</td>\n",
              "      <td>...</td>\n",
              "      <td>13216.0</td>\n",
              "      <td>3.0</td>\n",
              "      <td>36.0</td>\n",
              "      <td>2.0</td>\n",
              "      <td>2.0</td>\n",
              "      <td>1.0</td>\n",
              "      <td>1.0</td>\n",
              "      <td>420.66</td>\n",
              "      <td>0.0</td>\n",
              "      <td>0.0</td>\n",
              "    </tr>\n",
              "    <tr>\n",
              "      <th>78200</th>\n",
              "      <td>5</td>\n",
              "      <td>219</td>\n",
              "      <td>219</td>\n",
              "      <td>2</td>\n",
              "      <td>4.0</td>\n",
              "      <td>1</td>\n",
              "      <td>2.20</td>\n",
              "      <td>0.0299</td>\n",
              "      <td>4.25</td>\n",
              "      <td>28.0</td>\n",
              "      <td>...</td>\n",
              "      <td>22434.0</td>\n",
              "      <td>1.0</td>\n",
              "      <td>1.0</td>\n",
              "      <td>2.0</td>\n",
              "      <td>0.0</td>\n",
              "      <td>1.0</td>\n",
              "      <td>1.0</td>\n",
              "      <td>36.81</td>\n",
              "      <td>0.0</td>\n",
              "      <td>0.0</td>\n",
              "    </tr>\n",
              "    <tr>\n",
              "      <th>...</th>\n",
              "      <td>...</td>\n",
              "      <td>...</td>\n",
              "      <td>...</td>\n",
              "      <td>...</td>\n",
              "      <td>...</td>\n",
              "      <td>...</td>\n",
              "      <td>...</td>\n",
              "      <td>...</td>\n",
              "      <td>...</td>\n",
              "      <td>...</td>\n",
              "      <td>...</td>\n",
              "      <td>...</td>\n",
              "      <td>...</td>\n",
              "      <td>...</td>\n",
              "      <td>...</td>\n",
              "      <td>...</td>\n",
              "      <td>...</td>\n",
              "      <td>...</td>\n",
              "      <td>...</td>\n",
              "      <td>...</td>\n",
              "      <td>...</td>\n",
              "    </tr>\n",
              "    <tr>\n",
              "      <th>26144</th>\n",
              "      <td>5</td>\n",
              "      <td>219</td>\n",
              "      <td>219</td>\n",
              "      <td>3</td>\n",
              "      <td>4.5</td>\n",
              "      <td>1</td>\n",
              "      <td>3.04</td>\n",
              "      <td>0.2406</td>\n",
              "      <td>4.61</td>\n",
              "      <td>22.0</td>\n",
              "      <td>...</td>\n",
              "      <td>2323.0</td>\n",
              "      <td>1.0</td>\n",
              "      <td>15.0</td>\n",
              "      <td>2.0</td>\n",
              "      <td>0.0</td>\n",
              "      <td>1.0</td>\n",
              "      <td>0.0</td>\n",
              "      <td>115.63</td>\n",
              "      <td>0.0</td>\n",
              "      <td>0.0</td>\n",
              "    </tr>\n",
              "    <tr>\n",
              "      <th>12319</th>\n",
              "      <td>5</td>\n",
              "      <td>219</td>\n",
              "      <td>219</td>\n",
              "      <td>4</td>\n",
              "      <td>4.5</td>\n",
              "      <td>1</td>\n",
              "      <td>2.89</td>\n",
              "      <td>0.1044</td>\n",
              "      <td>4.86</td>\n",
              "      <td>4.0</td>\n",
              "      <td>...</td>\n",
              "      <td>6296.0</td>\n",
              "      <td>1.0</td>\n",
              "      <td>2.0</td>\n",
              "      <td>1.0</td>\n",
              "      <td>0.0</td>\n",
              "      <td>1.0</td>\n",
              "      <td>0.0</td>\n",
              "      <td>162.71</td>\n",
              "      <td>0.0</td>\n",
              "      <td>0.0</td>\n",
              "    </tr>\n",
              "    <tr>\n",
              "      <th>17806</th>\n",
              "      <td>5</td>\n",
              "      <td>219</td>\n",
              "      <td>219</td>\n",
              "      <td>4</td>\n",
              "      <td>4.0</td>\n",
              "      <td>1</td>\n",
              "      <td>3.87</td>\n",
              "      <td>0.1922</td>\n",
              "      <td>5.13</td>\n",
              "      <td>4.0</td>\n",
              "      <td>...</td>\n",
              "      <td>4600.0</td>\n",
              "      <td>4.0</td>\n",
              "      <td>74.0</td>\n",
              "      <td>4.0</td>\n",
              "      <td>0.0</td>\n",
              "      <td>4.0</td>\n",
              "      <td>0.0</td>\n",
              "      <td>969.64</td>\n",
              "      <td>0.0</td>\n",
              "      <td>1.0</td>\n",
              "    </tr>\n",
              "    <tr>\n",
              "      <th>14925</th>\n",
              "      <td>5</td>\n",
              "      <td>219</td>\n",
              "      <td>219</td>\n",
              "      <td>3</td>\n",
              "      <td>3.5</td>\n",
              "      <td>1</td>\n",
              "      <td>0.69</td>\n",
              "      <td>0.0043</td>\n",
              "      <td>4.65</td>\n",
              "      <td>35.0</td>\n",
              "      <td>...</td>\n",
              "      <td>26065.0</td>\n",
              "      <td>1.0</td>\n",
              "      <td>25.0</td>\n",
              "      <td>2.0</td>\n",
              "      <td>0.0</td>\n",
              "      <td>1.0</td>\n",
              "      <td>1.0</td>\n",
              "      <td>60.78</td>\n",
              "      <td>0.0</td>\n",
              "      <td>0.0</td>\n",
              "    </tr>\n",
              "    <tr>\n",
              "      <th>51868</th>\n",
              "      <td>5</td>\n",
              "      <td>219</td>\n",
              "      <td>219</td>\n",
              "      <td>4</td>\n",
              "      <td>5.0</td>\n",
              "      <td>1</td>\n",
              "      <td>2.71</td>\n",
              "      <td>0.0000</td>\n",
              "      <td>0.00</td>\n",
              "      <td>3.0</td>\n",
              "      <td>...</td>\n",
              "      <td>19197.0</td>\n",
              "      <td>1.0</td>\n",
              "      <td>30.0</td>\n",
              "      <td>4.0</td>\n",
              "      <td>0.0</td>\n",
              "      <td>1.0</td>\n",
              "      <td>0.0</td>\n",
              "      <td>1808.09</td>\n",
              "      <td>0.0</td>\n",
              "      <td>0.0</td>\n",
              "    </tr>\n",
              "  </tbody>\n",
              "</table>\n",
              "<p>22022 rows × 22 columns</p>\n",
              "</div>\n",
              "      <button class=\"colab-df-convert\" onclick=\"convertToInteractive('df-7982c764-8492-4370-9b60-f4e4815d5d91')\"\n",
              "              title=\"Convert this dataframe to an interactive table.\"\n",
              "              style=\"display:none;\">\n",
              "        \n",
              "  <svg xmlns=\"http://www.w3.org/2000/svg\" height=\"24px\"viewBox=\"0 0 24 24\"\n",
              "       width=\"24px\">\n",
              "    <path d=\"M0 0h24v24H0V0z\" fill=\"none\"/>\n",
              "    <path d=\"M18.56 5.44l.94 2.06.94-2.06 2.06-.94-2.06-.94-.94-2.06-.94 2.06-2.06.94zm-11 1L8.5 8.5l.94-2.06 2.06-.94-2.06-.94L8.5 2.5l-.94 2.06-2.06.94zm10 10l.94 2.06.94-2.06 2.06-.94-2.06-.94-.94-2.06-.94 2.06-2.06.94z\"/><path d=\"M17.41 7.96l-1.37-1.37c-.4-.4-.92-.59-1.43-.59-.52 0-1.04.2-1.43.59L10.3 9.45l-7.72 7.72c-.78.78-.78 2.05 0 2.83L4 21.41c.39.39.9.59 1.41.59.51 0 1.02-.2 1.41-.59l7.78-7.78 2.81-2.81c.8-.78.8-2.07 0-2.86zM5.41 20L4 18.59l7.72-7.72 1.47 1.35L5.41 20z\"/>\n",
              "  </svg>\n",
              "      </button>\n",
              "      \n",
              "  <style>\n",
              "    .colab-df-container {\n",
              "      display:flex;\n",
              "      flex-wrap:wrap;\n",
              "      gap: 12px;\n",
              "    }\n",
              "\n",
              "    .colab-df-convert {\n",
              "      background-color: #E8F0FE;\n",
              "      border: none;\n",
              "      border-radius: 50%;\n",
              "      cursor: pointer;\n",
              "      display: none;\n",
              "      fill: #1967D2;\n",
              "      height: 32px;\n",
              "      padding: 0 0 0 0;\n",
              "      width: 32px;\n",
              "    }\n",
              "\n",
              "    .colab-df-convert:hover {\n",
              "      background-color: #E2EBFA;\n",
              "      box-shadow: 0px 1px 2px rgba(60, 64, 67, 0.3), 0px 1px 3px 1px rgba(60, 64, 67, 0.15);\n",
              "      fill: #174EA6;\n",
              "    }\n",
              "\n",
              "    [theme=dark] .colab-df-convert {\n",
              "      background-color: #3B4455;\n",
              "      fill: #D2E3FC;\n",
              "    }\n",
              "\n",
              "    [theme=dark] .colab-df-convert:hover {\n",
              "      background-color: #434B5C;\n",
              "      box-shadow: 0px 1px 3px 1px rgba(0, 0, 0, 0.15);\n",
              "      filter: drop-shadow(0px 1px 2px rgba(0, 0, 0, 0.3));\n",
              "      fill: #FFFFFF;\n",
              "    }\n",
              "  </style>\n",
              "\n",
              "      <script>\n",
              "        const buttonEl =\n",
              "          document.querySelector('#df-7982c764-8492-4370-9b60-f4e4815d5d91 button.colab-df-convert');\n",
              "        buttonEl.style.display =\n",
              "          google.colab.kernel.accessAllowed ? 'block' : 'none';\n",
              "\n",
              "        async function convertToInteractive(key) {\n",
              "          const element = document.querySelector('#df-7982c764-8492-4370-9b60-f4e4815d5d91');\n",
              "          const dataTable =\n",
              "            await google.colab.kernel.invokeFunction('convertToInteractive',\n",
              "                                                     [key], {});\n",
              "          if (!dataTable) return;\n",
              "\n",
              "          const docLinkHtml = 'Like what you see? Visit the ' +\n",
              "            '<a target=\"_blank\" href=https://colab.research.google.com/notebooks/data_table.ipynb>data table notebook</a>'\n",
              "            + ' to learn more about interactive tables.';\n",
              "          element.innerHTML = '';\n",
              "          dataTable['output_type'] = 'display_data';\n",
              "          await google.colab.output.renderOutput(dataTable, element);\n",
              "          const docLink = document.createElement('div');\n",
              "          docLink.innerHTML = docLinkHtml;\n",
              "          element.appendChild(docLink);\n",
              "        }\n",
              "      </script>\n",
              "    </div>\n",
              "  </div>\n",
              "  "
            ]
          },
          "metadata": {},
          "execution_count": 54
        }
      ],
      "source": [
        "X_train"
      ]
    },
    {
      "cell_type": "code",
      "execution_count": 55,
      "id": "cba89948",
      "metadata": {
        "id": "cba89948"
      },
      "outputs": [],
      "source": [
        "from sklearn.ensemble import RandomForestClassifier\n",
        "rf_random = RandomForestClassifier() "
      ]
    },
    {
      "cell_type": "code",
      "execution_count": 56,
      "id": "216a0f11",
      "metadata": {
        "id": "216a0f11",
        "outputId": "52830ce7-06e8-4d35-f3ee-0c18dc6f6aba",
        "colab": {
          "base_uri": "https://localhost:8080/"
        }
      },
      "outputs": [
        {
          "output_type": "stream",
          "name": "stdout",
          "text": [
            "[100, 200, 300, 400, 500, 600, 700, 800, 900, 1000, 1100, 1200]\n"
          ]
        }
      ],
      "source": [
        "# hyperparameters \n",
        "\n",
        "n_estimators = [int(x) for x in np.linspace(start = 100, stop = 1200, num = 12)] \n",
        "print(n_estimators)"
      ]
    },
    {
      "cell_type": "code",
      "execution_count": 57,
      "id": "3da5f599",
      "metadata": {
        "id": "3da5f599"
      },
      "outputs": [],
      "source": [
        "# randomized Search CV \n",
        "n_estimators = [int(x) for x in np.linspace(start = 100, stop = 1200, num = 12)] \n",
        "# number of features consider at every split \n",
        "max_features = ['auto', 'sqrt'] \n",
        "# maximum number of levels in tree \n",
        "max_depth = [int(x) for x in np.linspace(5, 30, num=6)] \n",
        "#max_depth.append(None) \n",
        "# minimum number of samples required to split node \n",
        "min_samples_split = [2, 5, 10, 15, 100] \n",
        "# minimum number of samples required at each leaf node \n",
        "min_samples_leaf = [1, 2, 5, 10] \n"
      ]
    },
    {
      "cell_type": "code",
      "execution_count": 58,
      "id": "b099f34d",
      "metadata": {
        "id": "b099f34d"
      },
      "outputs": [],
      "source": [
        "from sklearn.model_selection import RandomizedSearchCV\n"
      ]
    },
    {
      "cell_type": "code",
      "execution_count": 59,
      "id": "96de8aff",
      "metadata": {
        "id": "96de8aff",
        "outputId": "a32a5f2c-409d-4fae-88ef-05c528919925",
        "colab": {
          "base_uri": "https://localhost:8080/"
        }
      },
      "outputs": [
        {
          "output_type": "stream",
          "name": "stdout",
          "text": [
            "{'n_estimators': [100, 200, 300, 400, 500, 600, 700, 800, 900, 1000, 1100, 1200], 'max_features': ['auto', 'sqrt'], 'max_depth': [5, 10, 15, 20, 25, 30], 'min_samples_split': [2, 5, 10, 15, 100], 'min_samples_leaf': [1, 2, 5, 10]}\n"
          ]
        }
      ],
      "source": [
        "# create random grid \n",
        "\n",
        "random_grid = {'n_estimators': n_estimators, \n",
        "              'max_features': max_features, \n",
        "              'max_depth': max_depth, \n",
        "              'min_samples_split': min_samples_split, \n",
        "              'min_samples_leaf': min_samples_leaf} \n",
        "\n",
        "print(random_grid) "
      ]
    },
    {
      "cell_type": "code",
      "execution_count": 60,
      "id": "17092a7d",
      "metadata": {
        "id": "17092a7d"
      },
      "outputs": [],
      "source": [
        "# using random grid for best hyperparameters \n",
        "# tuning creating base model \n",
        "rf = RandomForestClassifier()\n"
      ]
    },
    {
      "cell_type": "code",
      "execution_count": 61,
      "id": "7b12e48a",
      "metadata": {
        "id": "7b12e48a"
      },
      "outputs": [],
      "source": [
        "rf_random = RandomizedSearchCV(estimator = rf, param_distributions = random_grid, scoring='neg_mean_squared_error', n_iter = 10, cv=5, verbose=2, random_state=42,  n_jobs=1)"
      ]
    },
    {
      "cell_type": "code",
      "execution_count": 62,
      "id": "c79251d7",
      "metadata": {
        "id": "c79251d7",
        "outputId": "4d349fea-9449-4d48-a071-b57ac80977a5",
        "colab": {
          "base_uri": "https://localhost:8080/"
        }
      },
      "outputs": [
        {
          "output_type": "stream",
          "name": "stdout",
          "text": [
            "Fitting 5 folds for each of 10 candidates, totalling 50 fits\n",
            "[CV] END max_depth=10, max_features=sqrt, min_samples_leaf=5, min_samples_split=5, n_estimators=900; total time=  10.4s\n",
            "[CV] END max_depth=10, max_features=sqrt, min_samples_leaf=5, min_samples_split=5, n_estimators=900; total time=  10.1s\n",
            "[CV] END max_depth=10, max_features=sqrt, min_samples_leaf=5, min_samples_split=5, n_estimators=900; total time=  10.5s\n",
            "[CV] END max_depth=10, max_features=sqrt, min_samples_leaf=5, min_samples_split=5, n_estimators=900; total time=  10.5s\n",
            "[CV] END max_depth=10, max_features=sqrt, min_samples_leaf=5, min_samples_split=5, n_estimators=900; total time=  10.5s\n",
            "[CV] END max_depth=15, max_features=sqrt, min_samples_leaf=2, min_samples_split=10, n_estimators=1100; total time=  13.4s\n",
            "[CV] END max_depth=15, max_features=sqrt, min_samples_leaf=2, min_samples_split=10, n_estimators=1100; total time=  12.8s\n",
            "[CV] END max_depth=15, max_features=sqrt, min_samples_leaf=2, min_samples_split=10, n_estimators=1100; total time=  13.0s\n",
            "[CV] END max_depth=15, max_features=sqrt, min_samples_leaf=2, min_samples_split=10, n_estimators=1100; total time=  13.2s\n",
            "[CV] END max_depth=15, max_features=sqrt, min_samples_leaf=2, min_samples_split=10, n_estimators=1100; total time=  13.3s\n",
            "[CV] END max_depth=15, max_features=auto, min_samples_leaf=5, min_samples_split=100, n_estimators=300; total time=   3.5s\n",
            "[CV] END max_depth=15, max_features=auto, min_samples_leaf=5, min_samples_split=100, n_estimators=300; total time=   3.4s\n",
            "[CV] END max_depth=15, max_features=auto, min_samples_leaf=5, min_samples_split=100, n_estimators=300; total time=   3.4s\n",
            "[CV] END max_depth=15, max_features=auto, min_samples_leaf=5, min_samples_split=100, n_estimators=300; total time=   3.3s\n",
            "[CV] END max_depth=15, max_features=auto, min_samples_leaf=5, min_samples_split=100, n_estimators=300; total time=   3.3s\n",
            "[CV] END max_depth=15, max_features=auto, min_samples_leaf=5, min_samples_split=5, n_estimators=400; total time=   4.8s\n",
            "[CV] END max_depth=15, max_features=auto, min_samples_leaf=5, min_samples_split=5, n_estimators=400; total time=   4.7s\n",
            "[CV] END max_depth=15, max_features=auto, min_samples_leaf=5, min_samples_split=5, n_estimators=400; total time=   4.7s\n",
            "[CV] END max_depth=15, max_features=auto, min_samples_leaf=5, min_samples_split=5, n_estimators=400; total time=   4.8s\n",
            "[CV] END max_depth=15, max_features=auto, min_samples_leaf=5, min_samples_split=5, n_estimators=400; total time=   4.6s\n",
            "[CV] END max_depth=20, max_features=auto, min_samples_leaf=10, min_samples_split=5, n_estimators=700; total time=   8.3s\n",
            "[CV] END max_depth=20, max_features=auto, min_samples_leaf=10, min_samples_split=5, n_estimators=700; total time=   8.1s\n",
            "[CV] END max_depth=20, max_features=auto, min_samples_leaf=10, min_samples_split=5, n_estimators=700; total time=   8.1s\n",
            "[CV] END max_depth=20, max_features=auto, min_samples_leaf=10, min_samples_split=5, n_estimators=700; total time=   8.3s\n",
            "[CV] END max_depth=20, max_features=auto, min_samples_leaf=10, min_samples_split=5, n_estimators=700; total time=   8.4s\n",
            "[CV] END max_depth=25, max_features=sqrt, min_samples_leaf=1, min_samples_split=2, n_estimators=1000; total time=  12.2s\n",
            "[CV] END max_depth=25, max_features=sqrt, min_samples_leaf=1, min_samples_split=2, n_estimators=1000; total time=  12.0s\n",
            "[CV] END max_depth=25, max_features=sqrt, min_samples_leaf=1, min_samples_split=2, n_estimators=1000; total time=  11.6s\n",
            "[CV] END max_depth=25, max_features=sqrt, min_samples_leaf=1, min_samples_split=2, n_estimators=1000; total time=  11.9s\n",
            "[CV] END max_depth=25, max_features=sqrt, min_samples_leaf=1, min_samples_split=2, n_estimators=1000; total time=  12.0s\n",
            "[CV] END max_depth=5, max_features=sqrt, min_samples_leaf=10, min_samples_split=15, n_estimators=1100; total time=  10.5s\n",
            "[CV] END max_depth=5, max_features=sqrt, min_samples_leaf=10, min_samples_split=15, n_estimators=1100; total time=  10.4s\n",
            "[CV] END max_depth=5, max_features=sqrt, min_samples_leaf=10, min_samples_split=15, n_estimators=1100; total time=  10.5s\n",
            "[CV] END max_depth=5, max_features=sqrt, min_samples_leaf=10, min_samples_split=15, n_estimators=1100; total time=  10.3s\n",
            "[CV] END max_depth=5, max_features=sqrt, min_samples_leaf=10, min_samples_split=15, n_estimators=1100; total time=  10.4s\n",
            "[CV] END max_depth=15, max_features=sqrt, min_samples_leaf=1, min_samples_split=15, n_estimators=300; total time=   3.6s\n",
            "[CV] END max_depth=15, max_features=sqrt, min_samples_leaf=1, min_samples_split=15, n_estimators=300; total time=   3.5s\n",
            "[CV] END max_depth=15, max_features=sqrt, min_samples_leaf=1, min_samples_split=15, n_estimators=300; total time=   3.5s\n",
            "[CV] END max_depth=15, max_features=sqrt, min_samples_leaf=1, min_samples_split=15, n_estimators=300; total time=   3.6s\n",
            "[CV] END max_depth=15, max_features=sqrt, min_samples_leaf=1, min_samples_split=15, n_estimators=300; total time=   3.5s\n",
            "[CV] END max_depth=5, max_features=sqrt, min_samples_leaf=2, min_samples_split=10, n_estimators=700; total time=   6.8s\n",
            "[CV] END max_depth=5, max_features=sqrt, min_samples_leaf=2, min_samples_split=10, n_estimators=700; total time=   6.5s\n",
            "[CV] END max_depth=5, max_features=sqrt, min_samples_leaf=2, min_samples_split=10, n_estimators=700; total time=   6.7s\n",
            "[CV] END max_depth=5, max_features=sqrt, min_samples_leaf=2, min_samples_split=10, n_estimators=700; total time=   6.6s\n",
            "[CV] END max_depth=5, max_features=sqrt, min_samples_leaf=2, min_samples_split=10, n_estimators=700; total time=   6.5s\n",
            "[CV] END max_depth=20, max_features=auto, min_samples_leaf=1, min_samples_split=15, n_estimators=700; total time=   8.4s\n",
            "[CV] END max_depth=20, max_features=auto, min_samples_leaf=1, min_samples_split=15, n_estimators=700; total time=   8.3s\n",
            "[CV] END max_depth=20, max_features=auto, min_samples_leaf=1, min_samples_split=15, n_estimators=700; total time=   8.2s\n",
            "[CV] END max_depth=20, max_features=auto, min_samples_leaf=1, min_samples_split=15, n_estimators=700; total time=   8.5s\n",
            "[CV] END max_depth=20, max_features=auto, min_samples_leaf=1, min_samples_split=15, n_estimators=700; total time=   8.3s\n"
          ]
        },
        {
          "output_type": "execute_result",
          "data": {
            "text/plain": [
              "RandomizedSearchCV(cv=5, estimator=RandomForestClassifier(), n_jobs=1,\n",
              "                   param_distributions={'max_depth': [5, 10, 15, 20, 25, 30],\n",
              "                                        'max_features': ['auto', 'sqrt'],\n",
              "                                        'min_samples_leaf': [1, 2, 5, 10],\n",
              "                                        'min_samples_split': [2, 5, 10, 15,\n",
              "                                                              100],\n",
              "                                        'n_estimators': [100, 200, 300, 400,\n",
              "                                                         500, 600, 700, 800,\n",
              "                                                         900, 1000, 1100,\n",
              "                                                         1200]},\n",
              "                   random_state=42, scoring='neg_mean_squared_error',\n",
              "                   verbose=2)"
            ]
          },
          "metadata": {},
          "execution_count": 62
        }
      ],
      "source": [
        "rf_random.fit(X_train, y_train)"
      ]
    },
    {
      "cell_type": "code",
      "execution_count": 63,
      "id": "5595b27f",
      "metadata": {
        "id": "5595b27f"
      },
      "outputs": [],
      "source": [
        "predictions=rf_random.predict(X_test)"
      ]
    },
    {
      "cell_type": "code",
      "source": [
        "predictions"
      ],
      "metadata": {
        "colab": {
          "base_uri": "https://localhost:8080/"
        },
        "id": "6YfWxGqp16pp",
        "outputId": "5860f133-0a2d-4d6d-c0d6-bc1ea6cf72e1"
      },
      "id": "6YfWxGqp16pp",
      "execution_count": 64,
      "outputs": [
        {
          "output_type": "execute_result",
          "data": {
            "text/plain": [
              "array([0., 0., 0., ..., 0., 0., 0.])"
            ]
          },
          "metadata": {},
          "execution_count": 64
        }
      ]
    },
    {
      "cell_type": "code",
      "source": [
        "sns.distplot(y_test-predictions) # very good results given by the model"
      ],
      "metadata": {
        "colab": {
          "base_uri": "https://localhost:8080/",
          "height": 357
        },
        "id": "2mrF4G0l-2BG",
        "outputId": "bdbe2cc7-9ec8-40f0-f2bb-dd54d3c5de46"
      },
      "id": "2mrF4G0l-2BG",
      "execution_count": 65,
      "outputs": [
        {
          "output_type": "stream",
          "name": "stderr",
          "text": [
            "/usr/local/lib/python3.7/dist-packages/seaborn/distributions.py:2619: FutureWarning: `distplot` is a deprecated function and will be removed in a future version. Please adapt your code to use either `displot` (a figure-level function with similar flexibility) or `histplot` (an axes-level function for histograms).\n",
            "  warnings.warn(msg, FutureWarning)\n"
          ]
        },
        {
          "output_type": "execute_result",
          "data": {
            "text/plain": [
              "<matplotlib.axes._subplots.AxesSubplot at 0x7fe48f4d7090>"
            ]
          },
          "metadata": {},
          "execution_count": 65
        },
        {
          "output_type": "display_data",
          "data": {
            "text/plain": [
              "<Figure size 432x288 with 1 Axes>"
            ],
            "image/png": "[encoded data removed]"
          },
          "metadata": {}
        }
      ]
    },
    {
      "cell_type": "code",
      "source": [
        "plt.scatter(y_test, predictions) # no linear relationship so model is not good  "
      ],
      "metadata": {
        "colab": {
          "base_uri": "https://localhost:8080/",
          "height": 285
        },
        "id": "BUl5qOv8_Ml-",
        "outputId": "2cbf3d8d-31e2-4e3e-fd89-d6a80a399fef"
      },
      "id": "BUl5qOv8_Ml-",
      "execution_count": 66,
      "outputs": [
        {
          "output_type": "execute_result",
          "data": {
            "text/plain": [
              "<matplotlib.collections.PathCollection at 0x7fe48f0c5910>"
            ]
          },
          "metadata": {},
          "execution_count": 66
        },
        {
          "output_type": "display_data",
          "data": {
            "text/plain": [
              "<Figure size 432x288 with 1 Axes>"
            ],
            "image/png": "[encoded data removed]"
          },
          "metadata": {}
        }
      ]
    },
    {
      "cell_type": "code",
      "source": [
        ""
      ],
      "metadata": {
        "id": "3-iwgGa6_nzn"
      },
      "id": "3-iwgGa6_nzn",
      "execution_count": null,
      "outputs": []
    },
    {
      "cell_type": "code",
      "execution_count": null,
      "id": "355ac016",
      "metadata": {
        "id": "355ac016",
        "outputId": "e28cedbc-c7df-4062-80ea-fcc573553325"
      },
      "outputs": [
        {
          "ename": "AttributeError",
          "evalue": "module 'xgboost' has no attribute 'XGBClassifier'",
          "output_type": "error",
          "traceback": [
            "\u001b[1;31m---------------------------------------------------------------------------\u001b[0m",
            "\u001b[1;31mAttributeError\u001b[0m                            Traceback (most recent call last)",
            "\u001b[1;32m~\\AppData\\Local\\Temp/ipykernel_18400/2592555335.py\u001b[0m in \u001b[0;36m<module>\u001b[1;34m\u001b[0m\n\u001b[1;32m----> 1\u001b[1;33m \u001b[0mxg_clas\u001b[0m \u001b[1;33m=\u001b[0m \u001b[0mxgb\u001b[0m\u001b[1;33m.\u001b[0m\u001b[0mXGBClassifier\u001b[0m\u001b[1;33m(\u001b[0m\u001b[0mobjective\u001b[0m\u001b[1;33m=\u001b[0m\u001b[1;34m'clas:linear'\u001b[0m\u001b[1;33m,\u001b[0m \u001b[0mcolsample_bytree\u001b[0m\u001b[1;33m=\u001b[0m\u001b[1;36m0.3\u001b[0m\u001b[1;33m,\u001b[0m \u001b[0mlearning_rate\u001b[0m\u001b[1;33m=\u001b[0m\u001b[1;36m0.1\u001b[0m\u001b[1;33m,\u001b[0m \u001b[0mmax_depth\u001b[0m\u001b[1;33m=\u001b[0m\u001b[1;36m5\u001b[0m\u001b[1;33m,\u001b[0m \u001b[0malpha\u001b[0m\u001b[1;33m=\u001b[0m\u001b[1;36m10\u001b[0m\u001b[1;33m,\u001b[0m \u001b[0mn_estimators\u001b[0m\u001b[1;33m=\u001b[0m\u001b[1;36m10\u001b[0m\u001b[1;33m)\u001b[0m\u001b[1;33m\u001b[0m\u001b[1;33m\u001b[0m\u001b[0m\n\u001b[0m",
            "\u001b[1;31mAttributeError\u001b[0m: module 'xgboost' has no attribute 'XGBClassifier'"
          ]
        }
      ],
      "source": [
        "xg_clas = xgb.XGBClassifier(objective='clas:linear', colsample_bytree=0.3, learning_rate=0.1, max_depth=5, alpha=10, n_estimators=10) \n"
      ]
    },
    {
      "cell_type": "code",
      "source": [
        ""
      ],
      "metadata": {
        "id": "wzyBg-zO-zv0"
      },
      "id": "wzyBg-zO-zv0",
      "execution_count": null,
      "outputs": []
    },
    {
      "cell_type": "code",
      "execution_count": null,
      "id": "422f9db8",
      "metadata": {
        "id": "422f9db8"
      },
      "outputs": [],
      "source": [
        ""
      ]
    },
    {
      "cell_type": "code",
      "execution_count": null,
      "id": "ac49e571",
      "metadata": {
        "id": "ac49e571",
        "outputId": "803e07e9-4086-439b-806f-7eddecd64329"
      },
      "outputs": [
        {
          "data": {
            "text/plain": [
              "2878339    1\n",
              "3662867    7\n",
              "113195     7\n",
              "703324     1\n",
              "1248338    2\n",
              "          ..\n",
              "4471839    1\n",
              "1825876    1\n",
              "140777     3\n",
              "3645860    1\n",
              "2925222    4\n",
              "Name: srch_length_of_stay, Length: 1735493, dtype: int64"
            ]
          },
          "execution_count": 207,
          "metadata": {},
          "output_type": "execute_result"
        }
      ],
      "source": [
        "us.srch_length_of_stay\n",
        "\n"
      ]
    },
    {
      "cell_type": "code",
      "execution_count": null,
      "id": "195bc19c",
      "metadata": {
        "id": "195bc19c"
      },
      "outputs": [],
      "source": [
        ""
      ]
    },
    {
      "cell_type": "code",
      "execution_count": null,
      "id": "dbe559e5",
      "metadata": {
        "id": "dbe559e5",
        "outputId": "b5362a04-f635-45b9-b5eb-d9c73f03960c"
      },
      "outputs": [
        {
          "name": "stdout",
          "output_type": "stream",
          "text": [
            "Percentage of not click impressions:  0.0\n",
            "Percentage of click impression:  1.0\n",
            "Total number of records in resampled data:  98108\n"
          ]
        }
      ],
      "source": [
        "import numpy as np\n",
        "\n",
        "\n",
        "booking_indices = us[us.booking_bool == 1].index\n",
        "random_indices  = np.random.choice(booking_indices, len(us.loc[us.booking_bool ==1]), replace=False)  \n",
        "booking_sample = us.loc[random_indices]  \n",
        "                                   \n",
        "                                   \n",
        "not_booked = us[us.booking_bool ==0].index \n",
        "random_indices  = np.random.choice(booking_indices, sum(us['booking_bool']), replace = False)  \n",
        "not_booked_sample = us.loc[random_indices] \n",
        "                                   \n",
        "                                   \n",
        "us_new = pd.concat([booking_sample, not_booked_sample], axis=0)\n",
        "\n",
        "                        \n",
        "                                   \n",
        "                                \n",
        "  \n",
        "\n",
        "print(\"Percentage of not click impressions: \", len(us_new[us_new.booking_bool == 0])/len(us_new))\n",
        "print(\"Percentage of click impression: \", len(us_new[us_new.booking_bool == 1])/len(us_new))\n",
        "print(\"Total number of records in resampled data: \", len(us_new))"
      ]
    },
    {
      "cell_type": "code",
      "execution_count": null,
      "id": "042197f4",
      "metadata": {
        "id": "042197f4"
      },
      "outputs": [],
      "source": [
        "from sklearn.ensemble import RandomForestClassifier\n",
        "from sklearn.ensemble import GradientBoostingClassifier\n",
        "from sklearn.ensemble import BaggingClassifier\n",
        "from sklearn.ensemble import AdaBoostClassifier\n",
        "from sklearn.ensemble import ExtraTreesClassifier\n",
        "from sklearn.neural_network import MLPClassifier\n",
        "from sklearn.naive_bayes import GaussianNB\n",
        "from sklearn.naive_bayes import BernoulliNB\n",
        "from sklearn.naive_bayes import MultinomialNB\n",
        "from sklearn import metrics\n",
        "from sklearn.model_selection import train_test_split\n",
        "from sklearn.preprocessing import MinMaxScaler"
      ]
    },
    {
      "cell_type": "code",
      "execution_count": null,
      "id": "df041418",
      "metadata": {
        "id": "df041418"
      },
      "outputs": [],
      "source": [
        "\n",
        "# MinMax=MinMaxScaler()\n",
        "# df['price_usd']=MinMax.fit_transform(df['price_usd'].values.reshape(-1,1)) \n",
        "\n",
        "\n",
        "mms = MinMaxScaler()\n",
        "us_new[['price_usd','orig_destination_distance']] = mms.fit_transform(us_new[['price_usd','orig_destination_distance']])"
      ]
    },
    {
      "cell_type": "code",
      "execution_count": null,
      "id": "df960467",
      "metadata": {
        "id": "df960467"
      },
      "outputs": [],
      "source": [
        ""
      ]
    },
    {
      "cell_type": "code",
      "execution_count": null,
      "id": "7cb86cfb",
      "metadata": {
        "id": "7cb86cfb"
      },
      "outputs": [],
      "source": [
        "\n",
        "\n",
        "\n",
        "X_train,X_test,y_train,y_test = train_test_split(X,Y1,test_size=0.3,random_state=1)\n"
      ]
    },
    {
      "cell_type": "code",
      "execution_count": null,
      "id": "1ab85961",
      "metadata": {
        "id": "1ab85961",
        "outputId": "abeaaae6-e791-4ea5-bd3c-d7dfec7064db"
      },
      "outputs": [
        {
          "data": {
            "text/plain": [
              "RandomForestClassifier(min_samples_leaf=5, min_samples_split=3, n_estimators=51)"
            ]
          },
          "execution_count": 197,
          "metadata": {},
          "output_type": "execute_result"
        }
      ],
      "source": [
        "rf =RandomForestClassifier(n_estimators=51,min_samples_leaf=5,min_samples_split=3) \n",
        "classifier_name = 'RandomForest'\n",
        "\n",
        "rf"
      ]
    },
    {
      "cell_type": "code",
      "execution_count": null,
      "id": "925d7e38",
      "metadata": {
        "id": "925d7e38"
      },
      "outputs": [],
      "source": [
        "def print_evaluation_metrics(trained_model,trained_model_name,X_test,y_test):\n",
        "    print('--------- Model : ', trained_model_name, ' ---------------\\n')\n",
        "    predicted_values = trained_model.predict(X_test)\n",
        "    print(metrics.classification_report(y_test,predicted_values))\n",
        "    print(\"Accuracy Score : \",metrics.accuracy_score(y_test,predicted_values))\n",
        "    print(\"---------------------------------------\\n\")"
      ]
    },
    {
      "cell_type": "code",
      "execution_count": null,
      "id": "8070ca9d",
      "metadata": {
        "id": "8070ca9d",
        "outputId": "0168e7c6-aa39-46f6-d43a-6c761501ce05"
      },
      "outputs": [
        {
          "name": "stdout",
          "output_type": "stream",
          "text": [
            "--------- Model :  RandomForest  ---------------\n",
            "\n",
            "              precision    recall  f1-score   support\n",
            "\n",
            "           1       1.00      1.00      1.00     29433\n",
            "\n",
            "    accuracy                           1.00     29433\n",
            "   macro avg       1.00      1.00      1.00     29433\n",
            "weighted avg       1.00      1.00      1.00     29433\n",
            "\n",
            "Accuracy Score :  1.0\n",
            "---------------------------------------\n",
            "\n"
          ]
        }
      ],
      "source": [
        "rf.fit(X_train,y_train)\n",
        "print_evaluation_metrics(rf,classifier_name,X_test,y_test)"
      ]
    },
    {
      "cell_type": "code",
      "execution_count": null,
      "id": "c8d3ab2b",
      "metadata": {
        "id": "c8d3ab2b"
      },
      "outputs": [],
      "source": [
        "there is a accuracy on the f score of 1 which does not make sense. So the use of booking in the training is not "
      ]
    },
    {
      "cell_type": "code",
      "execution_count": null,
      "id": "25e12a5a",
      "metadata": {
        "id": "25e12a5a",
        "outputId": "57b1eda1-89da-4aa1-d6b2-010f1565201e"
      },
      "outputs": [
        {
          "data": {
            "text/plain": [
              "site_id                        False\n",
              "visitor_location_country_id    False\n",
              "prop_country_id                False\n",
              "prop_starrating                False\n",
              "prop_review_score              False\n",
              "prop_brand_bool                False\n",
              "prop_location_score1           False\n",
              "prop_location_score2           False\n",
              "prop_log_historical_price      False\n",
              "position                       False\n",
              "price_usd                      False\n",
              "promotion_flag                 False\n",
              "srch_destination_id            False\n",
              "srch_length_of_stay            False\n",
              "srch_booking_window            False\n",
              "srch_adults_count              False\n",
              "srch_children_count            False\n",
              "srch_room_count                False\n",
              "srch_saturday_night_bool       False\n",
              "orig_destination_distance      False\n",
              "random_bool                    False\n",
              "click_bool                     False\n",
              "booking_bool                   False\n",
              "dtype: bool"
            ]
          },
          "execution_count": 164,
          "metadata": {},
          "output_type": "execute_result"
        }
      ],
      "source": [
        "np.isnan(np.sum(X))\n"
      ]
    },
    {
      "cell_type": "code",
      "execution_count": null,
      "id": "bcde7cff",
      "metadata": {
        "id": "bcde7cff",
        "outputId": "1b32a407-80d3-480f-b0dd-ca94ca2e53d5"
      },
      "outputs": [
        {
          "data": {
            "text/plain": [
              "prop_brand_bool\n",
              "0     463065\n",
              "1    1272428\n",
              "dtype: int64"
            ]
          },
          "execution_count": 105,
          "metadata": {},
          "output_type": "execute_result"
        }
      ],
      "source": [
        "us.groupby('prop_brand_bool').size()\n"
      ]
    },
    {
      "cell_type": "markdown",
      "id": "ba3416e9",
      "metadata": {
        "id": "ba3416e9"
      },
      "source": [
        "we can see that more than 73 % is from property brands "
      ]
    },
    {
      "cell_type": "code",
      "execution_count": null,
      "id": "e79c4558",
      "metadata": {
        "id": "e79c4558",
        "outputId": "d8f80ea3-83b2-49c9-c8af-1d9b100e5c26"
      },
      "outputs": [
        {
          "data": {
            "text/plain": [
              "price_usd\n",
              "0.05          1\n",
              "0.06          4\n",
              "0.07          3\n",
              "0.08         12\n",
              "0.09          8\n",
              "             ..\n",
              "353129.00     1\n",
              "411802.00     1\n",
              "423917.00     1\n",
              "538065.00     1\n",
              "722556.00     1\n",
              "Name: click_bool, Length: 15895, dtype: int64"
            ]
          },
          "execution_count": 101,
          "metadata": {},
          "output_type": "execute_result"
        }
      ],
      "source": [
        "us.groupby('price_usd')['click_bool'].size()\n"
      ]
    },
    {
      "cell_type": "code",
      "execution_count": null,
      "id": "b1bbf6c2",
      "metadata": {
        "id": "b1bbf6c2",
        "outputId": "e00078c8-df18-4771-e678-bcbb124cb156"
      },
      "outputs": [
        {
          "data": {
            "text/plain": [
              "price_usd  booking_bool  click_bool\n",
              "0.05       0             0              1\n",
              "0.06       0             0              3\n",
              "           1             1              1\n",
              "0.07       0             0              3\n",
              "0.08       0             0             12\n",
              "                                       ..\n",
              "353129.00  0             0              1\n",
              "411802.00  0             0              1\n",
              "423917.00  0             0              1\n",
              "538065.00  0             0              1\n",
              "722556.00  0             0              1\n",
              "Length: 17848, dtype: int64"
            ]
          },
          "execution_count": 99,
          "metadata": {},
          "output_type": "execute_result"
        }
      ],
      "source": [
        "us.groupby(['price_usd', 'booking_bool', 'click_bool']).size()\n"
      ]
    },
    {
      "cell_type": "code",
      "execution_count": null,
      "id": "5daca5b6",
      "metadata": {
        "id": "5daca5b6"
      },
      "outputs": [],
      "source": [
        ""
      ]
    },
    {
      "cell_type": "code",
      "execution_count": null,
      "id": "f52f340b",
      "metadata": {
        "collapsed": true,
        "id": "f52f340b"
      },
      "outputs": [],
      "source": [
        "from sklearn.model_selection import train_test_split \n",
        "from sklearn.ensemble import RandomForestClassifier \n",
        "from sklearn.datasets import make_classification  \n",
        "from sklearn import metrics \n",
        "\n",
        "\n",
        "X, y = make_classification(n_samples=1000, n_features=5,n_informative=2, n_redundant=0,random_state=0, shuffle=False)\n",
        "clf = RandomForestClassifier(max_depth=2, random_state=0)\n",
        "clf.fit(X, y)\n",
        "\n",
        "print(clf.predict([[0, 0, 0, 0, 0]]))\n"
      ]
    },
    {
      "cell_type": "code",
      "execution_count": null,
      "id": "1adbf030",
      "metadata": {
        "id": "1adbf030",
        "outputId": "fa59cd4f-20e5-4327-efab-ff7d2ae08814"
      },
      "outputs": [
        {
          "ename": "TypeError",
          "evalue": "'method' object is not subscriptable",
          "output_type": "error",
          "traceback": [
            "\u001b[1;31m---------------------------------------------------------------------------\u001b[0m",
            "\u001b[1;31mTypeError\u001b[0m                                 Traceback (most recent call last)",
            "\u001b[1;32m~\\AppData\\Local\\Temp/ipykernel_24732/3977104010.py\u001b[0m in \u001b[0;36m<module>\u001b[1;34m\u001b[0m\n\u001b[0;32m      8\u001b[0m \u001b[1;33m\u001b[0m\u001b[0m\n\u001b[0;32m      9\u001b[0m \u001b[0mclassifier\u001b[0m\u001b[1;33m.\u001b[0m\u001b[0mfit\u001b[0m\u001b[1;33m(\u001b[0m\u001b[0mX\u001b[0m\u001b[1;33m,\u001b[0m\u001b[0my\u001b[0m\u001b[1;33m)\u001b[0m\u001b[1;33m\u001b[0m\u001b[1;33m\u001b[0m\u001b[0m\n\u001b[1;32m---> 10\u001b[1;33m \u001b[0mprint\u001b[0m\u001b[1;33m(\u001b[0m\u001b[0mclassifier\u001b[0m\u001b[1;33m.\u001b[0m\u001b[0mpredict\u001b[0m\u001b[1;33m[\u001b[0m\u001b[1;33m[\u001b[0m\u001b[1;36m0\u001b[0m\u001b[1;33m,\u001b[0m \u001b[1;36m0\u001b[0m\u001b[1;33m,\u001b[0m \u001b[1;36m0\u001b[0m\u001b[1;33m,\u001b[0m \u001b[1;36m0\u001b[0m\u001b[1;33m]\u001b[0m\u001b[1;33m]\u001b[0m\u001b[1;33m)\u001b[0m\u001b[1;33m\u001b[0m\u001b[1;33m\u001b[0m\u001b[0m\n\u001b[0m\u001b[0;32m     11\u001b[0m \u001b[1;33m\u001b[0m\u001b[0m\n\u001b[0;32m     12\u001b[0m \u001b[1;33m\u001b[0m\u001b[0m\n",
            "\u001b[1;31mTypeError\u001b[0m: 'method' object is not subscriptable"
          ]
        }
      ],
      "source": [
        "from sklearn.ensemble import RandomForestClassifier \n",
        "from sklearn.datasets import make_classification  \n",
        "from sklearn import metrics \n",
        "\n",
        "X, y = make_classification(n_samples = 51, n_features = 5,  n_sample_split = 3)\n",
        "\n",
        "classifier = RandomForestClassifier(max_depth=2)\n",
        "\n",
        "def print_evaluation_metrics(trained_model,trained_model_name,X_test,y_test):\n",
        "    print('--------- Model : ', trained_model_name, ' ---------------\\n')\n",
        "    predicted_values = trained_model.predict(X)\n",
        "    print(metrics.classification_report(y_test,predicted_values))\n",
        "    print(\"Accuracy Score : \",metrics.accuracy_score(y_test,predicted_values))\n",
        "    print(\"---------------------------------------\\n\")\n",
        "    \n",
        "\n",
        "classifier_list, classifier_name_list = get_ensemble_models()\n",
        "for classifier,classifier_name in zip(classifier_list,classifier_name_list):\n",
        "    classifier.fit(X_train,y_train)\n",
        "    print_evaluation_metrics(classifier,classifier_name,X_test,y_test)\n",
        "\n",
        "classifier.fit(X,y) \n",
        "print()\n",
        "\n",
        "\n",
        "rf = RandomForestClassifier(n_estimators=51,min_samples_leaf=5,min_samples_split=3)\n",
        "rf.fit(X_train, y_train)\n",
        "(pd.Series(rf.feature_importances_, index=us_new.columns).plot(kind='barh'))\n",
        "\n",
        "\n"
      ]
    },
    {
      "cell_type": "code",
      "execution_count": null,
      "id": "69014dc8",
      "metadata": {
        "id": "69014dc8",
        "outputId": "70723308-3cda-4af7-9ad1-cdaf6cb12e75"
      },
      "outputs": [
        {
          "ename": "NameError",
          "evalue": "name 'X_train' is not defined",
          "output_type": "error",
          "traceback": [
            "\u001b[1;31m---------------------------------------------------------------------------\u001b[0m",
            "\u001b[1;31mNameError\u001b[0m                                 Traceback (most recent call last)",
            "\u001b[1;32m~\\AppData\\Local\\Temp/ipykernel_24732/310870946.py\u001b[0m in \u001b[0;36m<module>\u001b[1;34m\u001b[0m\n\u001b[0;32m     21\u001b[0m \u001b[0mclassifier_list\u001b[0m\u001b[1;33m,\u001b[0m \u001b[0mclassifier_name_list\u001b[0m \u001b[1;33m=\u001b[0m \u001b[0mget_ensemble_models\u001b[0m\u001b[1;33m(\u001b[0m\u001b[1;33m)\u001b[0m\u001b[1;33m\u001b[0m\u001b[1;33m\u001b[0m\u001b[0m\n\u001b[0;32m     22\u001b[0m \u001b[1;32mfor\u001b[0m \u001b[0mclassifier\u001b[0m\u001b[1;33m,\u001b[0m\u001b[0mclassifier_name\u001b[0m \u001b[1;32min\u001b[0m \u001b[0mzip\u001b[0m\u001b[1;33m(\u001b[0m\u001b[0mclassifier_list\u001b[0m\u001b[1;33m,\u001b[0m\u001b[0mclassifier_name_list\u001b[0m\u001b[1;33m)\u001b[0m\u001b[1;33m:\u001b[0m\u001b[1;33m\u001b[0m\u001b[1;33m\u001b[0m\u001b[0m\n\u001b[1;32m---> 23\u001b[1;33m     \u001b[0mclassifier\u001b[0m\u001b[1;33m.\u001b[0m\u001b[0mfit\u001b[0m\u001b[1;33m(\u001b[0m\u001b[0mX_train\u001b[0m\u001b[1;33m,\u001b[0m\u001b[0my_train\u001b[0m\u001b[1;33m)\u001b[0m\u001b[1;33m\u001b[0m\u001b[1;33m\u001b[0m\u001b[0m\n\u001b[0m\u001b[0;32m     24\u001b[0m     \u001b[0mprint_evaluation_metrics\u001b[0m\u001b[1;33m(\u001b[0m\u001b[0mclassifier\u001b[0m\u001b[1;33m,\u001b[0m\u001b[0mclassifier_name\u001b[0m\u001b[1;33m,\u001b[0m\u001b[0mX_test\u001b[0m\u001b[1;33m,\u001b[0m\u001b[0my_test\u001b[0m\u001b[1;33m)\u001b[0m\u001b[1;33m\u001b[0m\u001b[1;33m\u001b[0m\u001b[0m\n",
            "\u001b[1;31mNameError\u001b[0m: name 'X_train' is not defined"
          ]
        }
      ],
      "source": [
        "from sklearn.ensemble import RandomForestClassifier, AdaBoostClassifier, BaggingClassifier, ExtraTreesClassifier, GradientBoostingClassifier\n",
        "\n",
        "\n",
        "def get_ensemble_models():\n",
        "    rf =RandomForestClassifier(n_estimators=51,min_samples_leaf=5,min_samples_split=3)\n",
        "    bagg = BaggingClassifier(n_estimators=51,random_state=42)\n",
        "    extra = ExtraTreesClassifier(n_estimators=51,random_state=42)\n",
        "    ada = AdaBoostClassifier(n_estimators=51,random_state=42)\n",
        "    grad = GradientBoostingClassifier(n_estimators=51,random_state=42)\n",
        "    classifier_list = [rf,bagg,extra,ada,grad]\n",
        "    classifier_name_list = ['Random Forests','Bagging','Extra Trees','AdaBoost','Gradient Boost']\n",
        "    return classifier_list,classifier_name_list\n",
        "    \n",
        "def print_evaluation_metrics(trained_model,trained_model_name,X_test,y_test):\n",
        "    print('--------- Model : ', trained_model_name, ' ---------------\\n')\n",
        "    predicted_values = trained_model.predict(X_test)\n",
        "    print(metrics.classification_report(y_test,predicted_values))\n",
        "    print(\"Accuracy Score : \",metrics.accuracy_score(y_test,predicted_values))\n",
        "    print(\"---------------------------------------\\n\")\n",
        "    \n",
        "classifier_list, classifier_name_list = get_ensemble_models()\n",
        "for classifier,classifier_name in zip(classifier_list,classifier_name_list):\n",
        "    classifier.fit(X_train,y_train)\n",
        "    print_evaluation_metrics(classifier,classifier_name,X_test,y_test)"
      ]
    },
    {
      "cell_type": "code",
      "execution_count": null,
      "id": "6f359750",
      "metadata": {
        "id": "6f359750",
        "outputId": "82ff4c32-8c4d-429f-e0ee-7ade1995e942"
      },
      "outputs": [
        {
          "ename": "SyntaxError",
          "evalue": "invalid syntax (Temp/ipykernel_24732/267590177.py, line 1)",
          "output_type": "error",
          "traceback": [
            "\u001b[1;36m  File \u001b[1;32m\"C:\\Users\\nordi\\AppData\\Local\\Temp/ipykernel_24732/267590177.py\"\u001b[1;36m, line \u001b[1;32m1\u001b[0m\n\u001b[1;33m    def ensemble_models(x)\u001b[0m\n\u001b[1;37m                          ^\u001b[0m\n\u001b[1;31mSyntaxError\u001b[0m\u001b[1;31m:\u001b[0m invalid syntax\n"
          ]
        }
      ],
      "source": [
        "from sklearn.ensemble import AdaBoostClassifier\n",
        "from sklearn.datasets import make_classification \n",
        "\n",
        "# were interested in the bookings, property review score and visitor_hist_adr_usd \n",
        "X = train['gross_bookings_usd', 'prop_review_score', 'visitor_hist_adr_usd'] \n",
        "y = train[]\n",
        ">>> X, y = make_classification(n_samples=1000, n_features=4,\n",
        "...                            n_informative=2, n_redundant=0,\n",
        "...                            random_state=0, shuffle=False)\n",
        ">>> clf = AdaBoostClassifier(n_estimators=100, random_state=0)\n",
        ">>> clf.fit(X, y)\n",
        "AdaBoostClassifier(n_estimators=100, random_state=0)\n",
        ">>> clf.predict([[0, 0, 0, 0]])\n",
        "array([1])\n",
        ">>> clf.score(X, y)"
      ]
    },
    {
      "cell_type": "code",
      "execution_count": null,
      "id": "011fcee1",
      "metadata": {
        "id": "011fcee1",
        "outputId": "56b70c7f-b887-42cd-9937-0ecbcb7529e8"
      },
      "outputs": [
        {
          "name": "stdout",
          "output_type": "stream",
          "text": [
            "Series([], Name: date_time, dtype: datetime64[ns])\n"
          ]
        }
      ],
      "source": [
        "# data_time seems to be surrounded by quotation marks \n",
        "from datetime import datetime  \n",
        "\n",
        "\n",
        "\n",
        "\n",
        "\n",
        "\n",
        "\n",
        "df = pd.to_datetime(train.date_time, format='mm') \n",
        "print(df)\n"
      ]
    },
    {
      "cell_type": "code",
      "execution_count": null,
      "id": "64a0127a",
      "metadata": {
        "id": "64a0127a",
        "outputId": "903dfa94-63bd-4e12-95e4-e01797dd6e74"
      },
      "outputs": [
        {
          "ename": "KeyError",
          "evalue": "\"None of [Index(['id', 'visitor_hist_starrating  '], dtype='object')] are in the [columns]\"",
          "output_type": "error",
          "traceback": [
            "\u001b[1;31m---------------------------------------------------------------------------\u001b[0m",
            "\u001b[1;31mKeyError\u001b[0m                                  Traceback (most recent call last)",
            "\u001b[1;32m~\\AppData\\Local\\Temp/ipykernel_11748/3640073101.py\u001b[0m in \u001b[0;36m<module>\u001b[1;34m\u001b[0m\n\u001b[0;32m     13\u001b[0m \u001b[1;33m\u001b[0m\u001b[0m\n\u001b[0;32m     14\u001b[0m \u001b[1;33m\u001b[0m\u001b[0m\n\u001b[1;32m---> 15\u001b[1;33m \u001b[0mtrain\u001b[0m\u001b[1;33m[\u001b[0m\u001b[1;33m[\u001b[0m\u001b[1;34m'id'\u001b[0m\u001b[1;33m,\u001b[0m \u001b[1;34m'visitor_hist_starrating  '\u001b[0m\u001b[1;33m]\u001b[0m\u001b[1;33m]\u001b[0m  \u001b[1;33m=\u001b[0m \u001b[0mtrain\u001b[0m\u001b[1;33m[\u001b[0m\u001b[1;33m[\u001b[0m\u001b[1;34m'id'\u001b[0m\u001b[1;33m,\u001b[0m \u001b[1;34m'visitor_hist_starrating  '\u001b[0m\u001b[1;33m]\u001b[0m\u001b[1;33m]\u001b[0m\u001b[1;33m.\u001b[0m\u001b[0mreplace\u001b[0m\u001b[1;33m(\u001b[0m\u001b[1;36m0\u001b[0m\u001b[1;33m,\u001b[0m \u001b[0mnp\u001b[0m\u001b[1;33m.\u001b[0m\u001b[0mNaN\u001b[0m\u001b[1;33m)\u001b[0m\u001b[1;33m\u001b[0m\u001b[1;33m\u001b[0m\u001b[0m\n\u001b[0m\u001b[0;32m     16\u001b[0m \u001b[0mprint\u001b[0m\u001b[1;33m(\u001b[0m\u001b[0mtrain\u001b[0m\u001b[1;33m)\u001b[0m\u001b[1;33m\u001b[0m\u001b[1;33m\u001b[0m\u001b[0m\n",
            "\u001b[1;32m~\\anaconda3\\lib\\site-packages\\pandas\\core\\frame.py\u001b[0m in \u001b[0;36m__getitem__\u001b[1;34m(self, key)\u001b[0m\n\u001b[0;32m   3462\u001b[0m             \u001b[1;32mif\u001b[0m \u001b[0mis_iterator\u001b[0m\u001b[1;33m(\u001b[0m\u001b[0mkey\u001b[0m\u001b[1;33m)\u001b[0m\u001b[1;33m:\u001b[0m\u001b[1;33m\u001b[0m\u001b[1;33m\u001b[0m\u001b[0m\n\u001b[0;32m   3463\u001b[0m                 \u001b[0mkey\u001b[0m \u001b[1;33m=\u001b[0m \u001b[0mlist\u001b[0m\u001b[1;33m(\u001b[0m\u001b[0mkey\u001b[0m\u001b[1;33m)\u001b[0m\u001b[1;33m\u001b[0m\u001b[1;33m\u001b[0m\u001b[0m\n\u001b[1;32m-> 3464\u001b[1;33m             \u001b[0mindexer\u001b[0m \u001b[1;33m=\u001b[0m \u001b[0mself\u001b[0m\u001b[1;33m.\u001b[0m\u001b[0mloc\u001b[0m\u001b[1;33m.\u001b[0m\u001b[0m_get_listlike_indexer\u001b[0m\u001b[1;33m(\u001b[0m\u001b[0mkey\u001b[0m\u001b[1;33m,\u001b[0m \u001b[0maxis\u001b[0m\u001b[1;33m=\u001b[0m\u001b[1;36m1\u001b[0m\u001b[1;33m)\u001b[0m\u001b[1;33m[\u001b[0m\u001b[1;36m1\u001b[0m\u001b[1;33m]\u001b[0m\u001b[1;33m\u001b[0m\u001b[1;33m\u001b[0m\u001b[0m\n\u001b[0m\u001b[0;32m   3465\u001b[0m \u001b[1;33m\u001b[0m\u001b[0m\n\u001b[0;32m   3466\u001b[0m         \u001b[1;31m# take() does not accept boolean indexers\u001b[0m\u001b[1;33m\u001b[0m\u001b[1;33m\u001b[0m\u001b[0m\n",
            "\u001b[1;32m~\\anaconda3\\lib\\site-packages\\pandas\\core\\indexing.py\u001b[0m in \u001b[0;36m_get_listlike_indexer\u001b[1;34m(self, key, axis)\u001b[0m\n\u001b[0;32m   1312\u001b[0m             \u001b[0mkeyarr\u001b[0m\u001b[1;33m,\u001b[0m \u001b[0mindexer\u001b[0m\u001b[1;33m,\u001b[0m \u001b[0mnew_indexer\u001b[0m \u001b[1;33m=\u001b[0m \u001b[0max\u001b[0m\u001b[1;33m.\u001b[0m\u001b[0m_reindex_non_unique\u001b[0m\u001b[1;33m(\u001b[0m\u001b[0mkeyarr\u001b[0m\u001b[1;33m)\u001b[0m\u001b[1;33m\u001b[0m\u001b[1;33m\u001b[0m\u001b[0m\n\u001b[0;32m   1313\u001b[0m \u001b[1;33m\u001b[0m\u001b[0m\n\u001b[1;32m-> 1314\u001b[1;33m         \u001b[0mself\u001b[0m\u001b[1;33m.\u001b[0m\u001b[0m_validate_read_indexer\u001b[0m\u001b[1;33m(\u001b[0m\u001b[0mkeyarr\u001b[0m\u001b[1;33m,\u001b[0m \u001b[0mindexer\u001b[0m\u001b[1;33m,\u001b[0m \u001b[0maxis\u001b[0m\u001b[1;33m)\u001b[0m\u001b[1;33m\u001b[0m\u001b[1;33m\u001b[0m\u001b[0m\n\u001b[0m\u001b[0;32m   1315\u001b[0m \u001b[1;33m\u001b[0m\u001b[0m\n\u001b[0;32m   1316\u001b[0m         if needs_i8_conversion(ax.dtype) or isinstance(\n",
            "\u001b[1;32m~\\anaconda3\\lib\\site-packages\\pandas\\core\\indexing.py\u001b[0m in \u001b[0;36m_validate_read_indexer\u001b[1;34m(self, key, indexer, axis)\u001b[0m\n\u001b[0;32m   1372\u001b[0m                 \u001b[1;32mif\u001b[0m \u001b[0muse_interval_msg\u001b[0m\u001b[1;33m:\u001b[0m\u001b[1;33m\u001b[0m\u001b[1;33m\u001b[0m\u001b[0m\n\u001b[0;32m   1373\u001b[0m                     \u001b[0mkey\u001b[0m \u001b[1;33m=\u001b[0m \u001b[0mlist\u001b[0m\u001b[1;33m(\u001b[0m\u001b[0mkey\u001b[0m\u001b[1;33m)\u001b[0m\u001b[1;33m\u001b[0m\u001b[1;33m\u001b[0m\u001b[0m\n\u001b[1;32m-> 1374\u001b[1;33m                 \u001b[1;32mraise\u001b[0m \u001b[0mKeyError\u001b[0m\u001b[1;33m(\u001b[0m\u001b[1;34mf\"None of [{key}] are in the [{axis_name}]\"\u001b[0m\u001b[1;33m)\u001b[0m\u001b[1;33m\u001b[0m\u001b[1;33m\u001b[0m\u001b[0m\n\u001b[0m\u001b[0;32m   1375\u001b[0m \u001b[1;33m\u001b[0m\u001b[0m\n\u001b[0;32m   1376\u001b[0m             \u001b[0mnot_found\u001b[0m \u001b[1;33m=\u001b[0m \u001b[0mlist\u001b[0m\u001b[1;33m(\u001b[0m\u001b[0mensure_index\u001b[0m\u001b[1;33m(\u001b[0m\u001b[0mkey\u001b[0m\u001b[1;33m)\u001b[0m\u001b[1;33m[\u001b[0m\u001b[0mmissing_mask\u001b[0m\u001b[1;33m.\u001b[0m\u001b[0mnonzero\u001b[0m\u001b[1;33m(\u001b[0m\u001b[1;33m)\u001b[0m\u001b[1;33m[\u001b[0m\u001b[1;36m0\u001b[0m\u001b[1;33m]\u001b[0m\u001b[1;33m]\u001b[0m\u001b[1;33m.\u001b[0m\u001b[0munique\u001b[0m\u001b[1;33m(\u001b[0m\u001b[1;33m)\u001b[0m\u001b[1;33m)\u001b[0m\u001b[1;33m\u001b[0m\u001b[1;33m\u001b[0m\u001b[0m\n",
            "\u001b[1;31mKeyError\u001b[0m: \"None of [Index(['id', 'visitor_hist_starrating  '], dtype='object')] are in the [columns]\""
          ]
        }
      ],
      "source": [
        "# replacing the non numerical values for numerical values , as a preparation for building a model in later stage \n",
        "# we can see that the following features consist of NaN values which need to be replaced for numeric value \n",
        "#(visitor_hist_starrating, visitor_hist_adr_usd  ,  comp6_rate_percent_diff , comp7_rate , comp7_inv, comp7_rate_percent_diff  \n",
        "# comp8_rate, comp8_inv, comp8_rate_percent_diff, gross_bookings_usd        ) \n",
        "\n",
        "\n",
        "#train[['visitor_hist_starrating', 'visitor_hist_adr_usd', 'comp6_rate_percent_diff', 'comp7_rate', 'comp7_inv'\n",
        "#, 'comp7_rate_percent_diff', 'comp8_rate', 'comp8_inv', 'comp8_rate_percent_diff', 'gross_bookings_usd']] = train[['visitor_hist_starrating', 'visitor_hist_adr_usd', 'comp6_rate_percent_diff', 'comp7_rate', 'comp7_inv'\n",
        "#, 'comp7_rate_percent_diff', 'comp8_rate', 'comp8_inv', 'comp8_rate_percent_diff', 'gross_bookings_usd']].replace(0, np.NaN)\n",
        "\n",
        "\n",
        "#print(train)  \n",
        "\n",
        "df[\"MasVnrArea\"] = df[\"MasVnrArea\"].replace(np.nan, 0)\n",
        "\n",
        "train['visitor_hist_starrating'] = train['visitor_hist_starrating'].replace(np.NaN, 0)\n",
        "\n",
        "train[['id', 'visitor_hist_starrating  ']]  = train[['id', 'visitor_hist_starrating  ']].replace(0, np.NaN) \n",
        "print(train)"
      ]
    },
    {
      "cell_type": "code",
      "execution_count": null,
      "id": "13d09c5a",
      "metadata": {
        "id": "13d09c5a"
      },
      "outputs": [],
      "source": [
        ""
      ]
    },
    {
      "cell_type": "code",
      "execution_count": null,
      "id": "614e5bdd",
      "metadata": {
        "id": "614e5bdd"
      },
      "outputs": [],
      "source": [
        ""
      ]
    },
    {
      "cell_type": "code",
      "execution_count": null,
      "id": "5dc1411e",
      "metadata": {
        "id": "5dc1411e"
      },
      "outputs": [],
      "source": [
        ""
      ]
    }
  ],
  "metadata": {
    "celltoolbar": "Tags",
    "kernelspec": {
      "display_name": "Python 3 (ipykernel)",
      "language": "python",
      "name": "python3"
    },
    "language_info": {
      "codemirror_mode": {
        "name": "ipython",
        "version": 3
      },
      "file_extension": ".py",
      "mimetype": "text/x-python",
      "name": "python",
      "nbconvert_exporter": "python",
      "pygments_lexer": "ipython3",
      "version": "3.9.7"
    },
    "colab": {
      "name": "expedia_ranking_assignment_randomforestclassifier.ipynb",
      "provenance": [],
      "collapsed_sections": [],
      "include_colab_link": true
    }
  },
  "nbformat": 4,
  "nbformat_minor": 5
}